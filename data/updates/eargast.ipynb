{
 "cells": [
  {
   "cell_type": "code",
   "execution_count": 19,
   "metadata": {
    "ExecuteTime": {
     "end_time": "2023-06-27T03:43:51.232832Z",
     "start_time": "2023-06-27T03:43:51.228833Z"
    },
    "collapsed": true
   },
   "outputs": [],
   "source": [
    "import pandas as pd"
   ]
  },
  {
   "cell_type": "code",
   "execution_count": 20,
   "metadata": {
    "ExecuteTime": {
     "end_time": "2023-06-27T03:43:51.583803Z",
     "start_time": "2023-06-27T03:43:51.573931Z"
    },
    "collapsed": false
   },
   "outputs": [],
   "source": [
    "drivers = pd.read_csv('../ergast/drivers.csv')\n",
    "circuit = pd.read_csv('../ergast/circuits.csv')\n",
    "races = pd.read_csv('../ergast/races.csv')\n",
    "status = pd.read_csv('../ergast/status.csv')\n",
    "constructors = pd.read_csv('../ergast/constructors.csv')\n",
    "df = pd.read_csv('f1_2023_results.csv')"
   ]
  },
  {
   "cell_type": "code",
   "execution_count": 21,
   "metadata": {
    "ExecuteTime": {
     "end_time": "2023-06-27T03:43:52.026348Z",
     "start_time": "2023-06-27T03:43:52.023471Z"
    },
    "collapsed": false
   },
   "outputs": [
    {
     "data": {
      "text/html": [
       "<div>\n",
       "<style scoped>\n",
       "    .dataframe tbody tr th:only-of-type {\n",
       "        vertical-align: middle;\n",
       "    }\n",
       "\n",
       "    .dataframe tbody tr th {\n",
       "        vertical-align: top;\n",
       "    }\n",
       "\n",
       "    .dataframe thead th {\n",
       "        text-align: right;\n",
       "    }\n",
       "</style>\n",
       "<table border=\"1\" class=\"dataframe\">\n",
       "  <thead>\n",
       "    <tr style=\"text-align: right;\">\n",
       "      <th></th>\n",
       "      <th>raceName</th>\n",
       "      <th>round</th>\n",
       "      <th>date</th>\n",
       "      <th>driverId</th>\n",
       "      <th>number</th>\n",
       "      <th>time</th>\n",
       "      <th>milliseconds</th>\n",
       "      <th>rank</th>\n",
       "      <th>fastestLap</th>\n",
       "      <th>fastestLapTime</th>\n",
       "      <th>fastestLapSpeed</th>\n",
       "      <th>position</th>\n",
       "      <th>points</th>\n",
       "      <th>laps</th>\n",
       "      <th>status</th>\n",
       "      <th>grid</th>\n",
       "      <th>constructorId</th>\n",
       "    </tr>\n",
       "  </thead>\n",
       "  <tbody>\n",
       "    <tr>\n",
       "      <th>0</th>\n",
       "      <td>Bahrain Grand Prix</td>\n",
       "      <td>1</td>\n",
       "      <td>2023-03-05</td>\n",
       "      <td>max_verstappen</td>\n",
       "      <td>33</td>\n",
       "      <td>1:33:56.736</td>\n",
       "      <td>5636736.0</td>\n",
       "      <td>6.0</td>\n",
       "      <td>44.0</td>\n",
       "      <td>1:36.236</td>\n",
       "      <td>202.452</td>\n",
       "      <td>1</td>\n",
       "      <td>25</td>\n",
       "      <td>57</td>\n",
       "      <td>Finished</td>\n",
       "      <td>1</td>\n",
       "      <td>red_bull</td>\n",
       "    </tr>\n",
       "    <tr>\n",
       "      <th>1</th>\n",
       "      <td>Bahrain Grand Prix</td>\n",
       "      <td>1</td>\n",
       "      <td>2023-03-05</td>\n",
       "      <td>perez</td>\n",
       "      <td>11</td>\n",
       "      <td>+11.987</td>\n",
       "      <td>5648723.0</td>\n",
       "      <td>7.0</td>\n",
       "      <td>37.0</td>\n",
       "      <td>1:36.344</td>\n",
       "      <td>202.225</td>\n",
       "      <td>2</td>\n",
       "      <td>18</td>\n",
       "      <td>57</td>\n",
       "      <td>Finished</td>\n",
       "      <td>2</td>\n",
       "      <td>red_bull</td>\n",
       "    </tr>\n",
       "    <tr>\n",
       "      <th>2</th>\n",
       "      <td>Bahrain Grand Prix</td>\n",
       "      <td>1</td>\n",
       "      <td>2023-03-05</td>\n",
       "      <td>alonso</td>\n",
       "      <td>14</td>\n",
       "      <td>+38.637</td>\n",
       "      <td>5675373.0</td>\n",
       "      <td>5.0</td>\n",
       "      <td>36.0</td>\n",
       "      <td>1:36.156</td>\n",
       "      <td>202.620</td>\n",
       "      <td>3</td>\n",
       "      <td>15</td>\n",
       "      <td>57</td>\n",
       "      <td>Finished</td>\n",
       "      <td>5</td>\n",
       "      <td>aston_martin</td>\n",
       "    </tr>\n",
       "    <tr>\n",
       "      <th>3</th>\n",
       "      <td>Bahrain Grand Prix</td>\n",
       "      <td>1</td>\n",
       "      <td>2023-03-05</td>\n",
       "      <td>sainz</td>\n",
       "      <td>55</td>\n",
       "      <td>+48.052</td>\n",
       "      <td>5684788.0</td>\n",
       "      <td>14.0</td>\n",
       "      <td>37.0</td>\n",
       "      <td>1:37.130</td>\n",
       "      <td>200.588</td>\n",
       "      <td>4</td>\n",
       "      <td>12</td>\n",
       "      <td>57</td>\n",
       "      <td>Finished</td>\n",
       "      <td>4</td>\n",
       "      <td>ferrari</td>\n",
       "    </tr>\n",
       "    <tr>\n",
       "      <th>4</th>\n",
       "      <td>Bahrain Grand Prix</td>\n",
       "      <td>1</td>\n",
       "      <td>2023-03-05</td>\n",
       "      <td>hamilton</td>\n",
       "      <td>44</td>\n",
       "      <td>+50.977</td>\n",
       "      <td>5687713.0</td>\n",
       "      <td>10.0</td>\n",
       "      <td>36.0</td>\n",
       "      <td>1:36.546</td>\n",
       "      <td>201.802</td>\n",
       "      <td>5</td>\n",
       "      <td>10</td>\n",
       "      <td>57</td>\n",
       "      <td>Finished</td>\n",
       "      <td>7</td>\n",
       "      <td>mercedes</td>\n",
       "    </tr>\n",
       "    <tr>\n",
       "      <th>...</th>\n",
       "      <td>...</td>\n",
       "      <td>...</td>\n",
       "      <td>...</td>\n",
       "      <td>...</td>\n",
       "      <td>...</td>\n",
       "      <td>...</td>\n",
       "      <td>...</td>\n",
       "      <td>...</td>\n",
       "      <td>...</td>\n",
       "      <td>...</td>\n",
       "      <td>...</td>\n",
       "      <td>...</td>\n",
       "      <td>...</td>\n",
       "      <td>...</td>\n",
       "      <td>...</td>\n",
       "      <td>...</td>\n",
       "      <td>...</td>\n",
       "    </tr>\n",
       "    <tr>\n",
       "      <th>155</th>\n",
       "      <td>Canadian Grand Prix</td>\n",
       "      <td>8</td>\n",
       "      <td>2023-06-18</td>\n",
       "      <td>zhou</td>\n",
       "      <td>24</td>\n",
       "      <td>NaN</td>\n",
       "      <td>NaN</td>\n",
       "      <td>17.0</td>\n",
       "      <td>58.0</td>\n",
       "      <td>1:17.090</td>\n",
       "      <td>203.652</td>\n",
       "      <td>16</td>\n",
       "      <td>0</td>\n",
       "      <td>69</td>\n",
       "      <td>+1 Lap</td>\n",
       "      <td>20</td>\n",
       "      <td>alfa</td>\n",
       "    </tr>\n",
       "    <tr>\n",
       "      <th>156</th>\n",
       "      <td>Canadian Grand Prix</td>\n",
       "      <td>8</td>\n",
       "      <td>2023-06-18</td>\n",
       "      <td>kevin_magnussen</td>\n",
       "      <td>20</td>\n",
       "      <td>NaN</td>\n",
       "      <td>NaN</td>\n",
       "      <td>7.0</td>\n",
       "      <td>55.0</td>\n",
       "      <td>1:16.126</td>\n",
       "      <td>206.231</td>\n",
       "      <td>17</td>\n",
       "      <td>0</td>\n",
       "      <td>69</td>\n",
       "      <td>+1 Lap</td>\n",
       "      <td>13</td>\n",
       "      <td>haas</td>\n",
       "    </tr>\n",
       "    <tr>\n",
       "      <th>157</th>\n",
       "      <td>Canadian Grand Prix</td>\n",
       "      <td>8</td>\n",
       "      <td>2023-06-18</td>\n",
       "      <td>de_vries</td>\n",
       "      <td>21</td>\n",
       "      <td>NaN</td>\n",
       "      <td>NaN</td>\n",
       "      <td>13.0</td>\n",
       "      <td>52.0</td>\n",
       "      <td>1:16.656</td>\n",
       "      <td>204.805</td>\n",
       "      <td>18</td>\n",
       "      <td>0</td>\n",
       "      <td>69</td>\n",
       "      <td>+1 Lap</td>\n",
       "      <td>17</td>\n",
       "      <td>alphatauri</td>\n",
       "    </tr>\n",
       "    <tr>\n",
       "      <th>158</th>\n",
       "      <td>Canadian Grand Prix</td>\n",
       "      <td>8</td>\n",
       "      <td>2023-06-18</td>\n",
       "      <td>russell</td>\n",
       "      <td>63</td>\n",
       "      <td>NaN</td>\n",
       "      <td>NaN</td>\n",
       "      <td>18.0</td>\n",
       "      <td>44.0</td>\n",
       "      <td>1:17.097</td>\n",
       "      <td>203.634</td>\n",
       "      <td>19</td>\n",
       "      <td>0</td>\n",
       "      <td>53</td>\n",
       "      <td>Brakes</td>\n",
       "      <td>4</td>\n",
       "      <td>mercedes</td>\n",
       "    </tr>\n",
       "    <tr>\n",
       "      <th>159</th>\n",
       "      <td>Canadian Grand Prix</td>\n",
       "      <td>8</td>\n",
       "      <td>2023-06-18</td>\n",
       "      <td>sargeant</td>\n",
       "      <td>2</td>\n",
       "      <td>NaN</td>\n",
       "      <td>NaN</td>\n",
       "      <td>20.0</td>\n",
       "      <td>4.0</td>\n",
       "      <td>1:18.437</td>\n",
       "      <td>200.155</td>\n",
       "      <td>20</td>\n",
       "      <td>0</td>\n",
       "      <td>6</td>\n",
       "      <td>Engine</td>\n",
       "      <td>18</td>\n",
       "      <td>williams</td>\n",
       "    </tr>\n",
       "  </tbody>\n",
       "</table>\n",
       "<p>160 rows × 17 columns</p>\n",
       "</div>"
      ],
      "text/plain": [
       "                raceName  round        date         driverId  number  \\\n",
       "0     Bahrain Grand Prix      1  2023-03-05   max_verstappen      33   \n",
       "1     Bahrain Grand Prix      1  2023-03-05            perez      11   \n",
       "2     Bahrain Grand Prix      1  2023-03-05           alonso      14   \n",
       "3     Bahrain Grand Prix      1  2023-03-05            sainz      55   \n",
       "4     Bahrain Grand Prix      1  2023-03-05         hamilton      44   \n",
       "..                   ...    ...         ...              ...     ...   \n",
       "155  Canadian Grand Prix      8  2023-06-18             zhou      24   \n",
       "156  Canadian Grand Prix      8  2023-06-18  kevin_magnussen      20   \n",
       "157  Canadian Grand Prix      8  2023-06-18         de_vries      21   \n",
       "158  Canadian Grand Prix      8  2023-06-18          russell      63   \n",
       "159  Canadian Grand Prix      8  2023-06-18         sargeant       2   \n",
       "\n",
       "            time  milliseconds  rank  fastestLap fastestLapTime  \\\n",
       "0    1:33:56.736     5636736.0   6.0        44.0       1:36.236   \n",
       "1        +11.987     5648723.0   7.0        37.0       1:36.344   \n",
       "2        +38.637     5675373.0   5.0        36.0       1:36.156   \n",
       "3        +48.052     5684788.0  14.0        37.0       1:37.130   \n",
       "4        +50.977     5687713.0  10.0        36.0       1:36.546   \n",
       "..           ...           ...   ...         ...            ...   \n",
       "155          NaN           NaN  17.0        58.0       1:17.090   \n",
       "156          NaN           NaN   7.0        55.0       1:16.126   \n",
       "157          NaN           NaN  13.0        52.0       1:16.656   \n",
       "158          NaN           NaN  18.0        44.0       1:17.097   \n",
       "159          NaN           NaN  20.0         4.0       1:18.437   \n",
       "\n",
       "     fastestLapSpeed  position  points  laps    status  grid constructorId  \n",
       "0            202.452         1      25    57  Finished     1      red_bull  \n",
       "1            202.225         2      18    57  Finished     2      red_bull  \n",
       "2            202.620         3      15    57  Finished     5  aston_martin  \n",
       "3            200.588         4      12    57  Finished     4       ferrari  \n",
       "4            201.802         5      10    57  Finished     7      mercedes  \n",
       "..               ...       ...     ...   ...       ...   ...           ...  \n",
       "155          203.652        16       0    69    +1 Lap    20          alfa  \n",
       "156          206.231        17       0    69    +1 Lap    13          haas  \n",
       "157          204.805        18       0    69    +1 Lap    17    alphatauri  \n",
       "158          203.634        19       0    53    Brakes     4      mercedes  \n",
       "159          200.155        20       0     6    Engine    18      williams  \n",
       "\n",
       "[160 rows x 17 columns]"
      ]
     },
     "execution_count": 21,
     "metadata": {},
     "output_type": "execute_result"
    }
   ],
   "source": [
    "df"
   ]
  },
  {
   "cell_type": "code",
   "execution_count": null,
   "metadata": {
    "collapsed": false
   },
   "outputs": [],
   "source": [
    "# check if all drivers in df are in drivers.csv\n",
    "drivers_unique = df['driverId'].unique()\n",
    "drivers_ref_unique = drivers['driverRef'].unique().tolist()\n",
    "for driver in drivers_unique:\n",
    "    if driver not in drivers_ref_unique:\n",
    "        print(driver)\n",
    "drivers_unique"
   ]
  },
  {
   "cell_type": "code",
   "execution_count": null,
   "metadata": {
    "collapsed": false
   },
   "outputs": [],
   "source": [
    "# Based on the drivers driverRef, get the driverId and replace it in df\n",
    "driverId = []\n",
    "for driver in df['driverId']:\n",
    "    driverId.append(drivers[drivers['driverRef'] == driver]['driverId'].values[0])\n",
    "df['driverId'] = driverId\n",
    "\n",
    "# Based on the round and year, get the raceId and replace it in df\n",
    "raceId = []\n",
    "\n",
    "find_race_id = lambda x: races.loc[(x['date'] == races.date)]['raceId'].values[0]\n",
    "\n",
    "df['raceId'] = df.apply(find_race_id, axis=1)\n",
    "\n",
    "# Get the circuitId from races.csv and replace it in df\n",
    "find_circuit_id = lambda x: races.loc[x['raceId'] == races.raceId]['circuitId'].values[0]\n",
    "\n",
    "df['circuitId'] = df.apply(find_circuit_id, axis=1)\n",
    "\n",
    "# Get the statusId from status.csv and replace it in df\n",
    "find_status_id = lambda x: status.loc[x['status'] == status.status]['statusId'].values[0]\n",
    "\n",
    "df['statusId'] = df.apply(find_status_id, axis=1)\n",
    "\n",
    "# Get the constructorId from constructors.csv and replace it in df\n",
    "find_constructor_id = lambda x: constructors.loc[x['constructorId'] == constructors.constructorRef]['constructorId'].values[0]\n",
    "\n",
    "df['constructorId'] = df.apply(find_constructor_id, axis=1)"
   ]
  },
  {
   "cell_type": "code",
   "execution_count": null,
   "metadata": {
    "collapsed": false
   },
   "outputs": [],
   "source": [
    "results = pd.read_csv('ergast/results.csv')"
   ]
  },
  {
   "cell_type": "code",
   "execution_count": null,
   "metadata": {
    "collapsed": false
   },
   "outputs": [],
   "source": [
    "df['positionOrder'] = df['position']\n",
    "df['positionText'] = df['position']"
   ]
  },
  {
   "cell_type": "code",
   "execution_count": null,
   "metadata": {
    "collapsed": false
   },
   "outputs": [],
   "source": [
    "# sort based on the date and on the  revert positionOrder\n",
    "df = df.sort_values(by=['date', 'positionOrder'], ascending=[True, True])\n",
    "df[['date','position']]"
   ]
  },
  {
   "cell_type": "code",
   "execution_count": null,
   "metadata": {
    "collapsed": false
   },
   "outputs": [],
   "source": [
    "# get the last resultId\n",
    "last_resultId = results['resultId'].max()\n",
    "\n",
    "# create resultId in df\n",
    "df['resultId'] = range(last_resultId + 1, last_resultId + 1 + len(df))\n",
    "\n",
    "df[['resultId', 'date','position']]"
   ]
  },
  {
   "cell_type": "code",
   "execution_count": null,
   "metadata": {
    "collapsed": false
   },
   "outputs": [],
   "source": [
    "df_final = df[results.columns.tolist()]"
   ]
  },
  {
   "cell_type": "code",
   "execution_count": null,
   "metadata": {
    "collapsed": false
   },
   "outputs": [],
   "source": [
    "results = pd.concat([results, df_final])"
   ]
  },
  {
   "cell_type": "code",
   "execution_count": null,
   "metadata": {
    "collapsed": false
   },
   "outputs": [],
   "source": [
    "results"
   ]
  },
  {
   "cell_type": "code",
   "execution_count": null,
   "metadata": {
    "collapsed": false
   },
   "outputs": [],
   "source": [
    "results.to_csv('../ergast/results_update.csv', index=False)"
   ]
  },
  {
   "cell_type": "code",
   "execution_count": 57,
   "metadata": {
    "collapsed": false,
    "ExecuteTime": {
     "end_time": "2023-06-27T03:57:57.271507Z",
     "start_time": "2023-06-27T03:57:57.259152Z"
    }
   },
   "outputs": [],
   "source": [
    "driver_stand = pd.read_csv('../ergast/driver_standings.csv')\n",
    "df = pd.read_csv('f1_2023_standings_by_round.csv')"
   ]
  },
  {
   "cell_type": "code",
   "execution_count": 58,
   "metadata": {
    "collapsed": false,
    "ExecuteTime": {
     "end_time": "2023-06-27T03:58:00.358919Z",
     "start_time": "2023-06-27T03:58:00.322040Z"
    }
   },
   "outputs": [],
   "source": [
    "# Based on the drivers driverRef, get the driverId and replace it in df\n",
    "driverId = []\n",
    "for driver in df['driverId']:\n",
    "    driverId.append(drivers[drivers['driverRef'] == driver]['driverId'].values[0])\n",
    "df['driverId'] = driverId\n",
    "\n",
    "\n",
    "df['positionText'] = df['position']\n",
    "df['positionText'] = df['positionText'].astype(str)\n",
    "\n",
    "\n",
    "# get the raceId based on the round an considering the year 2023\n",
    "raceId = []\n",
    "\n",
    "def find_race_id(x):\n",
    "    return races.loc[(int(x['round']) == races['round']) & (2023 == races['year'])]['raceId'].values[0]\n",
    "\n",
    "df['raceId'] = df.apply(find_race_id, axis=1)"
   ]
  },
  {
   "cell_type": "code",
   "execution_count": 71,
   "metadata": {
    "collapsed": false,
    "ExecuteTime": {
     "end_time": "2023-06-27T04:01:48.285055Z",
     "start_time": "2023-06-27T04:01:48.277676Z"
    }
   },
   "outputs": [
    {
     "data": {
      "text/plain": "    round  position  points  wins  driverId constructorId positionText  \\\n10      1        11       0     0       852    alphatauri           11   \n11      1        12       0     0       858      williams           12   \n12      1        13       0     0       825          haas           13   \n13      1        14       0     0       856    alphatauri           14   \n14      1        15       0     0       807          haas           15   \n15      1        16       0     0       855          alfa           16   \n16      1        17       0     0       846       mclaren           17   \n17      1        18       0     0       839        alpine           18   \n18      1        19       0     0       844       ferrari           19   \n19      1        20       0     0       857       mclaren           20   \n9       1        10       1     0       848      williams           10   \n8       1         9       2     0       842        alpine            9   \n7       1         8       4     0       822          alfa            8   \n6       1         7       6     0       847      mercedes            7   \n5       1         6       8     0       840  aston_martin            6   \n4       1         5      10     0         1      mercedes            5   \n3       1         4      12     0       832       ferrari            4   \n2       1         3      15     0         4  aston_martin            3   \n1       1         2      18     0       815      red_bull            2   \n0       1         1      25     1       830      red_bull            1   \n\n    raceId  driverStandingsId  \n10    1098              71856  \n11    1098              71857  \n12    1098              71858  \n13    1098              71859  \n14    1098              71860  \n15    1098              71861  \n16    1098              71862  \n17    1098              71863  \n18    1098              71864  \n19    1098              71865  \n9     1098              71855  \n8     1098              71854  \n7     1098              71853  \n6     1098              71852  \n5     1098              71851  \n4     1098              71850  \n3     1098              71849  \n2     1098              71848  \n1     1098              71847  \n0     1098              71846  ",
      "text/html": "<div>\n<style scoped>\n    .dataframe tbody tr th:only-of-type {\n        vertical-align: middle;\n    }\n\n    .dataframe tbody tr th {\n        vertical-align: top;\n    }\n\n    .dataframe thead th {\n        text-align: right;\n    }\n</style>\n<table border=\"1\" class=\"dataframe\">\n  <thead>\n    <tr style=\"text-align: right;\">\n      <th></th>\n      <th>round</th>\n      <th>position</th>\n      <th>points</th>\n      <th>wins</th>\n      <th>driverId</th>\n      <th>constructorId</th>\n      <th>positionText</th>\n      <th>raceId</th>\n      <th>driverStandingsId</th>\n    </tr>\n  </thead>\n  <tbody>\n    <tr>\n      <th>10</th>\n      <td>1</td>\n      <td>11</td>\n      <td>0</td>\n      <td>0</td>\n      <td>852</td>\n      <td>alphatauri</td>\n      <td>11</td>\n      <td>1098</td>\n      <td>71856</td>\n    </tr>\n    <tr>\n      <th>11</th>\n      <td>1</td>\n      <td>12</td>\n      <td>0</td>\n      <td>0</td>\n      <td>858</td>\n      <td>williams</td>\n      <td>12</td>\n      <td>1098</td>\n      <td>71857</td>\n    </tr>\n    <tr>\n      <th>12</th>\n      <td>1</td>\n      <td>13</td>\n      <td>0</td>\n      <td>0</td>\n      <td>825</td>\n      <td>haas</td>\n      <td>13</td>\n      <td>1098</td>\n      <td>71858</td>\n    </tr>\n    <tr>\n      <th>13</th>\n      <td>1</td>\n      <td>14</td>\n      <td>0</td>\n      <td>0</td>\n      <td>856</td>\n      <td>alphatauri</td>\n      <td>14</td>\n      <td>1098</td>\n      <td>71859</td>\n    </tr>\n    <tr>\n      <th>14</th>\n      <td>1</td>\n      <td>15</td>\n      <td>0</td>\n      <td>0</td>\n      <td>807</td>\n      <td>haas</td>\n      <td>15</td>\n      <td>1098</td>\n      <td>71860</td>\n    </tr>\n    <tr>\n      <th>15</th>\n      <td>1</td>\n      <td>16</td>\n      <td>0</td>\n      <td>0</td>\n      <td>855</td>\n      <td>alfa</td>\n      <td>16</td>\n      <td>1098</td>\n      <td>71861</td>\n    </tr>\n    <tr>\n      <th>16</th>\n      <td>1</td>\n      <td>17</td>\n      <td>0</td>\n      <td>0</td>\n      <td>846</td>\n      <td>mclaren</td>\n      <td>17</td>\n      <td>1098</td>\n      <td>71862</td>\n    </tr>\n    <tr>\n      <th>17</th>\n      <td>1</td>\n      <td>18</td>\n      <td>0</td>\n      <td>0</td>\n      <td>839</td>\n      <td>alpine</td>\n      <td>18</td>\n      <td>1098</td>\n      <td>71863</td>\n    </tr>\n    <tr>\n      <th>18</th>\n      <td>1</td>\n      <td>19</td>\n      <td>0</td>\n      <td>0</td>\n      <td>844</td>\n      <td>ferrari</td>\n      <td>19</td>\n      <td>1098</td>\n      <td>71864</td>\n    </tr>\n    <tr>\n      <th>19</th>\n      <td>1</td>\n      <td>20</td>\n      <td>0</td>\n      <td>0</td>\n      <td>857</td>\n      <td>mclaren</td>\n      <td>20</td>\n      <td>1098</td>\n      <td>71865</td>\n    </tr>\n    <tr>\n      <th>9</th>\n      <td>1</td>\n      <td>10</td>\n      <td>1</td>\n      <td>0</td>\n      <td>848</td>\n      <td>williams</td>\n      <td>10</td>\n      <td>1098</td>\n      <td>71855</td>\n    </tr>\n    <tr>\n      <th>8</th>\n      <td>1</td>\n      <td>9</td>\n      <td>2</td>\n      <td>0</td>\n      <td>842</td>\n      <td>alpine</td>\n      <td>9</td>\n      <td>1098</td>\n      <td>71854</td>\n    </tr>\n    <tr>\n      <th>7</th>\n      <td>1</td>\n      <td>8</td>\n      <td>4</td>\n      <td>0</td>\n      <td>822</td>\n      <td>alfa</td>\n      <td>8</td>\n      <td>1098</td>\n      <td>71853</td>\n    </tr>\n    <tr>\n      <th>6</th>\n      <td>1</td>\n      <td>7</td>\n      <td>6</td>\n      <td>0</td>\n      <td>847</td>\n      <td>mercedes</td>\n      <td>7</td>\n      <td>1098</td>\n      <td>71852</td>\n    </tr>\n    <tr>\n      <th>5</th>\n      <td>1</td>\n      <td>6</td>\n      <td>8</td>\n      <td>0</td>\n      <td>840</td>\n      <td>aston_martin</td>\n      <td>6</td>\n      <td>1098</td>\n      <td>71851</td>\n    </tr>\n    <tr>\n      <th>4</th>\n      <td>1</td>\n      <td>5</td>\n      <td>10</td>\n      <td>0</td>\n      <td>1</td>\n      <td>mercedes</td>\n      <td>5</td>\n      <td>1098</td>\n      <td>71850</td>\n    </tr>\n    <tr>\n      <th>3</th>\n      <td>1</td>\n      <td>4</td>\n      <td>12</td>\n      <td>0</td>\n      <td>832</td>\n      <td>ferrari</td>\n      <td>4</td>\n      <td>1098</td>\n      <td>71849</td>\n    </tr>\n    <tr>\n      <th>2</th>\n      <td>1</td>\n      <td>3</td>\n      <td>15</td>\n      <td>0</td>\n      <td>4</td>\n      <td>aston_martin</td>\n      <td>3</td>\n      <td>1098</td>\n      <td>71848</td>\n    </tr>\n    <tr>\n      <th>1</th>\n      <td>1</td>\n      <td>2</td>\n      <td>18</td>\n      <td>0</td>\n      <td>815</td>\n      <td>red_bull</td>\n      <td>2</td>\n      <td>1098</td>\n      <td>71847</td>\n    </tr>\n    <tr>\n      <th>0</th>\n      <td>1</td>\n      <td>1</td>\n      <td>25</td>\n      <td>1</td>\n      <td>830</td>\n      <td>red_bull</td>\n      <td>1</td>\n      <td>1098</td>\n      <td>71846</td>\n    </tr>\n  </tbody>\n</table>\n</div>"
     },
     "execution_count": 71,
     "metadata": {},
     "output_type": "execute_result"
    }
   ],
   "source": [
    "df = df.sort_values(by=['round', 'points'], ascending=[True,True])\n",
    "df.loc[df['round'] == 1]"
   ]
  },
  {
   "cell_type": "code",
   "execution_count": 78,
   "outputs": [],
   "source": [
    "last_driverStandingsId = driver_stand['driverStandingsId'].max()\n",
    "\n",
    "df['driverStandingsId'] = range(last_driverStandingsId + 1, last_driverStandingsId + 1 + len(df))"
   ],
   "metadata": {
    "collapsed": false,
    "ExecuteTime": {
     "end_time": "2023-06-27T04:07:52.176809Z",
     "start_time": "2023-06-27T04:07:52.173757Z"
    }
   }
  },
  {
   "cell_type": "code",
   "execution_count": 81,
   "outputs": [],
   "source": [
    "driver_stand = pd.concat([driver_stand,df[driver_stand.columns.tolist()]])\n",
    "driver_stand.to_csv('../ergast/driver_standings_update.csv', index=False)"
   ],
   "metadata": {
    "collapsed": false,
    "ExecuteTime": {
     "end_time": "2023-06-27T04:42:33.941665Z",
     "start_time": "2023-06-27T04:42:33.890265Z"
    }
   }
  },
  {
   "cell_type": "code",
   "execution_count": null,
   "outputs": [],
   "source": [],
   "metadata": {
    "collapsed": false
   }
  }
 ],
 "metadata": {
  "kernelspec": {
   "display_name": "Python 3",
   "language": "python",
   "name": "python3"
  },
  "language_info": {
   "codemirror_mode": {
    "name": "ipython",
    "version": 2
   },
   "file_extension": ".py",
   "mimetype": "text/x-python",
   "name": "python",
   "nbconvert_exporter": "python",
   "pygments_lexer": "ipython2",
   "version": "2.7.6"
  }
 },
 "nbformat": 4,
 "nbformat_minor": 0
}
