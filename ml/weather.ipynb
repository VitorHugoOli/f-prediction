{
 "cells": [
  {
   "cell_type": "code",
   "execution_count": 2,
   "metadata": {
    "collapsed": true,
    "ExecuteTime": {
     "end_time": "2023-06-21T06:06:02.970451Z",
     "start_time": "2023-06-21T06:06:02.712543Z"
    }
   },
   "outputs": [],
   "source": [
    "from datetime import datetime\n",
    "\n",
    "import pandas as pd\n",
    "import requests\n",
    "import numpy as np\n",
    "\n",
    "df = pd.read_csv('../data/ergast/races.csv')\n",
    "df = df.merge(pd.read_csv('../data/ergast/circuits.csv'), on='circuitId')\n",
    "visited_races = {}"
   ]
  },
  {
   "cell_type": "code",
   "execution_count": 3,
   "metadata": {
    "collapsed": false,
    "ExecuteTime": {
     "end_time": "2023-06-21T06:06:03.078992Z",
     "start_time": "2023-06-21T06:06:03.077649Z"
    }
   },
   "outputs": [],
   "source": [
    "WMO_LABELS = {\n",
    "    \"dry\": [range(0, 20)],\n",
    "    \"rain\": [range(20, 22), range(24, 26), range(50, 60), range(60, 68), range(80, 83), range(87, 90), range(91, 93)],\n",
    "    \"dust\": [range(30, 50)],\n",
    "    \"snow\": [22, 23, 26, range(68, 80), 83, 84, 85, 86, 93, 94]\n",
    "}\n",
    "\n",
    "\n",
    "def get_label(code):\n",
    "    for label, codes in WMO_LABELS.items():\n",
    "        if any(code in code_range for code_range in codes):\n",
    "            return label\n",
    "    return \"Unknown\"\n",
    "\n",
    "\n",
    "def parse_time(time_str):\n",
    "    # check if time_str is string\n",
    "    if not isinstance(time_str, str):\n",
    "        time_str = '12:00:00'\n",
    "    return datetime.strptime(time_str, '%H:%M:%S').time()"
   ]
  },
  {
   "cell_type": "code",
   "execution_count": null,
   "metadata": {
    "collapsed": false
   },
   "outputs": [],
   "source": [
    "df = df.replace('\\\\N', np.nan)"
   ]
  },
  {
   "cell_type": "code",
   "execution_count": null,
   "metadata": {
    "collapsed": false
   },
   "outputs": [],
   "source": [
    "from tqdm import tqdm\n",
    "from concurrent.futures import ThreadPoolExecutor\n",
    "from multiprocessing import Pool\n",
    "from threading import Thread\n",
    "import numpy as np\n",
    "\n",
    "\n",
    "def get_weather_data(row):\n",
    "    race_id = row['raceId']\n",
    "    date = row['date']\n",
    "\n",
    "    if race_id not in visited_races or np.isnan(visited_races[race_id]['humidity']):\n",
    "        try:\n",
    "            url = \"https://archive-api.open-meteo.com/v1/archive\"\n",
    "            params = {\n",
    "                \"latitude\": row[\"lat\"],\n",
    "                \"longitude\": row[\"lng\"],\n",
    "                \"start_date\": date,\n",
    "                \"end_date\": date,\n",
    "                \"hourly\": \"relativehumidity_2m,weathercode,temperature_2m\"\n",
    "            }\n",
    "\n",
    "            response = requests.get(url, params=params)\n",
    "            data = response.json()\n",
    "\n",
    "            weather_data = data['hourly']\n",
    "            weathercode = weather_data['weathercode']\n",
    "            humidity_data = weather_data['relativehumidity_2m']\n",
    "            temperature_data = weather_data['temperature_2m']\n",
    "            hour_race = parse_time(row['time'])\n",
    "            weather_condition = get_label(weathercode[hour_race.hour])\n",
    "            humidity = np.mean(humidity_data[hour_race.hour:hour_race.hour + 3])\n",
    "            temperature = np.mean(temperature_data[hour_race.hour:hour_race.hour + 3])\n",
    "            wmo_code = weathercode[hour_race.hour]\n",
    "\n",
    "        except Exception as e:\n",
    "            print(\"Error: \", e)\n",
    "            weather_condition = np.nan\n",
    "            humidity = np.nan\n",
    "            wmo_code = np.nan\n",
    "            temperature = np.nan\n",
    "\n",
    "        visited_races[race_id] = {'weather_condition': weather_condition, 'humidity': humidity, 'wmo_code': wmo_code,\n",
    "                                  'temperature': temperature}\n",
    "\n",
    "\n",
    "def get_weather_data_parallel(df):\n",
    "    with ThreadPoolExecutor() as pool:\n",
    "        results = list(tqdm(pool.map(get_weather_data, df.to_dict('records')), total=len(df)))\n",
    "\n",
    "    return results\n",
    "\n",
    "\n",
    "get_weather_data_parallel(df[pd.to_datetime(df['date']) < datetime.now()])"
   ]
  },
  {
   "cell_type": "code",
   "execution_count": 4,
   "outputs": [
    {
     "name": "stdout",
     "output_type": "stream",
     "text": [
      "rain 67.66666666666667 23.066666666666666\n"
     ]
    }
   ],
   "source": [
    "def get_forecat():\n",
    "    url = 'https://api.open-meteo.com/v1/forecast?latitude=47.2197&longitude=14.7647&start_date=2023-07-02&end_date=2023-07-02&hourly=relativehumidity_2m%2Cweathercode%2Ctemperature_2m'\n",
    "\n",
    "    response = requests.get(url)\n",
    "    data = response.json()\n",
    "\n",
    "    weather_data = data['hourly']\n",
    "\n",
    "    weathercode = weather_data['weathercode']\n",
    "    humidity_data = weather_data['relativehumidity_2m']\n",
    "    temperature_data = weather_data['temperature_2m']\n",
    "    time = \"13:00:00\"\n",
    "    time = datetime.strptime(time, '%H:%M:%S').time()\n",
    "    weather_condition = get_label(weathercode[time.hour])\n",
    "    humidity = np.mean(humidity_data[time.hour:time.hour + 3])\n",
    "    temperature = np.mean(temperature_data[time.hour:time.hour + 3])\n",
    "\n",
    "    print(weather_condition, humidity, temperature)\n",
    "\n",
    "get_forecat()"
   ],
   "metadata": {
    "collapsed": false,
    "ExecuteTime": {
     "end_time": "2023-06-21T06:06:08.209782Z",
     "start_time": "2023-06-21T06:06:06.961166Z"
    }
   }
  },
  {
   "cell_type": "code",
   "execution_count": null,
   "metadata": {
    "collapsed": false
   },
   "outputs": [],
   "source": [
    "import json\n",
    "\n",
    "# visited_races to df\n",
    "df_wh = pd.read_json(json.dumps(visited_races), orient='index')\n",
    "df_wh.to_csv('data/weather.csv')"
   ]
  },
  {
   "cell_type": "code",
   "execution_count": 7,
   "outputs": [
    {
     "data": {
      "text/plain": "      raceId  year  round  circuitId                    name_x        date  \\\n235      833  1950      1          9        British Grand Prix  1950-05-13   \n170      834  1950      2          6         Monaco Grand Prix  1950-05-21   \n684      835  1950      3         19          Indianapolis 500  1950-05-30   \n1059     836  1950      4         66          Swiss Grand Prix  1950-06-04   \n376      837  1950      5         13        Belgian Grand Prix  1950-06-18   \n...      ...   ...    ...        ...                       ...         ...   \n1075    1116  2023     19         69  United States Grand Prix  2023-10-22   \n849     1117  2023     20         32    Mexico City Grand Prix  2023-10-29   \n549     1118  2023     21         18      São Paulo Grand Prix  2023-11-05   \n1101    1119  2023     22         80      Las Vegas Grand Prix  2023-11-19   \n564     1120  2023     23         24      Abu Dhabi Grand Prix  2023-11-26   \n\n          time                                              url_x    fp1_date  \\\n235         \\N  http://en.wikipedia.org/wiki/1950_British_Gran...          \\N   \n170         \\N  http://en.wikipedia.org/wiki/1950_Monaco_Grand...          \\N   \n684         \\N  http://en.wikipedia.org/wiki/1950_Indianapolis...          \\N   \n1059        \\N  http://en.wikipedia.org/wiki/1950_Swiss_Grand_...          \\N   \n376         \\N  http://en.wikipedia.org/wiki/1950_Belgian_Gran...          \\N   \n...        ...                                                ...         ...   \n1075  19:00:00  https://en.wikipedia.org/wiki/2023_United_Stat...  2023-10-20   \n849   20:00:00  https://en.wikipedia.org/wiki/2023_Mexico_City...  2023-10-27   \n549   17:00:00  https://en.wikipedia.org/wiki/2023_S%C3%A3o_Pa...  2023-11-03   \n1101  06:00:00  https://en.wikipedia.org/wiki/2023_Las_Vegas_G...  2023-11-17   \n564   13:00:00  https://en.wikipedia.org/wiki/2023_Abu_Dhabi_G...  2023-11-24   \n\n      fp1_time  ... sprint_date sprint_time    circuitRef  \\\n235         \\N  ...          \\N          \\N   silverstone   \n170         \\N  ...          \\N          \\N        monaco   \n684         \\N  ...          \\N          \\N  indianapolis   \n1059        \\N  ...          \\N          \\N    bremgarten   \n376         \\N  ...          \\N          \\N           spa   \n...        ...  ...         ...         ...           ...   \n1075  17:30:00  ...  2023-10-21    22:00:00      americas   \n849   18:30:00  ...          \\N          \\N     rodriguez   \n549   14:30:00  ...  2023-11-04    18:30:00    interlagos   \n1101  04:30:00  ...          \\N          \\N         vegas   \n564   09:30:00  ...          \\N          \\N    yas_marina   \n\n                              name_y      location        country      lat  \\\n235              Silverstone Circuit   Silverstone             UK  52.0786   \n170                Circuit de Monaco   Monte-Carlo         Monaco  43.7347   \n684      Indianapolis Motor Speedway  Indianapolis            USA  39.7950   \n1059              Circuit Bremgarten          Bern    Switzerland  46.9589   \n376     Circuit de Spa-Francorchamps           Spa        Belgium  50.4372   \n...                              ...           ...            ...      ...   \n1075         Circuit of the Americas        Austin            USA  30.1328   \n849     Autódromo Hermanos Rodríguez   Mexico City         Mexico  19.4042   \n549       Autódromo José Carlos Pace     São Paulo         Brazil -23.7036   \n1101  Las Vegas Strip Street Circuit     Las Vegas  United States  36.1147   \n564               Yas Marina Circuit     Abu Dhabi            UAE  24.4672   \n\n            lng     alt                                              url_y  \n235    -1.01694   153.0   http://en.wikipedia.org/wiki/Silverstone_Circuit  \n170     7.42056     7.0     http://en.wikipedia.org/wiki/Circuit_de_Monaco  \n684   -86.23470   223.0  http://en.wikipedia.org/wiki/Indianapolis_Moto...  \n1059    7.40194   551.0    http://en.wikipedia.org/wiki/Circuit_Bremgarten  \n376     5.97139   401.0  http://en.wikipedia.org/wiki/Circuit_de_Spa-Fr...  \n...         ...     ...                                                ...  \n1075  -97.64110   161.0  http://en.wikipedia.org/wiki/Circuit_of_the_Am...  \n849   -99.09070  2227.0  http://en.wikipedia.org/wiki/Aut%C3%B3dromo_He...  \n549   -46.69970   785.0  http://en.wikipedia.org/wiki/Aut%C3%B3dromo_Jo...  \n1101 -115.17300     0.6  https://en.wikipedia.org/wiki/Las_Vegas_Grand_...  \n564    54.60310     3.0    http://en.wikipedia.org/wiki/Yas_Marina_Circuit  \n\n[1102 rows x 26 columns]",
      "text/html": "<div>\n<style scoped>\n    .dataframe tbody tr th:only-of-type {\n        vertical-align: middle;\n    }\n\n    .dataframe tbody tr th {\n        vertical-align: top;\n    }\n\n    .dataframe thead th {\n        text-align: right;\n    }\n</style>\n<table border=\"1\" class=\"dataframe\">\n  <thead>\n    <tr style=\"text-align: right;\">\n      <th></th>\n      <th>raceId</th>\n      <th>year</th>\n      <th>round</th>\n      <th>circuitId</th>\n      <th>name_x</th>\n      <th>date</th>\n      <th>time</th>\n      <th>url_x</th>\n      <th>fp1_date</th>\n      <th>fp1_time</th>\n      <th>...</th>\n      <th>sprint_date</th>\n      <th>sprint_time</th>\n      <th>circuitRef</th>\n      <th>name_y</th>\n      <th>location</th>\n      <th>country</th>\n      <th>lat</th>\n      <th>lng</th>\n      <th>alt</th>\n      <th>url_y</th>\n    </tr>\n  </thead>\n  <tbody>\n    <tr>\n      <th>235</th>\n      <td>833</td>\n      <td>1950</td>\n      <td>1</td>\n      <td>9</td>\n      <td>British Grand Prix</td>\n      <td>1950-05-13</td>\n      <td>\\N</td>\n      <td>http://en.wikipedia.org/wiki/1950_British_Gran...</td>\n      <td>\\N</td>\n      <td>\\N</td>\n      <td>...</td>\n      <td>\\N</td>\n      <td>\\N</td>\n      <td>silverstone</td>\n      <td>Silverstone Circuit</td>\n      <td>Silverstone</td>\n      <td>UK</td>\n      <td>52.0786</td>\n      <td>-1.01694</td>\n      <td>153.0</td>\n      <td>http://en.wikipedia.org/wiki/Silverstone_Circuit</td>\n    </tr>\n    <tr>\n      <th>170</th>\n      <td>834</td>\n      <td>1950</td>\n      <td>2</td>\n      <td>6</td>\n      <td>Monaco Grand Prix</td>\n      <td>1950-05-21</td>\n      <td>\\N</td>\n      <td>http://en.wikipedia.org/wiki/1950_Monaco_Grand...</td>\n      <td>\\N</td>\n      <td>\\N</td>\n      <td>...</td>\n      <td>\\N</td>\n      <td>\\N</td>\n      <td>monaco</td>\n      <td>Circuit de Monaco</td>\n      <td>Monte-Carlo</td>\n      <td>Monaco</td>\n      <td>43.7347</td>\n      <td>7.42056</td>\n      <td>7.0</td>\n      <td>http://en.wikipedia.org/wiki/Circuit_de_Monaco</td>\n    </tr>\n    <tr>\n      <th>684</th>\n      <td>835</td>\n      <td>1950</td>\n      <td>3</td>\n      <td>19</td>\n      <td>Indianapolis 500</td>\n      <td>1950-05-30</td>\n      <td>\\N</td>\n      <td>http://en.wikipedia.org/wiki/1950_Indianapolis...</td>\n      <td>\\N</td>\n      <td>\\N</td>\n      <td>...</td>\n      <td>\\N</td>\n      <td>\\N</td>\n      <td>indianapolis</td>\n      <td>Indianapolis Motor Speedway</td>\n      <td>Indianapolis</td>\n      <td>USA</td>\n      <td>39.7950</td>\n      <td>-86.23470</td>\n      <td>223.0</td>\n      <td>http://en.wikipedia.org/wiki/Indianapolis_Moto...</td>\n    </tr>\n    <tr>\n      <th>1059</th>\n      <td>836</td>\n      <td>1950</td>\n      <td>4</td>\n      <td>66</td>\n      <td>Swiss Grand Prix</td>\n      <td>1950-06-04</td>\n      <td>\\N</td>\n      <td>http://en.wikipedia.org/wiki/1950_Swiss_Grand_...</td>\n      <td>\\N</td>\n      <td>\\N</td>\n      <td>...</td>\n      <td>\\N</td>\n      <td>\\N</td>\n      <td>bremgarten</td>\n      <td>Circuit Bremgarten</td>\n      <td>Bern</td>\n      <td>Switzerland</td>\n      <td>46.9589</td>\n      <td>7.40194</td>\n      <td>551.0</td>\n      <td>http://en.wikipedia.org/wiki/Circuit_Bremgarten</td>\n    </tr>\n    <tr>\n      <th>376</th>\n      <td>837</td>\n      <td>1950</td>\n      <td>5</td>\n      <td>13</td>\n      <td>Belgian Grand Prix</td>\n      <td>1950-06-18</td>\n      <td>\\N</td>\n      <td>http://en.wikipedia.org/wiki/1950_Belgian_Gran...</td>\n      <td>\\N</td>\n      <td>\\N</td>\n      <td>...</td>\n      <td>\\N</td>\n      <td>\\N</td>\n      <td>spa</td>\n      <td>Circuit de Spa-Francorchamps</td>\n      <td>Spa</td>\n      <td>Belgium</td>\n      <td>50.4372</td>\n      <td>5.97139</td>\n      <td>401.0</td>\n      <td>http://en.wikipedia.org/wiki/Circuit_de_Spa-Fr...</td>\n    </tr>\n    <tr>\n      <th>...</th>\n      <td>...</td>\n      <td>...</td>\n      <td>...</td>\n      <td>...</td>\n      <td>...</td>\n      <td>...</td>\n      <td>...</td>\n      <td>...</td>\n      <td>...</td>\n      <td>...</td>\n      <td>...</td>\n      <td>...</td>\n      <td>...</td>\n      <td>...</td>\n      <td>...</td>\n      <td>...</td>\n      <td>...</td>\n      <td>...</td>\n      <td>...</td>\n      <td>...</td>\n      <td>...</td>\n    </tr>\n    <tr>\n      <th>1075</th>\n      <td>1116</td>\n      <td>2023</td>\n      <td>19</td>\n      <td>69</td>\n      <td>United States Grand Prix</td>\n      <td>2023-10-22</td>\n      <td>19:00:00</td>\n      <td>https://en.wikipedia.org/wiki/2023_United_Stat...</td>\n      <td>2023-10-20</td>\n      <td>17:30:00</td>\n      <td>...</td>\n      <td>2023-10-21</td>\n      <td>22:00:00</td>\n      <td>americas</td>\n      <td>Circuit of the Americas</td>\n      <td>Austin</td>\n      <td>USA</td>\n      <td>30.1328</td>\n      <td>-97.64110</td>\n      <td>161.0</td>\n      <td>http://en.wikipedia.org/wiki/Circuit_of_the_Am...</td>\n    </tr>\n    <tr>\n      <th>849</th>\n      <td>1117</td>\n      <td>2023</td>\n      <td>20</td>\n      <td>32</td>\n      <td>Mexico City Grand Prix</td>\n      <td>2023-10-29</td>\n      <td>20:00:00</td>\n      <td>https://en.wikipedia.org/wiki/2023_Mexico_City...</td>\n      <td>2023-10-27</td>\n      <td>18:30:00</td>\n      <td>...</td>\n      <td>\\N</td>\n      <td>\\N</td>\n      <td>rodriguez</td>\n      <td>Autódromo Hermanos Rodríguez</td>\n      <td>Mexico City</td>\n      <td>Mexico</td>\n      <td>19.4042</td>\n      <td>-99.09070</td>\n      <td>2227.0</td>\n      <td>http://en.wikipedia.org/wiki/Aut%C3%B3dromo_He...</td>\n    </tr>\n    <tr>\n      <th>549</th>\n      <td>1118</td>\n      <td>2023</td>\n      <td>21</td>\n      <td>18</td>\n      <td>São Paulo Grand Prix</td>\n      <td>2023-11-05</td>\n      <td>17:00:00</td>\n      <td>https://en.wikipedia.org/wiki/2023_S%C3%A3o_Pa...</td>\n      <td>2023-11-03</td>\n      <td>14:30:00</td>\n      <td>...</td>\n      <td>2023-11-04</td>\n      <td>18:30:00</td>\n      <td>interlagos</td>\n      <td>Autódromo José Carlos Pace</td>\n      <td>São Paulo</td>\n      <td>Brazil</td>\n      <td>-23.7036</td>\n      <td>-46.69970</td>\n      <td>785.0</td>\n      <td>http://en.wikipedia.org/wiki/Aut%C3%B3dromo_Jo...</td>\n    </tr>\n    <tr>\n      <th>1101</th>\n      <td>1119</td>\n      <td>2023</td>\n      <td>22</td>\n      <td>80</td>\n      <td>Las Vegas Grand Prix</td>\n      <td>2023-11-19</td>\n      <td>06:00:00</td>\n      <td>https://en.wikipedia.org/wiki/2023_Las_Vegas_G...</td>\n      <td>2023-11-17</td>\n      <td>04:30:00</td>\n      <td>...</td>\n      <td>\\N</td>\n      <td>\\N</td>\n      <td>vegas</td>\n      <td>Las Vegas Strip Street Circuit</td>\n      <td>Las Vegas</td>\n      <td>United States</td>\n      <td>36.1147</td>\n      <td>-115.17300</td>\n      <td>0.6</td>\n      <td>https://en.wikipedia.org/wiki/Las_Vegas_Grand_...</td>\n    </tr>\n    <tr>\n      <th>564</th>\n      <td>1120</td>\n      <td>2023</td>\n      <td>23</td>\n      <td>24</td>\n      <td>Abu Dhabi Grand Prix</td>\n      <td>2023-11-26</td>\n      <td>13:00:00</td>\n      <td>https://en.wikipedia.org/wiki/2023_Abu_Dhabi_G...</td>\n      <td>2023-11-24</td>\n      <td>09:30:00</td>\n      <td>...</td>\n      <td>\\N</td>\n      <td>\\N</td>\n      <td>yas_marina</td>\n      <td>Yas Marina Circuit</td>\n      <td>Abu Dhabi</td>\n      <td>UAE</td>\n      <td>24.4672</td>\n      <td>54.60310</td>\n      <td>3.0</td>\n      <td>http://en.wikipedia.org/wiki/Yas_Marina_Circuit</td>\n    </tr>\n  </tbody>\n</table>\n<p>1102 rows × 26 columns</p>\n</div>"
     },
     "execution_count": 7,
     "metadata": {},
     "output_type": "execute_result"
    }
   ],
   "source": [],
   "metadata": {
    "collapsed": false,
    "ExecuteTime": {
     "end_time": "2023-06-21T06:41:48.416699Z",
     "start_time": "2023-06-21T06:41:48.397642Z"
    }
   }
  },
  {
   "cell_type": "code",
   "execution_count": null,
   "outputs": [],
   "source": [],
   "metadata": {
    "collapsed": false
   }
  }
 ],
 "metadata": {
  "kernelspec": {
   "display_name": "Python 3",
   "language": "python",
   "name": "python3"
  },
  "language_info": {
   "codemirror_mode": {
    "name": "ipython",
    "version": 2
   },
   "file_extension": ".py",
   "mimetype": "text/x-python",
   "name": "python",
   "nbconvert_exporter": "python",
   "pygments_lexer": "ipython2",
   "version": "2.7.6"
  }
 },
 "nbformat": 4,
 "nbformat_minor": 0
}
