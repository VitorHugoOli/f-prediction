{
 "cells": [
  {
   "attachments": {},
   "cell_type": "markdown",
   "metadata": {},
   "source": [
    "# 1. Ideia inicial\n",
    "\n",
    "Será feita um regressão de probabilidade de vitoria do piloto. Assim, vamos dar uma probabilidade de vitoria para os 10 primeiros colocados de 100% a 0%, para o primeiro ao ultimo colocado, respectivamente.\n",
    "- Os dados serão agregados por driver_standings.\n",
    "- Serão criados 3 modelos um para antes da corrida, outro apos as qualificações e outro durante a corrida.\n",
    "    - Antes: só vai levar em considerações os dados da pista e do piloto.\n",
    "    - Qualificação: vai levar em consideração os dados da pista, do piloto e da qualificação(tempos de volta).\n",
    "    - Corrida: vai levar em consideração os dados da pista, do piloto, da qualificação e da corrida(melhor volta, voltas lideradas, pit stops, etc)."
   ]
  },
  {
   "cell_type": "code",
   "execution_count": 133,
   "metadata": {
    "ExecuteTime": {
     "end_time": "2023-06-21T06:18:16.516200Z",
     "start_time": "2023-06-21T06:18:16.497067Z"
    },
    "collapsed": false
   },
   "outputs": [],
   "source": [
    "import pickle\n",
    "\n",
    "import numpy as np\n",
    "import pandas as pd\n",
    "import numpy\n",
    "from sklearn.base import BaseEstimator, ClassifierMixin\n",
    "from sklearn.model_selection import cross_validate\n",
    "\n",
    "\n",
    "class EvaluatedClassifier(BaseEstimator, ClassifierMixin):\n",
    "    def __init__(self, classifier, cv=10, graphic=False, compact=False, is_regression=False):\n",
    "        self.classifier = classifier\n",
    "        self.cv = cv\n",
    "        self.graphic = graphic\n",
    "        self.compact = compact\n",
    "        self.is_regression = is_regression\n",
    "\n",
    "    def fit(self, X, y, *args, **kwargs):\n",
    "        self.classifier.fit(X, y, *args, **kwargs)\n",
    "        return self\n",
    "\n",
    "    def predict(self, X):\n",
    "        return self.classifier.predict(X)\n",
    "\n",
    "    def save(self, path):\n",
    "        pickle.dump(self, open(path, 'wb'))\n",
    "\n",
    "    def fit_predict_cv(self, X, y, show_result=True):\n",
    "        res = self._cross_validate(X, y, show_result=show_result)\n",
    "        self.fit(X, y)\n",
    "        return res\n",
    "\n",
    "    def _cross_validate(self, X, y, show_result=True):\n",
    "        classification = ['accuracy', 'precision', 'recall', 'f1', 'roc_auc']\n",
    "        regression = ['r2', 'neg_mean_absolute_error', 'neg_mean_squared_error', 'explained_variance',\n",
    "                      'neg_median_absolute_error']\n",
    "        scoring = classification if not self.is_regression else regression\n",
    "\n",
    "        result = cross_validate(self.classifier, X, y,\n",
    "                                scoring=scoring, n_jobs=-1)\n",
    "        if show_result:\n",
    "            print(f\"> Validação Cruzada (cv={self.cv}):\")\n",
    "            if self.is_regression:\n",
    "                print(\n",
    "                    f\"R2: {result['test_r2'].mean():.3f} (+/- {result['test_r2'].std() * 2:.3f})\\n\" + \\\n",
    "                    f\"MAE: {-result['test_neg_mean_absolute_error'].mean():.3f} (+/- {result['test_neg_mean_absolute_error'].std() * 2:.3f})\\n\" + \\\n",
    "                    f\"MSE: {-result['test_neg_mean_squared_error'].mean():.3f} (+/- {result['test_neg_mean_squared_error'].std() * 2:.3f})\\n\" + \\\n",
    "                    f\"Explained Variance: {result['test_explained_variance'].mean():.3f} (+/- {result['test_explained_variance'].std() * 2:.3f})\\n\" + \\\n",
    "                    f\"Median Absolute Error: {-result['test_neg_median_absolute_error'].mean():.3f} (+/- {result['test_neg_median_absolute_error'].std() * 2:.3f})\"\n",
    "                )\n",
    "            else:\n",
    "                print(\n",
    "                    f\"Accuracy: {result['test_accuracy'].mean():.3f} (+/- {result['test_accuracy'].std() * 2:.3f})\\n\" + \\\n",
    "                    f\"Precision: {result['test_precision'].mean():.3f} (+/- {result['test_precision'].std() * 2:.3f})\\n\" + \\\n",
    "                    f\"Recall: {result['test_recall'].mean():.3f} (+/- {result['test_recall'].std() * 2:.3f})\\n\" + \\\n",
    "                    f\"F1: {result['test_f1'].mean():.3f} (+/- {result['test_f1'].std() * 2:.3f})\\n\" + \\\n",
    "                    f\"ROC AUC: {result['test_roc_auc'].mean():.3f} (+/- {result['test_roc_auc'].std() * 2:.3f})\"\n",
    "                )\n",
    "        return result\n"
   ]
  },
  {
   "cell_type": "code",
   "execution_count": 134,
   "metadata": {
    "ExecuteTime": {
     "end_time": "2023-06-21T06:18:16.706269Z",
     "start_time": "2023-06-21T06:18:16.501906Z"
    },
    "collapsed": false
   },
   "outputs": [],
   "source": [
    "pd.set_option('display.max_columns', None)\n",
    "\n",
    "path = '../data/ergast/'\n",
    "circuits = pd.read_csv(path + 'circuits.csv')\n",
    "constructor_results = pd.read_csv(path + 'constructor_results.csv')\n",
    "constructor_standings = pd.read_csv(path + 'constructor_standings.csv')\n",
    "constructors = pd.read_csv(path + 'constructors.csv')\n",
    "driver_standings = pd.read_csv(path + 'driver_standings.csv')\n",
    "drivers = pd.read_csv(path + 'drivers.csv')\n",
    "lap_times = pd.read_csv(path + 'lap_times.csv')\n",
    "pit_stops = pd.read_csv(path + 'pit_stops.csv')\n",
    "qualifying = pd.read_csv(path + 'qualifying.csv')\n",
    "races = pd.read_csv(path + 'races.csv')\n",
    "results = pd.read_csv(path + 'results.csv')\n",
    "seasons = pd.read_csv(path + 'seasons.csv')\n",
    "sprint_results = pd.read_csv(path + 'sprint_results.csv')\n",
    "status = pd.read_csv(path + 'status.csv')"
   ]
  },
  {
   "cell_type": "code",
   "execution_count": 135,
   "metadata": {
    "ExecuteTime": {
     "end_time": "2023-06-21T06:18:16.784176Z",
     "start_time": "2023-06-21T06:18:16.707996Z"
    }
   },
   "outputs": [],
   "source": [
    "df = pd.merge(results, drivers, on='driverId', suffixes=(\"\", \"_drivers\"))\n",
    "df = pd.merge(df, races, on='raceId', suffixes=(\"\", \"_races\"))\n",
    "df = pd.merge(df, circuits, on='circuitId', suffixes=(\"\", \"_circuits\"))\n",
    "df = pd.merge(df, constructors, on='constructorId', suffixes=(\"\", \"_constructors\"))\n",
    "df = pd.merge(df, status, on='statusId')\n",
    "df = pd.merge(df, driver_standings, on=['raceId', 'driverId'], suffixes=(\"\", \"_acc\"))"
   ]
  },
  {
   "cell_type": "code",
   "execution_count": 136,
   "metadata": {
    "ExecuteTime": {
     "end_time": "2023-06-21T06:18:17.074115Z",
     "start_time": "2023-06-21T06:18:16.785211Z"
    }
   },
   "outputs": [],
   "source": [
    "df.to_csv('../data/partial/all.csv', index=False)"
   ]
  },
  {
   "cell_type": "code",
   "execution_count": 137,
   "metadata": {
    "ExecuteTime": {
     "end_time": "2023-06-21T06:18:17.476493Z",
     "start_time": "2023-06-21T06:18:17.074724Z"
    }
   },
   "outputs": [],
   "source": [
    "df_laps = pd.merge(lap_times, races, on=\"raceId\", suffixes=(\"\", \"_race\"))\n",
    "df_laps = pd.merge(df_laps, circuits, on=\"circuitId\", suffixes=(\"\", \"_circuits\"))\n",
    "df_laps['date'] = pd.to_datetime(df_laps['date'])"
   ]
  },
  {
   "cell_type": "code",
   "execution_count": 138,
   "metadata": {
    "ExecuteTime": {
     "end_time": "2023-06-21T06:18:47.800064Z",
     "start_time": "2023-06-21T06:18:17.476659Z"
    }
   },
   "outputs": [],
   "source": [
    "from concurrent.futures import ThreadPoolExecutor\n",
    "\n",
    "df['dob'] = pd.to_datetime(df['dob'])\n",
    "df['date'] = pd.to_datetime(df['date'])\n",
    "# Calculate age compare to date\n",
    "df['age'] = (df['date'] - df['dob']).dt.days / 365\n",
    "df['age'] = df['age'].astype(int)\n",
    "\n",
    "# set nulll where \\N\n",
    "df = df.replace('\\\\N', numpy.nan)\n",
    "\n",
    "weather = pd.read_csv('../data/weather.csv')\n",
    "df = df.merge(weather, on=['raceId'])\n",
    "\n",
    "# round to 2 decimal humidity and temperature\n",
    "df['humidity'] = df['humidity'].round(2)\n",
    "df['temperature'] = df['temperature'].round(2)\n",
    "\n",
    "\n",
    "# based on table lap_times find the best milliseconds, that a reace made on a circuit, before a specificy race\n",
    "def best_lap_time(raceId, circuitId, race_date):\n",
    "    return df_laps[\n",
    "        (df_laps['raceId'] < raceId) & (df_laps['circuitId'] == circuitId) & (df_laps['date'] < race_date)][\n",
    "        'milliseconds'].min()\n",
    "\n",
    "\n",
    "def get_best_lap_time(row):\n",
    "    return best_lap_time(row['raceId'], row['circuitId'], row['date'])\n",
    "\n",
    "\n",
    "with ThreadPoolExecutor() as executor:\n",
    "    df['faster_lap_circuit_ever'] = list(executor.map(get_best_lap_time, df.to_dict('records')))\n",
    "\n",
    "# Convert 'grid' and 'position' column to numeric\n",
    "df['grid'] = pd.to_numeric(df['grid'], errors='coerce')\n",
    "df['position'] = pd.to_numeric(df['position'], errors='coerce')\n",
    "\n",
    "# Ensure 'date' is in datetime format\n",
    "df['date'] = pd.to_datetime(df['date'])\n",
    "\n",
    "# Create a new dataframe with raceId, driverId, grid and position\n",
    "df_grid_position = df[['raceId', 'driverId', 'grid', 'position', 'wins']].sort_values(['driverId', 'raceId'])\n",
    "\n",
    "# Calculate the expanding mean of 'grid' and 'position' grouped by 'driverId'\n",
    "df_grid_position['AvgGrid'] = df_grid_position.groupby('driverId')['grid'].expanding().mean().reset_index(level=0,\n",
    "                                                                                                          drop=True)\n",
    "df_grid_position['AvgFn'] = df_grid_position.groupby('driverId')['position'].expanding().mean().reset_index(level=0,\n",
    "                                                                                                            drop=True)\n",
    "\n",
    "df_grid_position['wins_cum'] = df_grid_position.groupby('driverId')['wins'].expanding().sum().reset_index(level=0,\n",
    "                                                                                                          drop=True)\n",
    "\n",
    "# Merge the df_grid_position dataframe back into the main dataframe (df)\n",
    "df = pd.merge(df, df_grid_position[['raceId', 'driverId', 'AvgGrid', 'AvgFn', 'wins_cum']], on=['raceId', 'driverId'])\n",
    "\n",
    "# Ensure that AvgGrid and AvgFn are rounded to two decimal places\n",
    "df['AvgGrid'] = df['AvgGrid'].round(2)\n",
    "df['AvgFn'] = df['AvgFn'].round(2)\n",
    "df['wins_cum'] = df['wins_cum'].round(2)\n"
   ]
  },
  {
   "cell_type": "code",
   "execution_count": 197,
   "metadata": {
    "ExecuteTime": {
     "end_time": "2023-06-21T06:23:15.028630Z",
     "start_time": "2023-06-21T06:23:15.002015Z"
    },
    "collapsed": false
   },
   "outputs": [],
   "source": [
    "clean = [\n",
    "    'resultId',\n",
    "    'position',\n",
    "    'positionText',\n",
    "    'points',\n",
    "    'fastestLap',\n",
    "    'time',  # time to finish the race\n",
    "    'milliseconds',  # time in milisecond to finish the race\n",
    "    'fastestLapSpeed',\n",
    "    'fastestLapTime',\n",
    "    'rank',  # rank of fast lap in a race\n",
    "    'statusId',\n",
    "    'status',\n",
    "    'grid',\n",
    "\n",
    "    'raceId',\n",
    "    'year',\n",
    "    # 'date',\n",
    "    'time_races',\n",
    "    'name',  #Nome do grand pix\n",
    "    'url_races',\n",
    "\n",
    "    # 'driverId',\n",
    "    'driverRef',\n",
    "    'number_drivers',\n",
    "    'dob',\n",
    "    'code',\n",
    "    'url',\n",
    "    'forename',\n",
    "    'surname',\n",
    "\n",
    "    'driverStandingsId',\n",
    "    'number',  # car number\n",
    "    'positionText_acc',  # position acumulated unit a race\n",
    "\n",
    "    'fp1_time',\n",
    "    'fp1_date',\n",
    "    'fp2_time',\n",
    "    'fp2_date',\n",
    "    'fp3_time',\n",
    "    'fp3_date',\n",
    "\n",
    "    'quali_time',\n",
    "    'quali_date',\n",
    "    'sprint_date',\n",
    "    'sprint_time',\n",
    "\n",
    "    'constructorRef',\n",
    "    'name_constructors',\n",
    "    'url_constructors',\n",
    "\n",
    "    'circuitRef',\n",
    "    'name_circuits',\n",
    "    'location',\n",
    "    'url_circuits',\n",
    "\n",
    "    'lat',\n",
    "    'lng',\n",
    "\n",
    "    'wmo_code'\n",
    "]\n",
    "\n",
    "for col in clean:\n",
    "    if col not in df.columns:\n",
    "        print(col)\n",
    "\n",
    "df_clean = df.copy()\n",
    "\n",
    "df_clean.drop(columns=clean, inplace=True)\n",
    "\n",
    "df_clean = df_clean.rename(\n",
    "    columns={'positionOrder': 'position', 'points_acc': 'points_season', 'position_acc': 'position_season',\n",
    "             'wins': 'wins_season', 'alt': 'height', 'country': 'country_circuit'\n",
    "             })\n",
    "\n",
    "# df_clean drop null at position\n",
    "df_clean = df_clean.dropna(subset=['position'])\n"
   ]
  },
  {
   "cell_type": "code",
   "execution_count": 198,
   "metadata": {
    "ExecuteTime": {
     "end_time": "2023-06-21T06:23:15.585772Z",
     "start_time": "2023-06-21T06:23:15.580409Z"
    }
   },
   "outputs": [],
   "source": [
    "# from ydata_profiling import ProfileReport\n",
    "#\n",
    "# profile = ProfileReport(df, title='Pandas Profiling Report', )\n",
    "# profile.to_file(\"profile/final.html\")"
   ]
  },
  {
   "cell_type": "code",
   "execution_count": 199,
   "metadata": {
    "ExecuteTime": {
     "end_time": "2023-06-21T06:23:16.029574Z",
     "start_time": "2023-06-21T06:23:16.014791Z"
    }
   },
   "outputs": [],
   "source": [
    "position_prob = [i for i in range(10, 110, 10)]\n",
    "# inver position_prob\n",
    "position_prob.reverse()\n",
    "\n",
    "df_clean['position'] = df_clean.position.astype(int)\n",
    "df_clean['position'] = df_clean['position'].apply(lambda x: position_prob[x - 1] if 1 <= x <= 10 else 0)"
   ]
  },
  {
   "cell_type": "code",
   "execution_count": 200,
   "metadata": {
    "ExecuteTime": {
     "end_time": "2023-06-21T06:23:16.389710Z",
     "start_time": "2023-06-21T06:23:16.387368Z"
    },
    "collapsed": false
   },
   "outputs": [
    {
     "data": {
      "text/html": [
       "<div>\n",
       "<style scoped>\n",
       "    .dataframe tbody tr th:only-of-type {\n",
       "        vertical-align: middle;\n",
       "    }\n",
       "\n",
       "    .dataframe tbody tr th {\n",
       "        vertical-align: top;\n",
       "    }\n",
       "\n",
       "    .dataframe thead th {\n",
       "        text-align: right;\n",
       "    }\n",
       "</style>\n",
       "<table border=\"1\" class=\"dataframe\">\n",
       "  <thead>\n",
       "    <tr style=\"text-align: right;\">\n",
       "      <th></th>\n",
       "      <th>driverId</th>\n",
       "      <th>constructorId</th>\n",
       "      <th>position</th>\n",
       "      <th>laps</th>\n",
       "      <th>nationality</th>\n",
       "      <th>round</th>\n",
       "      <th>circuitId</th>\n",
       "      <th>date</th>\n",
       "      <th>country_circuit</th>\n",
       "      <th>height</th>\n",
       "      <th>nationality_constructors</th>\n",
       "      <th>points_season</th>\n",
       "      <th>position_season</th>\n",
       "      <th>wins_season</th>\n",
       "      <th>age</th>\n",
       "      <th>weather_condition</th>\n",
       "      <th>humidity</th>\n",
       "      <th>temperature</th>\n",
       "      <th>faster_lap_circuit_ever</th>\n",
       "      <th>AvgGrid</th>\n",
       "      <th>AvgFn</th>\n",
       "      <th>wins_cum</th>\n",
       "    </tr>\n",
       "  </thead>\n",
       "  <tbody>\n",
       "    <tr>\n",
       "      <th>0</th>\n",
       "      <td>1</td>\n",
       "      <td>1</td>\n",
       "      <td>100</td>\n",
       "      <td>58</td>\n",
       "      <td>British</td>\n",
       "      <td>1</td>\n",
       "      <td>1</td>\n",
       "      <td>2008-03-16</td>\n",
       "      <td>Australia</td>\n",
       "      <td>10.0</td>\n",
       "      <td>British</td>\n",
       "      <td>10.0</td>\n",
       "      <td>1</td>\n",
       "      <td>1</td>\n",
       "      <td>23</td>\n",
       "      <td>dry</td>\n",
       "      <td>18.00</td>\n",
       "      <td>36.90</td>\n",
       "      <td>NaN</td>\n",
       "      <td>8.18</td>\n",
       "      <td>7.20</td>\n",
       "      <td>13.0</td>\n",
       "    </tr>\n",
       "    <tr>\n",
       "      <th>1</th>\n",
       "      <td>5</td>\n",
       "      <td>1</td>\n",
       "      <td>60</td>\n",
       "      <td>58</td>\n",
       "      <td>Finnish</td>\n",
       "      <td>1</td>\n",
       "      <td>1</td>\n",
       "      <td>2008-03-16</td>\n",
       "      <td>Australia</td>\n",
       "      <td>10.0</td>\n",
       "      <td>British</td>\n",
       "      <td>4.0</td>\n",
       "      <td>5</td>\n",
       "      <td>0</td>\n",
       "      <td>26</td>\n",
       "      <td>dry</td>\n",
       "      <td>18.00</td>\n",
       "      <td>36.90</td>\n",
       "      <td>NaN</td>\n",
       "      <td>10.47</td>\n",
       "      <td>7.92</td>\n",
       "      <td>0.0</td>\n",
       "    </tr>\n",
       "    <tr>\n",
       "      <th>2</th>\n",
       "      <td>2</td>\n",
       "      <td>2</td>\n",
       "      <td>90</td>\n",
       "      <td>58</td>\n",
       "      <td>German</td>\n",
       "      <td>1</td>\n",
       "      <td>1</td>\n",
       "      <td>2008-03-16</td>\n",
       "      <td>Australia</td>\n",
       "      <td>10.0</td>\n",
       "      <td>German</td>\n",
       "      <td>8.0</td>\n",
       "      <td>2</td>\n",
       "      <td>0</td>\n",
       "      <td>30</td>\n",
       "      <td>dry</td>\n",
       "      <td>18.00</td>\n",
       "      <td>36.90</td>\n",
       "      <td>NaN</td>\n",
       "      <td>11.61</td>\n",
       "      <td>9.00</td>\n",
       "      <td>0.0</td>\n",
       "    </tr>\n",
       "    <tr>\n",
       "      <th>3</th>\n",
       "      <td>3</td>\n",
       "      <td>3</td>\n",
       "      <td>80</td>\n",
       "      <td>58</td>\n",
       "      <td>German</td>\n",
       "      <td>1</td>\n",
       "      <td>1</td>\n",
       "      <td>2008-03-16</td>\n",
       "      <td>Australia</td>\n",
       "      <td>10.0</td>\n",
       "      <td>British</td>\n",
       "      <td>6.0</td>\n",
       "      <td>3</td>\n",
       "      <td>0</td>\n",
       "      <td>22</td>\n",
       "      <td>dry</td>\n",
       "      <td>18.00</td>\n",
       "      <td>36.90</td>\n",
       "      <td>NaN</td>\n",
       "      <td>8.00</td>\n",
       "      <td>7.47</td>\n",
       "      <td>0.0</td>\n",
       "    </tr>\n",
       "    <tr>\n",
       "      <th>4</th>\n",
       "      <td>4</td>\n",
       "      <td>4</td>\n",
       "      <td>70</td>\n",
       "      <td>58</td>\n",
       "      <td>Spanish</td>\n",
       "      <td>1</td>\n",
       "      <td>1</td>\n",
       "      <td>2008-03-16</td>\n",
       "      <td>Australia</td>\n",
       "      <td>10.0</td>\n",
       "      <td>French</td>\n",
       "      <td>5.0</td>\n",
       "      <td>4</td>\n",
       "      <td>0</td>\n",
       "      <td>26</td>\n",
       "      <td>dry</td>\n",
       "      <td>18.00</td>\n",
       "      <td>36.90</td>\n",
       "      <td>NaN</td>\n",
       "      <td>9.00</td>\n",
       "      <td>7.87</td>\n",
       "      <td>0.0</td>\n",
       "    </tr>\n",
       "    <tr>\n",
       "      <th>...</th>\n",
       "      <td>...</td>\n",
       "      <td>...</td>\n",
       "      <td>...</td>\n",
       "      <td>...</td>\n",
       "      <td>...</td>\n",
       "      <td>...</td>\n",
       "      <td>...</td>\n",
       "      <td>...</td>\n",
       "      <td>...</td>\n",
       "      <td>...</td>\n",
       "      <td>...</td>\n",
       "      <td>...</td>\n",
       "      <td>...</td>\n",
       "      <td>...</td>\n",
       "      <td>...</td>\n",
       "      <td>...</td>\n",
       "      <td>...</td>\n",
       "      <td>...</td>\n",
       "      <td>...</td>\n",
       "      <td>...</td>\n",
       "      <td>...</td>\n",
       "      <td>...</td>\n",
       "    </tr>\n",
       "    <tr>\n",
       "      <th>25560</th>\n",
       "      <td>520</td>\n",
       "      <td>157</td>\n",
       "      <td>0</td>\n",
       "      <td>128</td>\n",
       "      <td>American</td>\n",
       "      <td>3</td>\n",
       "      <td>19</td>\n",
       "      <td>1950-05-30</td>\n",
       "      <td>USA</td>\n",
       "      <td>223.0</td>\n",
       "      <td>American</td>\n",
       "      <td>0.0</td>\n",
       "      <td>34</td>\n",
       "      <td>0</td>\n",
       "      <td>24</td>\n",
       "      <td>dry</td>\n",
       "      <td>92.67</td>\n",
       "      <td>18.43</td>\n",
       "      <td>NaN</td>\n",
       "      <td>17.11</td>\n",
       "      <td>13.43</td>\n",
       "      <td>0.0</td>\n",
       "    </tr>\n",
       "    <tr>\n",
       "      <th>25561</th>\n",
       "      <td>799</td>\n",
       "      <td>113</td>\n",
       "      <td>0</td>\n",
       "      <td>52</td>\n",
       "      <td>American</td>\n",
       "      <td>3</td>\n",
       "      <td>19</td>\n",
       "      <td>1950-05-30</td>\n",
       "      <td>USA</td>\n",
       "      <td>223.0</td>\n",
       "      <td>American</td>\n",
       "      <td>0.0</td>\n",
       "      <td>63</td>\n",
       "      <td>0</td>\n",
       "      <td>39</td>\n",
       "      <td>dry</td>\n",
       "      <td>92.67</td>\n",
       "      <td>18.43</td>\n",
       "      <td>NaN</td>\n",
       "      <td>20.00</td>\n",
       "      <td>15.00</td>\n",
       "      <td>0.0</td>\n",
       "    </tr>\n",
       "    <tr>\n",
       "      <th>25562</th>\n",
       "      <td>731</td>\n",
       "      <td>105</td>\n",
       "      <td>0</td>\n",
       "      <td>112</td>\n",
       "      <td>American</td>\n",
       "      <td>3</td>\n",
       "      <td>19</td>\n",
       "      <td>1950-05-30</td>\n",
       "      <td>USA</td>\n",
       "      <td>223.0</td>\n",
       "      <td>Italian</td>\n",
       "      <td>0.0</td>\n",
       "      <td>67</td>\n",
       "      <td>0</td>\n",
       "      <td>36</td>\n",
       "      <td>dry</td>\n",
       "      <td>92.67</td>\n",
       "      <td>18.43</td>\n",
       "      <td>NaN</td>\n",
       "      <td>16.67</td>\n",
       "      <td>12.50</td>\n",
       "      <td>0.0</td>\n",
       "    </tr>\n",
       "    <tr>\n",
       "      <th>25563</th>\n",
       "      <td>659</td>\n",
       "      <td>113</td>\n",
       "      <td>0</td>\n",
       "      <td>125</td>\n",
       "      <td>American</td>\n",
       "      <td>3</td>\n",
       "      <td>19</td>\n",
       "      <td>1950-05-30</td>\n",
       "      <td>USA</td>\n",
       "      <td>223.0</td>\n",
       "      <td>American</td>\n",
       "      <td>0.0</td>\n",
       "      <td>39</td>\n",
       "      <td>0</td>\n",
       "      <td>21</td>\n",
       "      <td>dry</td>\n",
       "      <td>92.67</td>\n",
       "      <td>18.43</td>\n",
       "      <td>NaN</td>\n",
       "      <td>17.00</td>\n",
       "      <td>14.50</td>\n",
       "      <td>0.0</td>\n",
       "    </tr>\n",
       "    <tr>\n",
       "      <th>25564</th>\n",
       "      <td>509</td>\n",
       "      <td>160</td>\n",
       "      <td>0</td>\n",
       "      <td>122</td>\n",
       "      <td>American</td>\n",
       "      <td>3</td>\n",
       "      <td>19</td>\n",
       "      <td>1950-05-30</td>\n",
       "      <td>USA</td>\n",
       "      <td>223.0</td>\n",
       "      <td>American</td>\n",
       "      <td>0.0</td>\n",
       "      <td>42</td>\n",
       "      <td>0</td>\n",
       "      <td>21</td>\n",
       "      <td>dry</td>\n",
       "      <td>92.67</td>\n",
       "      <td>18.43</td>\n",
       "      <td>NaN</td>\n",
       "      <td>17.33</td>\n",
       "      <td>8.00</td>\n",
       "      <td>1.0</td>\n",
       "    </tr>\n",
       "  </tbody>\n",
       "</table>\n",
       "<p>25565 rows × 22 columns</p>\n",
       "</div>"
      ],
      "text/plain": [
       "       driverId  constructorId  position  laps nationality  round  circuitId  \\\n",
       "0             1              1       100    58     British      1          1   \n",
       "1             5              1        60    58     Finnish      1          1   \n",
       "2             2              2        90    58      German      1          1   \n",
       "3             3              3        80    58      German      1          1   \n",
       "4             4              4        70    58     Spanish      1          1   \n",
       "...         ...            ...       ...   ...         ...    ...        ...   \n",
       "25560       520            157         0   128    American      3         19   \n",
       "25561       799            113         0    52    American      3         19   \n",
       "25562       731            105         0   112    American      3         19   \n",
       "25563       659            113         0   125    American      3         19   \n",
       "25564       509            160         0   122    American      3         19   \n",
       "\n",
       "            date country_circuit  height nationality_constructors  \\\n",
       "0     2008-03-16       Australia    10.0                  British   \n",
       "1     2008-03-16       Australia    10.0                  British   \n",
       "2     2008-03-16       Australia    10.0                   German   \n",
       "3     2008-03-16       Australia    10.0                  British   \n",
       "4     2008-03-16       Australia    10.0                   French   \n",
       "...          ...             ...     ...                      ...   \n",
       "25560 1950-05-30             USA   223.0                 American   \n",
       "25561 1950-05-30             USA   223.0                 American   \n",
       "25562 1950-05-30             USA   223.0                  Italian   \n",
       "25563 1950-05-30             USA   223.0                 American   \n",
       "25564 1950-05-30             USA   223.0                 American   \n",
       "\n",
       "       points_season  position_season  wins_season  age weather_condition  \\\n",
       "0               10.0                1            1   23               dry   \n",
       "1                4.0                5            0   26               dry   \n",
       "2                8.0                2            0   30               dry   \n",
       "3                6.0                3            0   22               dry   \n",
       "4                5.0                4            0   26               dry   \n",
       "...              ...              ...          ...  ...               ...   \n",
       "25560            0.0               34            0   24               dry   \n",
       "25561            0.0               63            0   39               dry   \n",
       "25562            0.0               67            0   36               dry   \n",
       "25563            0.0               39            0   21               dry   \n",
       "25564            0.0               42            0   21               dry   \n",
       "\n",
       "       humidity  temperature  faster_lap_circuit_ever  AvgGrid  AvgFn  \\\n",
       "0         18.00        36.90                      NaN     8.18   7.20   \n",
       "1         18.00        36.90                      NaN    10.47   7.92   \n",
       "2         18.00        36.90                      NaN    11.61   9.00   \n",
       "3         18.00        36.90                      NaN     8.00   7.47   \n",
       "4         18.00        36.90                      NaN     9.00   7.87   \n",
       "...         ...          ...                      ...      ...    ...   \n",
       "25560     92.67        18.43                      NaN    17.11  13.43   \n",
       "25561     92.67        18.43                      NaN    20.00  15.00   \n",
       "25562     92.67        18.43                      NaN    16.67  12.50   \n",
       "25563     92.67        18.43                      NaN    17.00  14.50   \n",
       "25564     92.67        18.43                      NaN    17.33   8.00   \n",
       "\n",
       "       wins_cum  \n",
       "0          13.0  \n",
       "1           0.0  \n",
       "2           0.0  \n",
       "3           0.0  \n",
       "4           0.0  \n",
       "...         ...  \n",
       "25560       0.0  \n",
       "25561       0.0  \n",
       "25562       0.0  \n",
       "25563       0.0  \n",
       "25564       1.0  \n",
       "\n",
       "[25565 rows x 22 columns]"
      ]
     },
     "execution_count": 200,
     "metadata": {},
     "output_type": "execute_result"
    }
   ],
   "source": [
    "df_clean"
   ]
  },
  {
   "cell_type": "code",
   "execution_count": 201,
   "metadata": {
    "ExecuteTime": {
     "end_time": "2023-06-21T06:23:17.228770Z",
     "start_time": "2023-06-21T06:23:17.100701Z"
    },
    "collapsed": false
   },
   "outputs": [],
   "source": [
    "df_clean.to_csv('../data/partial/clean.csv', index=False)"
   ]
  },
  {
   "cell_type": "code",
   "execution_count": 202,
   "metadata": {
    "ExecuteTime": {
     "end_time": "2023-06-21T06:23:17.561116Z",
     "start_time": "2023-06-21T06:23:17.555281Z"
    },
    "collapsed": false
   },
   "outputs": [],
   "source": [
    "nationality_to_country = {\n",
    "    'British': 'UK',\n",
    "    'Italian': 'Italy',\n",
    "    'French': 'France',\n",
    "    'German': 'Germany',\n",
    "    'Brazilian': 'Brazil',\n",
    "    'American': 'USA',\n",
    "    'Finnish': 'Finland',  # Not in the country list, added manually\n",
    "    'Spanish': 'Spain',\n",
    "    'Australian': 'Australia',\n",
    "    'Austrian': 'Austria',\n",
    "    'Japanese': 'Japan',\n",
    "    'Belgian': 'Belgium',\n",
    "    'Swedish': 'Sweden',\n",
    "    'Swiss': 'Switzerland',\n",
    "    'Dutch': 'Netherlands',\n",
    "    'Canadian': 'Canada',\n",
    "    'Mexican': 'Mexico',\n",
    "    'New Zealander': 'New Zealand',  # Not in the country list, added manually\n",
    "    'Argentine': 'Argentina',\n",
    "    'Russian': 'Russia',\n",
    "    'South African': 'South Africa',\n",
    "    'Danish': 'Denmark',  # Not in the country list, added manually\n",
    "    'Monegasque': 'Monaco',\n",
    "    'Colombian': 'Colombia',  # Not in the country list, added manually\n",
    "    'Venezuelan': 'Venezuela',  # Not in the country list, added manually\n",
    "    'Polish': 'Poland',  # Not in the country list, added manually\n",
    "    'Irish': 'Ireland',  # Not in the country list, added manually\n",
    "    'Portuguese': 'Portugal',\n",
    "    'Thai': 'Thailand',  # Not in the country list, added manually\n",
    "    'Indian': 'India',\n",
    "    'Chilean': 'Chile',  # Not in the country list, added manually\n",
    "    'Chinese': 'China',\n",
    "    'Hungarian': 'Hungary',\n",
    "    'Rhodesian': 'Zimbabwe',  # Rhodesia is the former name of Zimbabwe\n",
    "    'Malaysian': 'Malaysia',\n",
    "    'Liechtensteiner': 'Liechtenstein',  # Not in the country list, added manually\n",
    "    'Indonesian': 'Indonesia',  # Not in the country list, added manually\n",
    "    'Uruguayan': 'Uruguay',  # Not in the country list, added manually\n",
    "    'East German': 'Germany',\n",
    "    'Czech': 'Czech Republic',  # Not in the country list, added manually\n",
    "    'American-Italian': 'USA',\n",
    "    'Argentine-Italian': 'Argentina',\n",
    "    'Hong Kong': 'Hong Kong',  # Not in the country list, added manually\n",
    "    'Bahrain': 'Bahrain',\n",
    "    'Turkey': 'Turkey',\n",
    "    'Singapore': 'Singapore',\n",
    "    'UAE': 'UAE',\n",
    "    'Korea': 'Korea',\n",
    "    'Azerbaijan': 'Azerbaijan',\n",
    "    'Morocco': 'Morocco',\n",
    "    'Qatar': 'Qatar',\n",
    "    'Saudi Arabia': 'Saudi Arabia',\n",
    "}\n",
    "\n",
    "# based on the map above create a encoder for each country\n",
    "country_encoder = [i for i in nationality_to_country.values()]"
   ]
  },
  {
   "cell_type": "code",
   "execution_count": 203,
   "metadata": {
    "ExecuteTime": {
     "end_time": "2023-06-21T06:23:18.408087Z",
     "start_time": "2023-06-21T06:23:18.406630Z"
    },
    "collapsed": false
   },
   "outputs": [],
   "source": [
    "df_clean['nationality'] = df_clean['nationality'].apply(lambda x: nationality_to_country[x])\n",
    "df_clean['nationality_constructors'] = df_clean['nationality_constructors'].apply(lambda x: nationality_to_country[x])\n",
    "\n",
    "# parse nationality, nationality_constructors and country_circuit to category\n",
    "\n",
    "df_clean['nationality'] = df_clean['nationality'].apply(lambda x: country_encoder.index(x))\n",
    "df_clean['nationality_constructors'] = df_clean['nationality_constructors'].apply(lambda x: country_encoder.index(x))\n",
    "df_clean['country_circuit'] = df_clean['country_circuit'].apply(lambda x: country_encoder.index(x))"
   ]
  },
  {
   "cell_type": "code",
   "execution_count": 204,
   "metadata": {
    "ExecuteTime": {
     "end_time": "2023-06-21T06:23:18.787380Z",
     "start_time": "2023-06-21T06:23:18.784658Z"
    },
    "collapsed": false
   },
   "outputs": [],
   "source": [
    "from sklearn.preprocessing import LabelEncoder\n",
    "\n",
    "# label encoder weather_conditions\n",
    "le = LabelEncoder()\n",
    "\n",
    "df_clean['weather_condition'] = le.fit_transform(df_clean['weather_condition'])\n",
    "df_clean['weather_condition'] = df_clean['weather_condition'].astype('int')"
   ]
  },
  {
   "cell_type": "code",
   "execution_count": 205,
   "metadata": {
    "ExecuteTime": {
     "end_time": "2023-06-21T06:23:19.197772Z",
     "start_time": "2023-06-21T06:23:19.194295Z"
    },
    "collapsed": false
   },
   "outputs": [
    {
     "data": {
      "text/plain": [
       "driverId                             int64\n",
       "constructorId                        int64\n",
       "position                             int64\n",
       "laps                                 int64\n",
       "nationality                          int64\n",
       "round                                int64\n",
       "circuitId                            int64\n",
       "date                        datetime64[ns]\n",
       "country_circuit                      int64\n",
       "height                             float64\n",
       "nationality_constructors             int64\n",
       "points_season                      float64\n",
       "position_season                      int64\n",
       "wins_season                          int64\n",
       "age                                  int64\n",
       "weather_condition                    int64\n",
       "humidity                           float64\n",
       "temperature                        float64\n",
       "faster_lap_circuit_ever            float64\n",
       "AvgGrid                            float64\n",
       "AvgFn                              float64\n",
       "wins_cum                           float64\n",
       "dtype: object"
      ]
     },
     "execution_count": 205,
     "metadata": {},
     "output_type": "execute_result"
    }
   ],
   "source": [
    "df_clean['height'] = df_clean['height'].astype('float')\n",
    "# columns types\n",
    "df_clean.dtypes"
   ]
  },
  {
   "cell_type": "code",
   "execution_count": 206,
   "metadata": {
    "ExecuteTime": {
     "end_time": "2023-06-21T06:23:20.369642Z",
     "start_time": "2023-06-21T06:23:20.358903Z"
    },
    "collapsed": false
   },
   "outputs": [
    {
     "name": "stdout",
     "output_type": "stream",
     "text": [
      "<class 'pandas.core.frame.DataFrame'>\n",
      "Int64Index: 25565 entries, 0 to 25564\n",
      "Data columns (total 22 columns):\n",
      " #   Column                    Non-Null Count  Dtype         \n",
      "---  ------                    --------------  -----         \n",
      " 0   driverId                  25565 non-null  int64         \n",
      " 1   constructorId             25565 non-null  int64         \n",
      " 2   position                  25565 non-null  int64         \n",
      " 3   laps                      25565 non-null  int64         \n",
      " 4   nationality               25565 non-null  int64         \n",
      " 5   round                     25565 non-null  int64         \n",
      " 6   circuitId                 25565 non-null  int64         \n",
      " 7   date                      25565 non-null  datetime64[ns]\n",
      " 8   country_circuit           25565 non-null  int64         \n",
      " 9   height                    25565 non-null  float64       \n",
      " 10  nationality_constructors  25565 non-null  int64         \n",
      " 11  points_season             25565 non-null  float64       \n",
      " 12  position_season           25565 non-null  int64         \n",
      " 13  wins_season               25565 non-null  int64         \n",
      " 14  age                       25565 non-null  int64         \n",
      " 15  weather_condition         25565 non-null  int64         \n",
      " 16  humidity                  25565 non-null  float64       \n",
      " 17  temperature               25565 non-null  float64       \n",
      " 18  faster_lap_circuit_ever   5238 non-null   float64       \n",
      " 19  AvgGrid                   25565 non-null  float64       \n",
      " 20  AvgFn                     24478 non-null  float64       \n",
      " 21  wins_cum                  25565 non-null  float64       \n",
      "dtypes: datetime64[ns](1), float64(8), int64(13)\n",
      "memory usage: 4.5 MB\n"
     ]
    }
   ],
   "source": [
    "df_clean.info()"
   ]
  },
  {
   "cell_type": "code",
   "execution_count": 180,
   "metadata": {
    "ExecuteTime": {
     "end_time": "2023-06-21T06:20:40.788826Z",
     "start_time": "2023-06-21T06:20:40.780249Z"
    },
    "collapsed": false
   },
   "outputs": [],
   "source": [
    "# Remove faster_lap_circuit_ever column\n",
    "df_clean = df_clean.drop(columns=['faster_lap_circuit_ever'])\n",
    "\n",
    "df_clean = df_clean.dropna(subset=['AvgFn'])"
   ]
  },
  {
   "cell_type": "code",
   "execution_count": 181,
   "metadata": {
    "ExecuteTime": {
     "end_time": "2023-06-21T06:20:41.531944Z",
     "start_time": "2023-06-21T06:20:41.524114Z"
    },
    "collapsed": false
   },
   "outputs": [
    {
     "data": {
      "text/plain": [
       "constructorId               0\n",
       "position                    0\n",
       "laps                        0\n",
       "nationality                 0\n",
       "round                       0\n",
       "circuitId                   0\n",
       "country_circuit             0\n",
       "height                      0\n",
       "nationality_constructors    0\n",
       "points_season               0\n",
       "position_season             0\n",
       "wins_season                 0\n",
       "age                         0\n",
       "weather_condition           0\n",
       "humidity                    0\n",
       "temperature                 0\n",
       "AvgGrid                     0\n",
       "AvgFn                       0\n",
       "wins_cum                    0\n",
       "dtype: int64"
      ]
     },
     "execution_count": 181,
     "metadata": {},
     "output_type": "execute_result"
    }
   ],
   "source": [
    "# detect null values\n",
    "df_clean.isnull().sum()"
   ]
  },
  {
   "cell_type": "code",
   "execution_count": 182,
   "metadata": {
    "ExecuteTime": {
     "end_time": "2023-06-21T06:20:42.442493Z",
     "start_time": "2023-06-21T06:20:42.437263Z"
    },
    "collapsed": false
   },
   "outputs": [],
   "source": [
    "X, y = df_clean.drop(columns=['position']), df_clean['position']"
   ]
  },
  {
   "cell_type": "code",
   "execution_count": 183,
   "metadata": {
    "ExecuteTime": {
     "end_time": "2023-06-21T06:21:02.105250Z",
     "start_time": "2023-06-21T06:20:42.842858Z"
    },
    "collapsed": false
   },
   "outputs": [
    {
     "name": "stdout",
     "output_type": "stream",
     "text": [
      "> Validação Cruzada (cv=10):\n",
      "R2: 0.652 (+/- 0.060)\n",
      "MAE: 12.769 (+/- 1.908)\n",
      "MSE: 388.699 (+/- 77.734)\n",
      "Explained Variance: 0.654 (+/- 0.059)\n",
      "Median Absolute Error: 7.320 (+/- 2.002)\n"
     ]
    }
   ],
   "source": [
    "# Randon Forest\n",
    "from sklearn.ensemble import RandomForestRegressor\n",
    "\n",
    "_ = EvaluatedClassifier(RandomForestRegressor(), is_regression=True).fit_predict_cv(X, y)"
   ]
  },
  {
   "cell_type": "code",
   "execution_count": 184,
   "metadata": {
    "ExecuteTime": {
     "end_time": "2023-06-21T06:21:07.823089Z",
     "start_time": "2023-06-21T06:21:02.105636Z"
    },
    "collapsed": false
   },
   "outputs": [
    {
     "name": "stdout",
     "output_type": "stream",
     "text": [
      "> Validação Cruzada (cv=10):\n",
      "R2: 0.653 (+/- 0.063)\n",
      "MAE: 12.782 (+/- 1.978)\n",
      "MSE: 387.964 (+/- 81.558)\n",
      "Explained Variance: 0.654 (+/- 0.062)\n",
      "Median Absolute Error: 7.370 (+/- 2.148)\n"
     ]
    }
   ],
   "source": [
    "_ = EvaluatedClassifier(RandomForestRegressor(n_jobs=-1), is_regression=True).fit_predict_cv(X, y)"
   ]
  },
  {
   "cell_type": "code",
   "execution_count": 185,
   "metadata": {
    "ExecuteTime": {
     "end_time": "2023-06-21T06:21:10.233876Z",
     "start_time": "2023-06-21T06:21:07.823722Z"
    },
    "collapsed": false
   },
   "outputs": [
    {
     "name": "stdout",
     "output_type": "stream",
     "text": [
      "> Validação Cruzada (cv=10):\n",
      "R2: 0.667 (+/- 0.086)\n",
      "MAE: 12.703 (+/- 2.236)\n",
      "MSE: 371.811 (+/- 109.670)\n",
      "Explained Variance: 0.668 (+/- 0.086)\n",
      "Median Absolute Error: 7.200 (+/- 2.295)\n"
     ]
    }
   ],
   "source": [
    "# XGBoost\n",
    "from xgboost import XGBRegressor\n",
    "\n",
    "model_eval = EvaluatedClassifier(XGBRegressor(\n",
    "    # n_estimators=1000,\n",
    "    n_jobs=-1,\n",
    "    learning_rate=0.1,\n",
    "), is_regression=True)\n",
    "\n",
    "_ = model_eval.fit_predict_cv(X, y)"
   ]
  },
  {
   "cell_type": "code",
   "execution_count": 169,
   "metadata": {
    "ExecuteTime": {
     "end_time": "2023-06-21T06:19:59.233952Z",
     "start_time": "2023-06-21T06:19:53.271485Z"
    },
    "collapsed": false
   },
   "outputs": [
    {
     "name": "stdout",
     "output_type": "stream",
     "text": [
      "> Validação Cruzada (cv=10):\n",
      "R2: 0.424 (+/- 0.090)\n",
      "MAE: 19.271 (+/- 1.750)\n",
      "MSE: 642.159 (+/- 106.867)\n",
      "Explained Variance: 0.431 (+/- 0.088)\n",
      "Median Absolute Error: 13.574 (+/- 3.842)\n"
     ]
    }
   ],
   "source": [
    "# MLP\n",
    "from sklearn.neural_network import MLPRegressor\n",
    "\n",
    "_ = EvaluatedClassifier(MLPRegressor(\n",
    "    # hidden_layer_sizes=(100, 100, 100, 100, 100, 100, 100, 100, 100, 100),\n",
    "    max_iter=1000,\n",
    "    # activation='relu',\n",
    "    # solver='adam',\n",
    "    # learning_rate='adaptive',\n",
    "    learning_rate_init=0.1,\n",
    "    # alpha=0.01,\n",
    "    # batch_size=100,\n",
    "    # verbose=True,\n",
    "    # random_state=42,\n",
    "    # tol=0.0001,\n",
    "    # early_stopping=True,\n",
    "    # validation_fraction=0.1,\n",
    "    # n_iter_no_change=10,\n",
    "    # shuffle=True,\n",
    "    # warm_start=False,\n",
    "    # momentum=0.9,\n",
    "    # nesterovs_momentum=True,\n",
    "    # power_t=0.5,\n",
    "    # beta_1=0.9,\n",
    "    # beta_2=0.999,\n",
    "    # epsilon=1e-08,\n",
    "    # max_fun=15000\n",
    "), is_regression=True).fit_predict_cv(X, y)"
   ]
  },
  {
   "cell_type": "code",
   "execution_count": null,
   "metadata": {
    "collapsed": false
   },
   "outputs": [],
   "source": [
    "# Export the model\n",
    "model_eval.save('model/model.pkl')"
   ]
  },
  {
   "cell_type": "code",
   "execution_count": 227,
   "metadata": {
    "collapsed": false,
    "ExecuteTime": {
     "end_time": "2023-06-21T06:34:39.314229Z",
     "start_time": "2023-06-21T06:34:39.298216Z"
    }
   },
   "outputs": [
    {
     "data": {
      "text/plain": "       driverId  constructorId  position  laps  nationality  round  circuitId  \\\n245           4             18         0    56            7      1          1   \n564           4             18         0    52            7      2          2   \n7999          4             18         0    25            7      3         18   \n11389         4             18         0     5            7      4         21   \n1148          4             18         0    63            7      5          4   \n...         ...            ...       ...   ...          ...    ...        ...   \n9619        822             51         0    57            6     22         24   \n9620        855             51         0    57           31     22         24   \n9621        842            213         0    57            2     22         24   \n9606        846              1        50    58            0     22         24   \n9622          1            131         0    55            0     22         24   \n\n            date  country_circuit  height  nationality_constructors  \\\n245   2001-03-04                8    10.0                         1   \n564   2001-03-18               34    18.0                         1   \n7999  2001-04-01                4   785.0                         1   \n11389 2001-04-15                1    37.0                         1   \n1148  2001-04-29                7   109.0                         1   \n...          ...              ...     ...                       ...   \n9619  2022-11-20               46     3.0                        13   \n9620  2022-11-20               46     3.0                        13   \n9621  2022-11-20               46     3.0                         1   \n9606  2022-11-20               46     3.0                         0   \n9622  2022-11-20               46     3.0                         3   \n\n       points_season  position_season  wins_season  age  weather_condition  \\\n245              0.0               12            0   19                  0   \n564              0.0               16            0   19                  0   \n7999             0.0               19            0   19                  0   \n11389            0.0               20            0   19                  0   \n1148             0.0               21            0   19                  0   \n...              ...              ...          ...  ...                ...   \n9619            49.0               10            0   33                  0   \n9620             6.0               18            0   23                  0   \n9621            23.0               14            0   26                  0   \n9606           122.0                7            0   23                  0   \n9622           240.0                6            0   37                  0   \n\n       humidity  temperature  faster_lap_circuit_ever  AvgGrid  AvgFn  \\\n245       87.33        18.37                      NaN     6.15   4.22   \n564       83.67        26.23                      NaN     6.26   4.31   \n7999      74.00        24.27                      NaN     6.37   4.31   \n11389     43.00        13.53                      NaN     6.46   4.31   \n1148      64.67        17.47                      NaN     6.55   4.39   \n...         ...          ...                      ...      ...    ...   \n9619      59.33        28.00                  86103.0     6.54   6.30   \n9620      59.33        28.00                  86103.0    13.36  12.88   \n9621      59.33        28.00                  86103.0    10.26   9.76   \n9606      59.33        28.00                  86103.0     8.21   7.84   \n9622      59.33        28.00                  86103.0     3.84   3.38   \n\n       wins_cum  \n245       218.0  \n564       218.0  \n7999      218.0  \n11389     218.0  \n1148      218.0  \n...         ...  \n9619      109.0  \n9620        0.0  \n9621       10.0  \n9606        0.0  \n9622     1008.0  \n\n[2490 rows x 22 columns]",
      "text/html": "<div>\n<style scoped>\n    .dataframe tbody tr th:only-of-type {\n        vertical-align: middle;\n    }\n\n    .dataframe tbody tr th {\n        vertical-align: top;\n    }\n\n    .dataframe thead th {\n        text-align: right;\n    }\n</style>\n<table border=\"1\" class=\"dataframe\">\n  <thead>\n    <tr style=\"text-align: right;\">\n      <th></th>\n      <th>driverId</th>\n      <th>constructorId</th>\n      <th>position</th>\n      <th>laps</th>\n      <th>nationality</th>\n      <th>round</th>\n      <th>circuitId</th>\n      <th>date</th>\n      <th>country_circuit</th>\n      <th>height</th>\n      <th>nationality_constructors</th>\n      <th>points_season</th>\n      <th>position_season</th>\n      <th>wins_season</th>\n      <th>age</th>\n      <th>weather_condition</th>\n      <th>humidity</th>\n      <th>temperature</th>\n      <th>faster_lap_circuit_ever</th>\n      <th>AvgGrid</th>\n      <th>AvgFn</th>\n      <th>wins_cum</th>\n    </tr>\n  </thead>\n  <tbody>\n    <tr>\n      <th>245</th>\n      <td>4</td>\n      <td>18</td>\n      <td>0</td>\n      <td>56</td>\n      <td>7</td>\n      <td>1</td>\n      <td>1</td>\n      <td>2001-03-04</td>\n      <td>8</td>\n      <td>10.0</td>\n      <td>1</td>\n      <td>0.0</td>\n      <td>12</td>\n      <td>0</td>\n      <td>19</td>\n      <td>0</td>\n      <td>87.33</td>\n      <td>18.37</td>\n      <td>NaN</td>\n      <td>6.15</td>\n      <td>4.22</td>\n      <td>218.0</td>\n    </tr>\n    <tr>\n      <th>564</th>\n      <td>4</td>\n      <td>18</td>\n      <td>0</td>\n      <td>52</td>\n      <td>7</td>\n      <td>2</td>\n      <td>2</td>\n      <td>2001-03-18</td>\n      <td>34</td>\n      <td>18.0</td>\n      <td>1</td>\n      <td>0.0</td>\n      <td>16</td>\n      <td>0</td>\n      <td>19</td>\n      <td>0</td>\n      <td>83.67</td>\n      <td>26.23</td>\n      <td>NaN</td>\n      <td>6.26</td>\n      <td>4.31</td>\n      <td>218.0</td>\n    </tr>\n    <tr>\n      <th>7999</th>\n      <td>4</td>\n      <td>18</td>\n      <td>0</td>\n      <td>25</td>\n      <td>7</td>\n      <td>3</td>\n      <td>18</td>\n      <td>2001-04-01</td>\n      <td>4</td>\n      <td>785.0</td>\n      <td>1</td>\n      <td>0.0</td>\n      <td>19</td>\n      <td>0</td>\n      <td>19</td>\n      <td>0</td>\n      <td>74.00</td>\n      <td>24.27</td>\n      <td>NaN</td>\n      <td>6.37</td>\n      <td>4.31</td>\n      <td>218.0</td>\n    </tr>\n    <tr>\n      <th>11389</th>\n      <td>4</td>\n      <td>18</td>\n      <td>0</td>\n      <td>5</td>\n      <td>7</td>\n      <td>4</td>\n      <td>21</td>\n      <td>2001-04-15</td>\n      <td>1</td>\n      <td>37.0</td>\n      <td>1</td>\n      <td>0.0</td>\n      <td>20</td>\n      <td>0</td>\n      <td>19</td>\n      <td>0</td>\n      <td>43.00</td>\n      <td>13.53</td>\n      <td>NaN</td>\n      <td>6.46</td>\n      <td>4.31</td>\n      <td>218.0</td>\n    </tr>\n    <tr>\n      <th>1148</th>\n      <td>4</td>\n      <td>18</td>\n      <td>0</td>\n      <td>63</td>\n      <td>7</td>\n      <td>5</td>\n      <td>4</td>\n      <td>2001-04-29</td>\n      <td>7</td>\n      <td>109.0</td>\n      <td>1</td>\n      <td>0.0</td>\n      <td>21</td>\n      <td>0</td>\n      <td>19</td>\n      <td>0</td>\n      <td>64.67</td>\n      <td>17.47</td>\n      <td>NaN</td>\n      <td>6.55</td>\n      <td>4.39</td>\n      <td>218.0</td>\n    </tr>\n    <tr>\n      <th>...</th>\n      <td>...</td>\n      <td>...</td>\n      <td>...</td>\n      <td>...</td>\n      <td>...</td>\n      <td>...</td>\n      <td>...</td>\n      <td>...</td>\n      <td>...</td>\n      <td>...</td>\n      <td>...</td>\n      <td>...</td>\n      <td>...</td>\n      <td>...</td>\n      <td>...</td>\n      <td>...</td>\n      <td>...</td>\n      <td>...</td>\n      <td>...</td>\n      <td>...</td>\n      <td>...</td>\n      <td>...</td>\n    </tr>\n    <tr>\n      <th>9619</th>\n      <td>822</td>\n      <td>51</td>\n      <td>0</td>\n      <td>57</td>\n      <td>6</td>\n      <td>22</td>\n      <td>24</td>\n      <td>2022-11-20</td>\n      <td>46</td>\n      <td>3.0</td>\n      <td>13</td>\n      <td>49.0</td>\n      <td>10</td>\n      <td>0</td>\n      <td>33</td>\n      <td>0</td>\n      <td>59.33</td>\n      <td>28.00</td>\n      <td>86103.0</td>\n      <td>6.54</td>\n      <td>6.30</td>\n      <td>109.0</td>\n    </tr>\n    <tr>\n      <th>9620</th>\n      <td>855</td>\n      <td>51</td>\n      <td>0</td>\n      <td>57</td>\n      <td>31</td>\n      <td>22</td>\n      <td>24</td>\n      <td>2022-11-20</td>\n      <td>46</td>\n      <td>3.0</td>\n      <td>13</td>\n      <td>6.0</td>\n      <td>18</td>\n      <td>0</td>\n      <td>23</td>\n      <td>0</td>\n      <td>59.33</td>\n      <td>28.00</td>\n      <td>86103.0</td>\n      <td>13.36</td>\n      <td>12.88</td>\n      <td>0.0</td>\n    </tr>\n    <tr>\n      <th>9621</th>\n      <td>842</td>\n      <td>213</td>\n      <td>0</td>\n      <td>57</td>\n      <td>2</td>\n      <td>22</td>\n      <td>24</td>\n      <td>2022-11-20</td>\n      <td>46</td>\n      <td>3.0</td>\n      <td>1</td>\n      <td>23.0</td>\n      <td>14</td>\n      <td>0</td>\n      <td>26</td>\n      <td>0</td>\n      <td>59.33</td>\n      <td>28.00</td>\n      <td>86103.0</td>\n      <td>10.26</td>\n      <td>9.76</td>\n      <td>10.0</td>\n    </tr>\n    <tr>\n      <th>9606</th>\n      <td>846</td>\n      <td>1</td>\n      <td>50</td>\n      <td>58</td>\n      <td>0</td>\n      <td>22</td>\n      <td>24</td>\n      <td>2022-11-20</td>\n      <td>46</td>\n      <td>3.0</td>\n      <td>0</td>\n      <td>122.0</td>\n      <td>7</td>\n      <td>0</td>\n      <td>23</td>\n      <td>0</td>\n      <td>59.33</td>\n      <td>28.00</td>\n      <td>86103.0</td>\n      <td>8.21</td>\n      <td>7.84</td>\n      <td>0.0</td>\n    </tr>\n    <tr>\n      <th>9622</th>\n      <td>1</td>\n      <td>131</td>\n      <td>0</td>\n      <td>55</td>\n      <td>0</td>\n      <td>22</td>\n      <td>24</td>\n      <td>2022-11-20</td>\n      <td>46</td>\n      <td>3.0</td>\n      <td>3</td>\n      <td>240.0</td>\n      <td>6</td>\n      <td>0</td>\n      <td>37</td>\n      <td>0</td>\n      <td>59.33</td>\n      <td>28.00</td>\n      <td>86103.0</td>\n      <td>3.84</td>\n      <td>3.38</td>\n      <td>1008.0</td>\n    </tr>\n  </tbody>\n</table>\n<p>2490 rows × 22 columns</p>\n</div>"
     },
     "execution_count": 227,
     "metadata": {},
     "output_type": "execute_result"
    }
   ],
   "source": [
    "from datetime import datetime\n",
    "\n",
    "races['date'] = pd.to_datetime(races.date)\n",
    "race_next = races.loc[races.date > datetime.now()].sort_values(by='date')\n",
    "race_next = pd.merge(race_next, circuits, on='circuitId')\n",
    "# get last row\n",
    "race_next = race_next.iloc[0]\n",
    "drivers_next = [842, 815, 4, 844, 840, 858, 825, 852, 848, 855, 807, 839, 830, 846, 1, 856, 832, 847, 822, 857]\n",
    "\n",
    "# get the drivers\n",
    "info_new = df_clean.loc[df_clean['driverId'].isin(drivers_next)].sort_values(by='date')\n",
    "\n",
    "info_new"
   ]
  },
  {
   "cell_type": "code",
   "execution_count": 277,
   "metadata": {
    "collapsed": false,
    "ExecuteTime": {
     "end_time": "2023-06-21T06:59:56.670067Z",
     "start_time": "2023-06-21T06:59:55.863857Z"
    }
   },
   "outputs": [
    {
     "name": "stdout",
     "output_type": "stream",
     "text": [
      "Failed to predict driver:  858\n",
      "AvgGrid                       4.0\n",
      "AvgFn                         2.0\n",
      "points_season                18.0\n",
      "wins_season                     0\n",
      "weather_condition               1\n",
      "round                           1\n",
      "laps                           57\n",
      "humidity                    67.67\n",
      "temperature                 23.07\n",
      "wins_cum                      0.0\n",
      "constructorId                   1\n",
      "country_circuit                 9\n",
      "circuitId                      70\n",
      "age                            21\n",
      "nationality_constructors        0\n",
      "height                      678.0\n",
      "position_season                 2\n",
      "nationality                    21\n",
      "Name: 116, dtype: object\n",
      "AvgGrid                      11.0\n",
      "AvgFn                         1.0\n",
      "points_season                 100\n",
      "wins_season                    14\n",
      "weather_condition               1\n",
      "round                           1\n",
      "laps                           32\n",
      "humidity                    67.67\n",
      "temperature                 23.07\n",
      "wins_cum                       34\n",
      "constructorId                   5\n",
      "country_circuit                 9\n",
      "circuitId                      70\n",
      "age                            17\n",
      "nationality_constructors        1\n",
      "height                      678.0\n",
      "position_season                13\n",
      "nationality                    14\n",
      "Name: 14848, dtype: object\n",
      "Failed to predict driver:  857\n"
     ]
    }
   ],
   "source": [
    "import numpy as np\n",
    "\n",
    "rank = {}\n",
    "for i in drivers_next:\n",
    "    try:\n",
    "        temp = info_new.loc[info_new['driverId'] == i].iloc[0]\n",
    "        temp.circuitId = race_next.circuitId\n",
    "        temp.country_circuit = country_encoder.index(race_next.country)\n",
    "        temp.height = race_next.alt\n",
    "        # rain 67.66666666666667 23.066666666666666\n",
    "        temp.weather_condition = le.transform(['rain'])[0]\n",
    "        temp.humidity = 67.67\n",
    "        temp.temperature = 23.07\n",
    "        stay = set(temp.index) - {'driverId', 'faster_lap_circuit_ever', 'date', 'position'}\n",
    "        temp.round = race_next.round\n",
    "        temp = temp[list(stay)]\n",
    "        if np.isnan(temp.AvgFn):\n",
    "            temp.AvgFn = 10.0\n",
    "\n",
    "        if i == 830:\n",
    "            temp.wins_cum = 34\n",
    "            temp.wins_season = 14\n",
    "            temp.AvgFn = 1.0\n",
    "            temp.points_season = 100\n",
    "            print(temp)\n",
    "\n",
    "        if i == 825:\n",
    "            print(temp)\n",
    "\n",
    "        df_temp = pd.DataFrame([temp], columns=temp.index)\n",
    "        # order columns to['constructorId', 'laps', 'nationality', 'round', 'circuitId', 'country_circuit', 'height', 'nationality_constructors', 'points_season', 'position_season', 'wins_season', 'age', 'weather_condition', 'humidity', 'temperature', 'AvgGrid', 'AvgFn', 'wins_cum']\n",
    "\n",
    "        df_temp = df_temp[['constructorId', 'laps', 'nationality', 'round', 'circuitId', 'country_circuit', 'height',\n",
    "                           'nationality_constructors', 'points_season', 'position_season', 'wins_season', 'age',\n",
    "                           'weather_condition', 'humidity', 'temperature', 'AvgGrid', 'AvgFn', 'wins_cum']]\n",
    "\n",
    "        rank[i] = float(model_eval.predict(df_temp)[0])\n",
    "    except:\n",
    "        print(\"Failed to predict driver: \", i)\n",
    "        continue\n",
    "\n"
   ]
  },
  {
   "cell_type": "code",
   "execution_count": 278,
   "metadata": {
    "collapsed": false,
    "ExecuteTime": {
     "end_time": "2023-06-21T06:59:56.707869Z",
     "start_time": "2023-06-21T06:59:56.682296Z"
    }
   },
   "outputs": [
    {
     "name": "stdout",
     "output_type": "stream",
     "text": [
      "Nico Hülkenberg -2.5616207122802734\n",
      "George Russell -1.6782430410385132\n",
      "Sergio Pérez -0.8332539796829224\n",
      "Lance Stroll -0.4925088882446289\n",
      "Alexander Albon 0.42882275581359863\n",
      "Esteban Ocon 0.6679508090019226\n",
      "Valtteri Bottas 0.7021191716194153\n",
      "Pierre Gasly 0.7182775735855103\n",
      "Fernando Alonso 0.9628542065620422\n",
      "Lando Norris 1.5257099866867065\n",
      "Max Verstappen 3.301701068878174\n",
      "Charles Leclerc 3.5545973777770996\n",
      "Guanyu Zhou 10.34870719909668\n",
      "Nyck de Vries 19.149330139160156\n",
      "Yuki Tsunoda 20.355762481689453\n",
      "Carlos Sainz 24.133258819580078\n",
      "Lewis Hamilton 77.54512786865234\n",
      "Kevin Magnussen 83.65229797363281\n"
     ]
    }
   ],
   "source": [
    "# sort the rank by value\n",
    "rank = dict(sorted(rank.items(), key=lambda item: item[1]))\n",
    "\n",
    "for i in rank:\n",
    "    print(drivers.loc[drivers.driverId == i].iloc[0].forename, drivers.loc[drivers.driverId == i].iloc[0].surname,\n",
    "          rank[i])\n",
    "    rank[i] = {\n",
    "        \"name\": drivers.loc[drivers.driverId == i].iloc[0].forename + \" \" + drivers.loc[drivers.driverId == i].iloc[\n",
    "            0].surname,\n",
    "        \"rank\": rank[i]\n",
    "    }\n",
    "\n",
    "# save the rank\n",
    "import json\n",
    "\n",
    "with open('../result/rank.json', 'w') as fp:\n",
    "    json.dump(rank, fp)"
   ]
  },
  {
   "cell_type": "code",
   "execution_count": null,
   "metadata": {
    "collapsed": false
   },
   "outputs": [],
   "source": [
    "import requests\n",
    "\n",
    "# forecast\n",
    "url = \"https://api.open-meteo.com/v1/forecast\"\n",
    "params = {\n",
    "    \"latitude\": race_next[\"lat\"],\n",
    "    \"longitude\": race_next[\"lng\"],\n",
    "    \"start_date\": race_next[\"date\"].strftime(\"%Y-%m-%d\"),\n",
    "    \"end_date\": race_next[\"date\"].strftime(\"%Y-%m-%d\"),\n",
    "    \"hourly\": \"relativehumidity_2m,weathercode,temperature_2m\"\n",
    "}\n",
    "\n",
    "response = requests.get(url, params=params)\n",
    "print(response.url)\n",
    "data = response.json()\n",
    "\n",
    "race_next['time']"
   ]
  },
  {
   "cell_type": "code",
   "execution_count": 238,
   "metadata": {
    "collapsed": false,
    "ExecuteTime": {
     "end_time": "2023-06-21T06:42:45.039365Z",
     "start_time": "2023-06-21T06:42:45.015565Z"
    }
   },
   "outputs": [
    {
     "data": {
      "text/plain": "       resultId  raceId  driverId  constructorId number  grid  position  \\\n9613      25835    1096        20            117      5     9      10.0   \n9614      25833    1096       840            117     18    14       8.0   \n9624      25845    1096         4            214     14    10       NaN   \n9623      25844    1096       849              3      6    20      19.0   \n9622      25843    1096         1            131     44     5      18.0   \n...         ...     ...       ...            ...    ...   ...       ...   \n23318     20036     833       579             51      1     3       NaN   \n23319     20032     833       741            154     16    14       8.0   \n23320     20043     833       789            154     17     7       NaN   \n23321     20037     833       776            126     23    19       NaN   \n23309     20040     833       785            126     24    17       NaN   \n\n      positionText  positionOrder  points  laps       time milliseconds  \\\n9613            10             10     1.0    58  +1:23.898      5349812   \n9614             8              8     4.0    58  +1:16.931      5342845   \n9624             R             20     0.0    27        NaN          NaN   \n9623            19             19     0.0    55        NaN          NaN   \n9622            18             18     0.0    55        NaN          NaN   \n...            ...            ...     ...   ...        ...          ...   \n23318            R             12     0.0    62        NaN          NaN   \n23319            8              8     0.0    65        NaN          NaN   \n23320            R             19     0.0     8        NaN          NaN   \n23321            N             13     0.0    57        NaN          NaN   \n23309            R             16     0.0    43        NaN          NaN   \n\n      fastestLap rank fastestLapTime fastestLapSpeed  statusId  driverRef  \\\n9613          35   15       1:30.312         210.510         1     vettel   \n9614          42    9       1:29.620         212.135         1     stroll   \n9624          24   17       1:30.579         209.889        47     alonso   \n9623          45   14       1:30.309         210.517       130     latifi   \n9622          42   11       1:29.788         211.738         9   hamilton   \n...          ...  ...            ...             ...       ...        ...   \n23318        NaN  NaN            NaN             NaN        44     fangio   \n23319        NaN  NaN            NaN             NaN        15  etancelin   \n23320        NaN  NaN            NaN             NaN        51     martin   \n23321        NaN  NaN            NaN             NaN        62      kelly   \n23309        NaN  NaN            NaN             NaN         7   crossley   \n\n      number_drivers code   forename    surname        dob nationality  \\\n9613               5  VET  Sebastian     Vettel 1987-07-03      German   \n9614              18  STR      Lance     Stroll 1998-10-29    Canadian   \n9624              14  ALO   Fernando     Alonso 1981-07-29     Spanish   \n9623               6  LAT   Nicholas     Latifi 1995-06-29    Canadian   \n9622              44  HAM      Lewis   Hamilton 1985-01-07     British   \n...              ...  ...        ...        ...        ...         ...   \n23318            NaN  NaN       Juan     Fangio 1911-06-24   Argentine   \n23319            NaN  NaN   Philippe  Étancelin 1896-12-28      French   \n23320            NaN  NaN     Eugène     Martin 1915-03-24      French   \n23321            NaN  NaN        Joe      Kelly 1913-03-13       Irish   \n23309            NaN  NaN      Geoff   Crossley 1921-05-11     British   \n\n                                                     url  year  round  \\\n9613       http://en.wikipedia.org/wiki/Sebastian_Vettel  2022     22   \n9614           http://en.wikipedia.org/wiki/Lance_Stroll  2022     22   \n9624        http://en.wikipedia.org/wiki/Fernando_Alonso  2022     22   \n9623        http://en.wikipedia.org/wiki/Nicholas_Latifi  2022     22   \n9622         http://en.wikipedia.org/wiki/Lewis_Hamilton  2022     22   \n...                                                  ...   ...    ...   \n23318    http://en.wikipedia.org/wiki/Juan_Manuel_Fangio  1950      1   \n23319  http://en.wikipedia.org/wiki/Philippe_%C3%89ta...  1950      1   \n23320    http://en.wikipedia.org/wiki/Eug%C3%A8ne_Martin  1950      1   \n23321  http://en.wikipedia.org/wiki/Joe_Kelly_(Formul...  1950      1   \n23309        http://en.wikipedia.org/wiki/Geoff_Crossley  1950      1   \n\n       circuitId                  name       date time_races  \\\n9613          24  Abu Dhabi Grand Prix 2022-11-20   13:00:00   \n9614          24  Abu Dhabi Grand Prix 2022-11-20   13:00:00   \n9624          24  Abu Dhabi Grand Prix 2022-11-20   13:00:00   \n9623          24  Abu Dhabi Grand Prix 2022-11-20   13:00:00   \n9622          24  Abu Dhabi Grand Prix 2022-11-20   13:00:00   \n...          ...                   ...        ...        ...   \n23318          9    British Grand Prix 1950-05-13        NaN   \n23319          9    British Grand Prix 1950-05-13        NaN   \n23320          9    British Grand Prix 1950-05-13        NaN   \n23321          9    British Grand Prix 1950-05-13        NaN   \n23309          9    British Grand Prix 1950-05-13        NaN   \n\n                                               url_races    fp1_date  \\\n9613   http://en.wikipedia.org/wiki/2022_Abu_Dhabi_Gr...  2022-11-18   \n9614   http://en.wikipedia.org/wiki/2022_Abu_Dhabi_Gr...  2022-11-18   \n9624   http://en.wikipedia.org/wiki/2022_Abu_Dhabi_Gr...  2022-11-18   \n9623   http://en.wikipedia.org/wiki/2022_Abu_Dhabi_Gr...  2022-11-18   \n9622   http://en.wikipedia.org/wiki/2022_Abu_Dhabi_Gr...  2022-11-18   \n...                                                  ...         ...   \n23318  http://en.wikipedia.org/wiki/1950_British_Gran...         NaN   \n23319  http://en.wikipedia.org/wiki/1950_British_Gran...         NaN   \n23320  http://en.wikipedia.org/wiki/1950_British_Gran...         NaN   \n23321  http://en.wikipedia.org/wiki/1950_British_Gran...         NaN   \n23309  http://en.wikipedia.org/wiki/1950_British_Gran...         NaN   \n\n       fp1_time    fp2_date  fp2_time    fp3_date  fp3_time  quali_date  \\\n9613   10:00:00  2022-11-18  13:00:00  2022-11-19  11:00:00  2022-11-19   \n9614   10:00:00  2022-11-18  13:00:00  2022-11-19  11:00:00  2022-11-19   \n9624   10:00:00  2022-11-18  13:00:00  2022-11-19  11:00:00  2022-11-19   \n9623   10:00:00  2022-11-18  13:00:00  2022-11-19  11:00:00  2022-11-19   \n9622   10:00:00  2022-11-18  13:00:00  2022-11-19  11:00:00  2022-11-19   \n...         ...         ...       ...         ...       ...         ...   \n23318       NaN         NaN       NaN         NaN       NaN         NaN   \n23319       NaN         NaN       NaN         NaN       NaN         NaN   \n23320       NaN         NaN       NaN         NaN       NaN         NaN   \n23321       NaN         NaN       NaN         NaN       NaN         NaN   \n23309       NaN         NaN       NaN         NaN       NaN         NaN   \n\n      quali_time sprint_date sprint_time   circuitRef        name_circuits  \\\n9613    14:00:00         NaN         NaN   yas_marina   Yas Marina Circuit   \n9614    14:00:00         NaN         NaN   yas_marina   Yas Marina Circuit   \n9624    14:00:00         NaN         NaN   yas_marina   Yas Marina Circuit   \n9623    14:00:00         NaN         NaN   yas_marina   Yas Marina Circuit   \n9622    14:00:00         NaN         NaN   yas_marina   Yas Marina Circuit   \n...          ...         ...         ...          ...                  ...   \n23318        NaN         NaN         NaN  silverstone  Silverstone Circuit   \n23319        NaN         NaN         NaN  silverstone  Silverstone Circuit   \n23320        NaN         NaN         NaN  silverstone  Silverstone Circuit   \n23321        NaN         NaN         NaN  silverstone  Silverstone Circuit   \n23309        NaN         NaN         NaN  silverstone  Silverstone Circuit   \n\n          location country      lat       lng    alt  \\\n9613     Abu Dhabi     UAE  24.4672  54.60310    3.0   \n9614     Abu Dhabi     UAE  24.4672  54.60310    3.0   \n9624     Abu Dhabi     UAE  24.4672  54.60310    3.0   \n9623     Abu Dhabi     UAE  24.4672  54.60310    3.0   \n9622     Abu Dhabi     UAE  24.4672  54.60310    3.0   \n...            ...     ...      ...       ...    ...   \n23318  Silverstone      UK  52.0786  -1.01694  153.0   \n23319  Silverstone      UK  52.0786  -1.01694  153.0   \n23320  Silverstone      UK  52.0786  -1.01694  153.0   \n23321  Silverstone      UK  52.0786  -1.01694  153.0   \n23309  Silverstone      UK  52.0786  -1.01694  153.0   \n\n                                           url_circuits constructorRef  \\\n9613    http://en.wikipedia.org/wiki/Yas_Marina_Circuit   aston_martin   \n9614    http://en.wikipedia.org/wiki/Yas_Marina_Circuit   aston_martin   \n9624    http://en.wikipedia.org/wiki/Yas_Marina_Circuit         alpine   \n9623    http://en.wikipedia.org/wiki/Yas_Marina_Circuit       williams   \n9622    http://en.wikipedia.org/wiki/Yas_Marina_Circuit       mercedes   \n...                                                 ...            ...   \n23318  http://en.wikipedia.org/wiki/Silverstone_Circuit           alfa   \n23319  http://en.wikipedia.org/wiki/Silverstone_Circuit           lago   \n23320  http://en.wikipedia.org/wiki/Silverstone_Circuit           lago   \n23321  http://en.wikipedia.org/wiki/Silverstone_Circuit           alta   \n23309  http://en.wikipedia.org/wiki/Silverstone_Circuit           alta   \n\n      name_constructors nationality_constructors  \\\n9613       Aston Martin                  British   \n9614       Aston Martin                  British   \n9624     Alpine F1 Team                   French   \n9623           Williams                  British   \n9622           Mercedes                   German   \n...                 ...                      ...   \n23318        Alfa Romeo                    Swiss   \n23319       Talbot-Lago                   French   \n23320       Talbot-Lago                   French   \n23321              Alta                  British   \n23309              Alta                  British   \n\n                                        url_constructors            status  \\\n9613   http://en.wikipedia.org/wiki/Aston_Martin_in_F...          Finished   \n9614   http://en.wikipedia.org/wiki/Aston_Martin_in_F...          Finished   \n9624         http://en.wikipedia.org/wiki/Alpine_F1_Team        Water leak   \n9623   http://en.wikipedia.org/wiki/Williams_Grand_Pr...  Collision damage   \n9622   http://en.wikipedia.org/wiki/Mercedes-Benz_in_...        Hydraulics   \n...                                                  ...               ...   \n23318  http://en.wikipedia.org/wiki/Alfa_Romeo_in_For...          Oil leak   \n23319           http://en.wikipedia.org/wiki/Talbot-Lago           +5 Laps   \n23320           http://en.wikipedia.org/wiki/Talbot-Lago      Oil pressure   \n23321  http://en.wikipedia.org/wiki/Alta_auto_racing_...    Not classified   \n23309  http://en.wikipedia.org/wiki/Alta_auto_racing_...      Transmission   \n\n       driverStandingsId  points_acc  position_acc positionText_acc  wins  \\\n9613               71824        37.0            12               12     0   \n9614               71815        18.0            15               15     0   \n9624               71812        81.0             9                9     0   \n9623               71819         2.0            20               20     0   \n9622               71806       240.0             6                6     0   \n...                  ...         ...           ...              ...   ...   \n23318              43212         0.0            13               13     0   \n23319              43208         0.0             8                8     0   \n23320              43219         0.0            20               20     0   \n23321              43213         0.0            14               14     0   \n23309              43216         0.0            17               17     0   \n\n       age weather_condition  humidity  wmo_code  temperature  \\\n9613    35               dry     59.33       0.0         28.0   \n9614    24               dry     59.33       0.0         28.0   \n9624    41               dry     59.33       0.0         28.0   \n9623    27               dry     59.33       0.0         28.0   \n9622    37               dry     59.33       0.0         28.0   \n...    ...               ...       ...       ...          ...   \n23318   38               dry     62.67       0.0         16.4   \n23319   53               dry     62.67       0.0         16.4   \n23320   35               dry     62.67       0.0         16.4   \n23321   37               dry     62.67       0.0         16.4   \n23309   29               dry     62.67       0.0         16.4   \n\n       faster_lap_circuit_ever  AvgGrid  AvgFn  wins_cum  \n9613                   86103.0     6.15   5.28     517.0  \n9614                   86103.0    13.80  11.37       0.0  \n9624                   86103.0     8.68   6.26     346.0  \n9623                   86103.0    16.67  15.43       0.0  \n9622                   86103.0     3.84   3.38    1008.0  \n...                        ...      ...    ...       ...  \n23318                      NaN     2.52   2.34      98.0  \n23319                      NaN    14.00   8.50       0.0  \n23320                      NaN     7.00    NaN       0.0  \n23321                      NaN    18.50    NaN       0.0  \n23309                      NaN    17.00    NaN       0.0  \n\n[25565 rows x 70 columns]",
      "text/html": "<div>\n<style scoped>\n    .dataframe tbody tr th:only-of-type {\n        vertical-align: middle;\n    }\n\n    .dataframe tbody tr th {\n        vertical-align: top;\n    }\n\n    .dataframe thead th {\n        text-align: right;\n    }\n</style>\n<table border=\"1\" class=\"dataframe\">\n  <thead>\n    <tr style=\"text-align: right;\">\n      <th></th>\n      <th>resultId</th>\n      <th>raceId</th>\n      <th>driverId</th>\n      <th>constructorId</th>\n      <th>number</th>\n      <th>grid</th>\n      <th>position</th>\n      <th>positionText</th>\n      <th>positionOrder</th>\n      <th>points</th>\n      <th>laps</th>\n      <th>time</th>\n      <th>milliseconds</th>\n      <th>fastestLap</th>\n      <th>rank</th>\n      <th>fastestLapTime</th>\n      <th>fastestLapSpeed</th>\n      <th>statusId</th>\n      <th>driverRef</th>\n      <th>number_drivers</th>\n      <th>code</th>\n      <th>forename</th>\n      <th>surname</th>\n      <th>dob</th>\n      <th>nationality</th>\n      <th>url</th>\n      <th>year</th>\n      <th>round</th>\n      <th>circuitId</th>\n      <th>name</th>\n      <th>date</th>\n      <th>time_races</th>\n      <th>url_races</th>\n      <th>fp1_date</th>\n      <th>fp1_time</th>\n      <th>fp2_date</th>\n      <th>fp2_time</th>\n      <th>fp3_date</th>\n      <th>fp3_time</th>\n      <th>quali_date</th>\n      <th>quali_time</th>\n      <th>sprint_date</th>\n      <th>sprint_time</th>\n      <th>circuitRef</th>\n      <th>name_circuits</th>\n      <th>location</th>\n      <th>country</th>\n      <th>lat</th>\n      <th>lng</th>\n      <th>alt</th>\n      <th>url_circuits</th>\n      <th>constructorRef</th>\n      <th>name_constructors</th>\n      <th>nationality_constructors</th>\n      <th>url_constructors</th>\n      <th>status</th>\n      <th>driverStandingsId</th>\n      <th>points_acc</th>\n      <th>position_acc</th>\n      <th>positionText_acc</th>\n      <th>wins</th>\n      <th>age</th>\n      <th>weather_condition</th>\n      <th>humidity</th>\n      <th>wmo_code</th>\n      <th>temperature</th>\n      <th>faster_lap_circuit_ever</th>\n      <th>AvgGrid</th>\n      <th>AvgFn</th>\n      <th>wins_cum</th>\n    </tr>\n  </thead>\n  <tbody>\n    <tr>\n      <th>9613</th>\n      <td>25835</td>\n      <td>1096</td>\n      <td>20</td>\n      <td>117</td>\n      <td>5</td>\n      <td>9</td>\n      <td>10.0</td>\n      <td>10</td>\n      <td>10</td>\n      <td>1.0</td>\n      <td>58</td>\n      <td>+1:23.898</td>\n      <td>5349812</td>\n      <td>35</td>\n      <td>15</td>\n      <td>1:30.312</td>\n      <td>210.510</td>\n      <td>1</td>\n      <td>vettel</td>\n      <td>5</td>\n      <td>VET</td>\n      <td>Sebastian</td>\n      <td>Vettel</td>\n      <td>1987-07-03</td>\n      <td>German</td>\n      <td>http://en.wikipedia.org/wiki/Sebastian_Vettel</td>\n      <td>2022</td>\n      <td>22</td>\n      <td>24</td>\n      <td>Abu Dhabi Grand Prix</td>\n      <td>2022-11-20</td>\n      <td>13:00:00</td>\n      <td>http://en.wikipedia.org/wiki/2022_Abu_Dhabi_Gr...</td>\n      <td>2022-11-18</td>\n      <td>10:00:00</td>\n      <td>2022-11-18</td>\n      <td>13:00:00</td>\n      <td>2022-11-19</td>\n      <td>11:00:00</td>\n      <td>2022-11-19</td>\n      <td>14:00:00</td>\n      <td>NaN</td>\n      <td>NaN</td>\n      <td>yas_marina</td>\n      <td>Yas Marina Circuit</td>\n      <td>Abu Dhabi</td>\n      <td>UAE</td>\n      <td>24.4672</td>\n      <td>54.60310</td>\n      <td>3.0</td>\n      <td>http://en.wikipedia.org/wiki/Yas_Marina_Circuit</td>\n      <td>aston_martin</td>\n      <td>Aston Martin</td>\n      <td>British</td>\n      <td>http://en.wikipedia.org/wiki/Aston_Martin_in_F...</td>\n      <td>Finished</td>\n      <td>71824</td>\n      <td>37.0</td>\n      <td>12</td>\n      <td>12</td>\n      <td>0</td>\n      <td>35</td>\n      <td>dry</td>\n      <td>59.33</td>\n      <td>0.0</td>\n      <td>28.0</td>\n      <td>86103.0</td>\n      <td>6.15</td>\n      <td>5.28</td>\n      <td>517.0</td>\n    </tr>\n    <tr>\n      <th>9614</th>\n      <td>25833</td>\n      <td>1096</td>\n      <td>840</td>\n      <td>117</td>\n      <td>18</td>\n      <td>14</td>\n      <td>8.0</td>\n      <td>8</td>\n      <td>8</td>\n      <td>4.0</td>\n      <td>58</td>\n      <td>+1:16.931</td>\n      <td>5342845</td>\n      <td>42</td>\n      <td>9</td>\n      <td>1:29.620</td>\n      <td>212.135</td>\n      <td>1</td>\n      <td>stroll</td>\n      <td>18</td>\n      <td>STR</td>\n      <td>Lance</td>\n      <td>Stroll</td>\n      <td>1998-10-29</td>\n      <td>Canadian</td>\n      <td>http://en.wikipedia.org/wiki/Lance_Stroll</td>\n      <td>2022</td>\n      <td>22</td>\n      <td>24</td>\n      <td>Abu Dhabi Grand Prix</td>\n      <td>2022-11-20</td>\n      <td>13:00:00</td>\n      <td>http://en.wikipedia.org/wiki/2022_Abu_Dhabi_Gr...</td>\n      <td>2022-11-18</td>\n      <td>10:00:00</td>\n      <td>2022-11-18</td>\n      <td>13:00:00</td>\n      <td>2022-11-19</td>\n      <td>11:00:00</td>\n      <td>2022-11-19</td>\n      <td>14:00:00</td>\n      <td>NaN</td>\n      <td>NaN</td>\n      <td>yas_marina</td>\n      <td>Yas Marina Circuit</td>\n      <td>Abu Dhabi</td>\n      <td>UAE</td>\n      <td>24.4672</td>\n      <td>54.60310</td>\n      <td>3.0</td>\n      <td>http://en.wikipedia.org/wiki/Yas_Marina_Circuit</td>\n      <td>aston_martin</td>\n      <td>Aston Martin</td>\n      <td>British</td>\n      <td>http://en.wikipedia.org/wiki/Aston_Martin_in_F...</td>\n      <td>Finished</td>\n      <td>71815</td>\n      <td>18.0</td>\n      <td>15</td>\n      <td>15</td>\n      <td>0</td>\n      <td>24</td>\n      <td>dry</td>\n      <td>59.33</td>\n      <td>0.0</td>\n      <td>28.0</td>\n      <td>86103.0</td>\n      <td>13.80</td>\n      <td>11.37</td>\n      <td>0.0</td>\n    </tr>\n    <tr>\n      <th>9624</th>\n      <td>25845</td>\n      <td>1096</td>\n      <td>4</td>\n      <td>214</td>\n      <td>14</td>\n      <td>10</td>\n      <td>NaN</td>\n      <td>R</td>\n      <td>20</td>\n      <td>0.0</td>\n      <td>27</td>\n      <td>NaN</td>\n      <td>NaN</td>\n      <td>24</td>\n      <td>17</td>\n      <td>1:30.579</td>\n      <td>209.889</td>\n      <td>47</td>\n      <td>alonso</td>\n      <td>14</td>\n      <td>ALO</td>\n      <td>Fernando</td>\n      <td>Alonso</td>\n      <td>1981-07-29</td>\n      <td>Spanish</td>\n      <td>http://en.wikipedia.org/wiki/Fernando_Alonso</td>\n      <td>2022</td>\n      <td>22</td>\n      <td>24</td>\n      <td>Abu Dhabi Grand Prix</td>\n      <td>2022-11-20</td>\n      <td>13:00:00</td>\n      <td>http://en.wikipedia.org/wiki/2022_Abu_Dhabi_Gr...</td>\n      <td>2022-11-18</td>\n      <td>10:00:00</td>\n      <td>2022-11-18</td>\n      <td>13:00:00</td>\n      <td>2022-11-19</td>\n      <td>11:00:00</td>\n      <td>2022-11-19</td>\n      <td>14:00:00</td>\n      <td>NaN</td>\n      <td>NaN</td>\n      <td>yas_marina</td>\n      <td>Yas Marina Circuit</td>\n      <td>Abu Dhabi</td>\n      <td>UAE</td>\n      <td>24.4672</td>\n      <td>54.60310</td>\n      <td>3.0</td>\n      <td>http://en.wikipedia.org/wiki/Yas_Marina_Circuit</td>\n      <td>alpine</td>\n      <td>Alpine F1 Team</td>\n      <td>French</td>\n      <td>http://en.wikipedia.org/wiki/Alpine_F1_Team</td>\n      <td>Water leak</td>\n      <td>71812</td>\n      <td>81.0</td>\n      <td>9</td>\n      <td>9</td>\n      <td>0</td>\n      <td>41</td>\n      <td>dry</td>\n      <td>59.33</td>\n      <td>0.0</td>\n      <td>28.0</td>\n      <td>86103.0</td>\n      <td>8.68</td>\n      <td>6.26</td>\n      <td>346.0</td>\n    </tr>\n    <tr>\n      <th>9623</th>\n      <td>25844</td>\n      <td>1096</td>\n      <td>849</td>\n      <td>3</td>\n      <td>6</td>\n      <td>20</td>\n      <td>19.0</td>\n      <td>19</td>\n      <td>19</td>\n      <td>0.0</td>\n      <td>55</td>\n      <td>NaN</td>\n      <td>NaN</td>\n      <td>45</td>\n      <td>14</td>\n      <td>1:30.309</td>\n      <td>210.517</td>\n      <td>130</td>\n      <td>latifi</td>\n      <td>6</td>\n      <td>LAT</td>\n      <td>Nicholas</td>\n      <td>Latifi</td>\n      <td>1995-06-29</td>\n      <td>Canadian</td>\n      <td>http://en.wikipedia.org/wiki/Nicholas_Latifi</td>\n      <td>2022</td>\n      <td>22</td>\n      <td>24</td>\n      <td>Abu Dhabi Grand Prix</td>\n      <td>2022-11-20</td>\n      <td>13:00:00</td>\n      <td>http://en.wikipedia.org/wiki/2022_Abu_Dhabi_Gr...</td>\n      <td>2022-11-18</td>\n      <td>10:00:00</td>\n      <td>2022-11-18</td>\n      <td>13:00:00</td>\n      <td>2022-11-19</td>\n      <td>11:00:00</td>\n      <td>2022-11-19</td>\n      <td>14:00:00</td>\n      <td>NaN</td>\n      <td>NaN</td>\n      <td>yas_marina</td>\n      <td>Yas Marina Circuit</td>\n      <td>Abu Dhabi</td>\n      <td>UAE</td>\n      <td>24.4672</td>\n      <td>54.60310</td>\n      <td>3.0</td>\n      <td>http://en.wikipedia.org/wiki/Yas_Marina_Circuit</td>\n      <td>williams</td>\n      <td>Williams</td>\n      <td>British</td>\n      <td>http://en.wikipedia.org/wiki/Williams_Grand_Pr...</td>\n      <td>Collision damage</td>\n      <td>71819</td>\n      <td>2.0</td>\n      <td>20</td>\n      <td>20</td>\n      <td>0</td>\n      <td>27</td>\n      <td>dry</td>\n      <td>59.33</td>\n      <td>0.0</td>\n      <td>28.0</td>\n      <td>86103.0</td>\n      <td>16.67</td>\n      <td>15.43</td>\n      <td>0.0</td>\n    </tr>\n    <tr>\n      <th>9622</th>\n      <td>25843</td>\n      <td>1096</td>\n      <td>1</td>\n      <td>131</td>\n      <td>44</td>\n      <td>5</td>\n      <td>18.0</td>\n      <td>18</td>\n      <td>18</td>\n      <td>0.0</td>\n      <td>55</td>\n      <td>NaN</td>\n      <td>NaN</td>\n      <td>42</td>\n      <td>11</td>\n      <td>1:29.788</td>\n      <td>211.738</td>\n      <td>9</td>\n      <td>hamilton</td>\n      <td>44</td>\n      <td>HAM</td>\n      <td>Lewis</td>\n      <td>Hamilton</td>\n      <td>1985-01-07</td>\n      <td>British</td>\n      <td>http://en.wikipedia.org/wiki/Lewis_Hamilton</td>\n      <td>2022</td>\n      <td>22</td>\n      <td>24</td>\n      <td>Abu Dhabi Grand Prix</td>\n      <td>2022-11-20</td>\n      <td>13:00:00</td>\n      <td>http://en.wikipedia.org/wiki/2022_Abu_Dhabi_Gr...</td>\n      <td>2022-11-18</td>\n      <td>10:00:00</td>\n      <td>2022-11-18</td>\n      <td>13:00:00</td>\n      <td>2022-11-19</td>\n      <td>11:00:00</td>\n      <td>2022-11-19</td>\n      <td>14:00:00</td>\n      <td>NaN</td>\n      <td>NaN</td>\n      <td>yas_marina</td>\n      <td>Yas Marina Circuit</td>\n      <td>Abu Dhabi</td>\n      <td>UAE</td>\n      <td>24.4672</td>\n      <td>54.60310</td>\n      <td>3.0</td>\n      <td>http://en.wikipedia.org/wiki/Yas_Marina_Circuit</td>\n      <td>mercedes</td>\n      <td>Mercedes</td>\n      <td>German</td>\n      <td>http://en.wikipedia.org/wiki/Mercedes-Benz_in_...</td>\n      <td>Hydraulics</td>\n      <td>71806</td>\n      <td>240.0</td>\n      <td>6</td>\n      <td>6</td>\n      <td>0</td>\n      <td>37</td>\n      <td>dry</td>\n      <td>59.33</td>\n      <td>0.0</td>\n      <td>28.0</td>\n      <td>86103.0</td>\n      <td>3.84</td>\n      <td>3.38</td>\n      <td>1008.0</td>\n    </tr>\n    <tr>\n      <th>...</th>\n      <td>...</td>\n      <td>...</td>\n      <td>...</td>\n      <td>...</td>\n      <td>...</td>\n      <td>...</td>\n      <td>...</td>\n      <td>...</td>\n      <td>...</td>\n      <td>...</td>\n      <td>...</td>\n      <td>...</td>\n      <td>...</td>\n      <td>...</td>\n      <td>...</td>\n      <td>...</td>\n      <td>...</td>\n      <td>...</td>\n      <td>...</td>\n      <td>...</td>\n      <td>...</td>\n      <td>...</td>\n      <td>...</td>\n      <td>...</td>\n      <td>...</td>\n      <td>...</td>\n      <td>...</td>\n      <td>...</td>\n      <td>...</td>\n      <td>...</td>\n      <td>...</td>\n      <td>...</td>\n      <td>...</td>\n      <td>...</td>\n      <td>...</td>\n      <td>...</td>\n      <td>...</td>\n      <td>...</td>\n      <td>...</td>\n      <td>...</td>\n      <td>...</td>\n      <td>...</td>\n      <td>...</td>\n      <td>...</td>\n      <td>...</td>\n      <td>...</td>\n      <td>...</td>\n      <td>...</td>\n      <td>...</td>\n      <td>...</td>\n      <td>...</td>\n      <td>...</td>\n      <td>...</td>\n      <td>...</td>\n      <td>...</td>\n      <td>...</td>\n      <td>...</td>\n      <td>...</td>\n      <td>...</td>\n      <td>...</td>\n      <td>...</td>\n      <td>...</td>\n      <td>...</td>\n      <td>...</td>\n      <td>...</td>\n      <td>...</td>\n      <td>...</td>\n      <td>...</td>\n      <td>...</td>\n      <td>...</td>\n    </tr>\n    <tr>\n      <th>23318</th>\n      <td>20036</td>\n      <td>833</td>\n      <td>579</td>\n      <td>51</td>\n      <td>1</td>\n      <td>3</td>\n      <td>NaN</td>\n      <td>R</td>\n      <td>12</td>\n      <td>0.0</td>\n      <td>62</td>\n      <td>NaN</td>\n      <td>NaN</td>\n      <td>NaN</td>\n      <td>NaN</td>\n      <td>NaN</td>\n      <td>NaN</td>\n      <td>44</td>\n      <td>fangio</td>\n      <td>NaN</td>\n      <td>NaN</td>\n      <td>Juan</td>\n      <td>Fangio</td>\n      <td>1911-06-24</td>\n      <td>Argentine</td>\n      <td>http://en.wikipedia.org/wiki/Juan_Manuel_Fangio</td>\n      <td>1950</td>\n      <td>1</td>\n      <td>9</td>\n      <td>British Grand Prix</td>\n      <td>1950-05-13</td>\n      <td>NaN</td>\n      <td>http://en.wikipedia.org/wiki/1950_British_Gran...</td>\n      <td>NaN</td>\n      <td>NaN</td>\n      <td>NaN</td>\n      <td>NaN</td>\n      <td>NaN</td>\n      <td>NaN</td>\n      <td>NaN</td>\n      <td>NaN</td>\n      <td>NaN</td>\n      <td>NaN</td>\n      <td>silverstone</td>\n      <td>Silverstone Circuit</td>\n      <td>Silverstone</td>\n      <td>UK</td>\n      <td>52.0786</td>\n      <td>-1.01694</td>\n      <td>153.0</td>\n      <td>http://en.wikipedia.org/wiki/Silverstone_Circuit</td>\n      <td>alfa</td>\n      <td>Alfa Romeo</td>\n      <td>Swiss</td>\n      <td>http://en.wikipedia.org/wiki/Alfa_Romeo_in_For...</td>\n      <td>Oil leak</td>\n      <td>43212</td>\n      <td>0.0</td>\n      <td>13</td>\n      <td>13</td>\n      <td>0</td>\n      <td>38</td>\n      <td>dry</td>\n      <td>62.67</td>\n      <td>0.0</td>\n      <td>16.4</td>\n      <td>NaN</td>\n      <td>2.52</td>\n      <td>2.34</td>\n      <td>98.0</td>\n    </tr>\n    <tr>\n      <th>23319</th>\n      <td>20032</td>\n      <td>833</td>\n      <td>741</td>\n      <td>154</td>\n      <td>16</td>\n      <td>14</td>\n      <td>8.0</td>\n      <td>8</td>\n      <td>8</td>\n      <td>0.0</td>\n      <td>65</td>\n      <td>NaN</td>\n      <td>NaN</td>\n      <td>NaN</td>\n      <td>NaN</td>\n      <td>NaN</td>\n      <td>NaN</td>\n      <td>15</td>\n      <td>etancelin</td>\n      <td>NaN</td>\n      <td>NaN</td>\n      <td>Philippe</td>\n      <td>Étancelin</td>\n      <td>1896-12-28</td>\n      <td>French</td>\n      <td>http://en.wikipedia.org/wiki/Philippe_%C3%89ta...</td>\n      <td>1950</td>\n      <td>1</td>\n      <td>9</td>\n      <td>British Grand Prix</td>\n      <td>1950-05-13</td>\n      <td>NaN</td>\n      <td>http://en.wikipedia.org/wiki/1950_British_Gran...</td>\n      <td>NaN</td>\n      <td>NaN</td>\n      <td>NaN</td>\n      <td>NaN</td>\n      <td>NaN</td>\n      <td>NaN</td>\n      <td>NaN</td>\n      <td>NaN</td>\n      <td>NaN</td>\n      <td>NaN</td>\n      <td>silverstone</td>\n      <td>Silverstone Circuit</td>\n      <td>Silverstone</td>\n      <td>UK</td>\n      <td>52.0786</td>\n      <td>-1.01694</td>\n      <td>153.0</td>\n      <td>http://en.wikipedia.org/wiki/Silverstone_Circuit</td>\n      <td>lago</td>\n      <td>Talbot-Lago</td>\n      <td>French</td>\n      <td>http://en.wikipedia.org/wiki/Talbot-Lago</td>\n      <td>+5 Laps</td>\n      <td>43208</td>\n      <td>0.0</td>\n      <td>8</td>\n      <td>8</td>\n      <td>0</td>\n      <td>53</td>\n      <td>dry</td>\n      <td>62.67</td>\n      <td>0.0</td>\n      <td>16.4</td>\n      <td>NaN</td>\n      <td>14.00</td>\n      <td>8.50</td>\n      <td>0.0</td>\n    </tr>\n    <tr>\n      <th>23320</th>\n      <td>20043</td>\n      <td>833</td>\n      <td>789</td>\n      <td>154</td>\n      <td>17</td>\n      <td>7</td>\n      <td>NaN</td>\n      <td>R</td>\n      <td>19</td>\n      <td>0.0</td>\n      <td>8</td>\n      <td>NaN</td>\n      <td>NaN</td>\n      <td>NaN</td>\n      <td>NaN</td>\n      <td>NaN</td>\n      <td>NaN</td>\n      <td>51</td>\n      <td>martin</td>\n      <td>NaN</td>\n      <td>NaN</td>\n      <td>Eugène</td>\n      <td>Martin</td>\n      <td>1915-03-24</td>\n      <td>French</td>\n      <td>http://en.wikipedia.org/wiki/Eug%C3%A8ne_Martin</td>\n      <td>1950</td>\n      <td>1</td>\n      <td>9</td>\n      <td>British Grand Prix</td>\n      <td>1950-05-13</td>\n      <td>NaN</td>\n      <td>http://en.wikipedia.org/wiki/1950_British_Gran...</td>\n      <td>NaN</td>\n      <td>NaN</td>\n      <td>NaN</td>\n      <td>NaN</td>\n      <td>NaN</td>\n      <td>NaN</td>\n      <td>NaN</td>\n      <td>NaN</td>\n      <td>NaN</td>\n      <td>NaN</td>\n      <td>silverstone</td>\n      <td>Silverstone Circuit</td>\n      <td>Silverstone</td>\n      <td>UK</td>\n      <td>52.0786</td>\n      <td>-1.01694</td>\n      <td>153.0</td>\n      <td>http://en.wikipedia.org/wiki/Silverstone_Circuit</td>\n      <td>lago</td>\n      <td>Talbot-Lago</td>\n      <td>French</td>\n      <td>http://en.wikipedia.org/wiki/Talbot-Lago</td>\n      <td>Oil pressure</td>\n      <td>43219</td>\n      <td>0.0</td>\n      <td>20</td>\n      <td>20</td>\n      <td>0</td>\n      <td>35</td>\n      <td>dry</td>\n      <td>62.67</td>\n      <td>0.0</td>\n      <td>16.4</td>\n      <td>NaN</td>\n      <td>7.00</td>\n      <td>NaN</td>\n      <td>0.0</td>\n    </tr>\n    <tr>\n      <th>23321</th>\n      <td>20037</td>\n      <td>833</td>\n      <td>776</td>\n      <td>126</td>\n      <td>23</td>\n      <td>19</td>\n      <td>NaN</td>\n      <td>N</td>\n      <td>13</td>\n      <td>0.0</td>\n      <td>57</td>\n      <td>NaN</td>\n      <td>NaN</td>\n      <td>NaN</td>\n      <td>NaN</td>\n      <td>NaN</td>\n      <td>NaN</td>\n      <td>62</td>\n      <td>kelly</td>\n      <td>NaN</td>\n      <td>NaN</td>\n      <td>Joe</td>\n      <td>Kelly</td>\n      <td>1913-03-13</td>\n      <td>Irish</td>\n      <td>http://en.wikipedia.org/wiki/Joe_Kelly_(Formul...</td>\n      <td>1950</td>\n      <td>1</td>\n      <td>9</td>\n      <td>British Grand Prix</td>\n      <td>1950-05-13</td>\n      <td>NaN</td>\n      <td>http://en.wikipedia.org/wiki/1950_British_Gran...</td>\n      <td>NaN</td>\n      <td>NaN</td>\n      <td>NaN</td>\n      <td>NaN</td>\n      <td>NaN</td>\n      <td>NaN</td>\n      <td>NaN</td>\n      <td>NaN</td>\n      <td>NaN</td>\n      <td>NaN</td>\n      <td>silverstone</td>\n      <td>Silverstone Circuit</td>\n      <td>Silverstone</td>\n      <td>UK</td>\n      <td>52.0786</td>\n      <td>-1.01694</td>\n      <td>153.0</td>\n      <td>http://en.wikipedia.org/wiki/Silverstone_Circuit</td>\n      <td>alta</td>\n      <td>Alta</td>\n      <td>British</td>\n      <td>http://en.wikipedia.org/wiki/Alta_auto_racing_...</td>\n      <td>Not classified</td>\n      <td>43213</td>\n      <td>0.0</td>\n      <td>14</td>\n      <td>14</td>\n      <td>0</td>\n      <td>37</td>\n      <td>dry</td>\n      <td>62.67</td>\n      <td>0.0</td>\n      <td>16.4</td>\n      <td>NaN</td>\n      <td>18.50</td>\n      <td>NaN</td>\n      <td>0.0</td>\n    </tr>\n    <tr>\n      <th>23309</th>\n      <td>20040</td>\n      <td>833</td>\n      <td>785</td>\n      <td>126</td>\n      <td>24</td>\n      <td>17</td>\n      <td>NaN</td>\n      <td>R</td>\n      <td>16</td>\n      <td>0.0</td>\n      <td>43</td>\n      <td>NaN</td>\n      <td>NaN</td>\n      <td>NaN</td>\n      <td>NaN</td>\n      <td>NaN</td>\n      <td>NaN</td>\n      <td>7</td>\n      <td>crossley</td>\n      <td>NaN</td>\n      <td>NaN</td>\n      <td>Geoff</td>\n      <td>Crossley</td>\n      <td>1921-05-11</td>\n      <td>British</td>\n      <td>http://en.wikipedia.org/wiki/Geoff_Crossley</td>\n      <td>1950</td>\n      <td>1</td>\n      <td>9</td>\n      <td>British Grand Prix</td>\n      <td>1950-05-13</td>\n      <td>NaN</td>\n      <td>http://en.wikipedia.org/wiki/1950_British_Gran...</td>\n      <td>NaN</td>\n      <td>NaN</td>\n      <td>NaN</td>\n      <td>NaN</td>\n      <td>NaN</td>\n      <td>NaN</td>\n      <td>NaN</td>\n      <td>NaN</td>\n      <td>NaN</td>\n      <td>NaN</td>\n      <td>silverstone</td>\n      <td>Silverstone Circuit</td>\n      <td>Silverstone</td>\n      <td>UK</td>\n      <td>52.0786</td>\n      <td>-1.01694</td>\n      <td>153.0</td>\n      <td>http://en.wikipedia.org/wiki/Silverstone_Circuit</td>\n      <td>alta</td>\n      <td>Alta</td>\n      <td>British</td>\n      <td>http://en.wikipedia.org/wiki/Alta_auto_racing_...</td>\n      <td>Transmission</td>\n      <td>43216</td>\n      <td>0.0</td>\n      <td>17</td>\n      <td>17</td>\n      <td>0</td>\n      <td>29</td>\n      <td>dry</td>\n      <td>62.67</td>\n      <td>0.0</td>\n      <td>16.4</td>\n      <td>NaN</td>\n      <td>17.00</td>\n      <td>NaN</td>\n      <td>0.0</td>\n    </tr>\n  </tbody>\n</table>\n<p>25565 rows × 70 columns</p>\n</div>"
     },
     "execution_count": 238,
     "metadata": {},
     "output_type": "execute_result"
    }
   ],
   "source": [
    "df.sort_values(by='date', ascending=False)"
   ]
  },
  {
   "cell_type": "code",
   "execution_count": null,
   "outputs": [],
   "source": [],
   "metadata": {
    "collapsed": false
   }
  }
 ],
 "metadata": {
  "kernelspec": {
   "display_name": "Python 3 (ipykernel)",
   "language": "python",
   "name": "python3"
  },
  "language_info": {
   "codemirror_mode": {
    "name": "ipython",
    "version": 3
   },
   "file_extension": ".py",
   "mimetype": "text/x-python",
   "name": "python",
   "nbconvert_exporter": "python",
   "pygments_lexer": "ipython3",
   "version": "3.9.6"
  }
 },
 "nbformat": 4,
 "nbformat_minor": 1
}
