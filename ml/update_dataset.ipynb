{
 "cells": [
  {
   "cell_type": "code",
   "execution_count": 2,
   "metadata": {
    "collapsed": true,
    "ExecuteTime": {
     "end_time": "2023-06-26T19:22:23.495220Z",
     "start_time": "2023-06-26T19:22:23.287338Z"
    }
   },
   "outputs": [],
   "source": [
    "import pandas as pd"
   ]
  },
  {
   "cell_type": "code",
   "execution_count": 3,
   "outputs": [],
   "source": [
    "results = pd.read_csv('../data/ergast/results_update.csv')\n",
    "race = pd.read_csv('../data/ergast/races.csv')\n",
    "circuits = pd.read_csv('../data/ergast/circuits.csv')\n",
    "df = pd.merge(results, race, on='raceId')\n",
    "df = pd.merge(df, circuits, on='circuitId')"
   ],
   "metadata": {
    "collapsed": false,
    "ExecuteTime": {
     "end_time": "2023-06-26T19:22:24.030677Z",
     "start_time": "2023-06-26T19:22:23.978517Z"
    }
   }
  },
  {
   "cell_type": "code",
   "execution_count": 4,
   "outputs": [
    {
     "data": {
      "text/plain": "       year        date                 name_x\n0      2008  2008-03-16  Australian Grand Prix\n1      2008  2008-03-16  Australian Grand Prix\n2      2008  2008-03-16  Australian Grand Prix\n3      2008  2008-03-16  Australian Grand Prix\n4      2008  2008-03-16  Australian Grand Prix\n...     ...         ...                    ...\n25995  2023  2023-05-07       Miami Grand Prix\n25996  2023  2023-05-07       Miami Grand Prix\n25997  2023  2023-05-07       Miami Grand Prix\n25998  2023  2023-05-07       Miami Grand Prix\n25999  2023  2023-05-07       Miami Grand Prix\n\n[26000 rows x 3 columns]",
      "text/html": "<div>\n<style scoped>\n    .dataframe tbody tr th:only-of-type {\n        vertical-align: middle;\n    }\n\n    .dataframe tbody tr th {\n        vertical-align: top;\n    }\n\n    .dataframe thead th {\n        text-align: right;\n    }\n</style>\n<table border=\"1\" class=\"dataframe\">\n  <thead>\n    <tr style=\"text-align: right;\">\n      <th></th>\n      <th>year</th>\n      <th>date</th>\n      <th>name_x</th>\n    </tr>\n  </thead>\n  <tbody>\n    <tr>\n      <th>0</th>\n      <td>2008</td>\n      <td>2008-03-16</td>\n      <td>Australian Grand Prix</td>\n    </tr>\n    <tr>\n      <th>1</th>\n      <td>2008</td>\n      <td>2008-03-16</td>\n      <td>Australian Grand Prix</td>\n    </tr>\n    <tr>\n      <th>2</th>\n      <td>2008</td>\n      <td>2008-03-16</td>\n      <td>Australian Grand Prix</td>\n    </tr>\n    <tr>\n      <th>3</th>\n      <td>2008</td>\n      <td>2008-03-16</td>\n      <td>Australian Grand Prix</td>\n    </tr>\n    <tr>\n      <th>4</th>\n      <td>2008</td>\n      <td>2008-03-16</td>\n      <td>Australian Grand Prix</td>\n    </tr>\n    <tr>\n      <th>...</th>\n      <td>...</td>\n      <td>...</td>\n      <td>...</td>\n    </tr>\n    <tr>\n      <th>25995</th>\n      <td>2023</td>\n      <td>2023-05-07</td>\n      <td>Miami Grand Prix</td>\n    </tr>\n    <tr>\n      <th>25996</th>\n      <td>2023</td>\n      <td>2023-05-07</td>\n      <td>Miami Grand Prix</td>\n    </tr>\n    <tr>\n      <th>25997</th>\n      <td>2023</td>\n      <td>2023-05-07</td>\n      <td>Miami Grand Prix</td>\n    </tr>\n    <tr>\n      <th>25998</th>\n      <td>2023</td>\n      <td>2023-05-07</td>\n      <td>Miami Grand Prix</td>\n    </tr>\n    <tr>\n      <th>25999</th>\n      <td>2023</td>\n      <td>2023-05-07</td>\n      <td>Miami Grand Prix</td>\n    </tr>\n  </tbody>\n</table>\n<p>26000 rows × 3 columns</p>\n</div>"
     },
     "execution_count": 4,
     "metadata": {},
     "output_type": "execute_result"
    }
   ],
   "source": [
    "df[['year','date','name_x']]"
   ],
   "metadata": {
    "collapsed": false,
    "ExecuteTime": {
     "end_time": "2023-06-26T19:22:43.328373Z",
     "start_time": "2023-06-26T19:22:43.307279Z"
    }
   }
  },
  {
   "cell_type": "code",
   "execution_count": null,
   "outputs": [],
   "source": [],
   "metadata": {
    "collapsed": false
   }
  }
 ],
 "metadata": {
  "kernelspec": {
   "display_name": "Python 3",
   "language": "python",
   "name": "python3"
  },
  "language_info": {
   "codemirror_mode": {
    "name": "ipython",
    "version": 2
   },
   "file_extension": ".py",
   "mimetype": "text/x-python",
   "name": "python",
   "nbconvert_exporter": "python",
   "pygments_lexer": "ipython2",
   "version": "2.7.6"
  }
 },
 "nbformat": 4,
 "nbformat_minor": 0
}
