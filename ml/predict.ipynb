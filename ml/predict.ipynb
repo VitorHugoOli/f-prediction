{
 "cells": [
  {
   "cell_type": "code",
   "execution_count": 7,
   "metadata": {
    "collapsed": true,
    "ExecuteTime": {
     "end_time": "2023-06-27T02:52:51.853292Z",
     "start_time": "2023-06-27T02:52:51.849130Z"
    }
   },
   "outputs": [],
   "source": [
    "import pandas as pd\n",
    "from datetime import datetime"
   ]
  },
  {
   "cell_type": "code",
   "execution_count": 8,
   "outputs": [],
   "source": [
    "races = pd.read_csv('../data/ergast/races.csv')\n",
    "circuits = pd.read_csv('../data/ergast/circuits.csv')\n",
    "results = pd.read_csv('../data/ergast/results.csv')"
   ],
   "metadata": {
    "collapsed": false,
    "ExecuteTime": {
     "end_time": "2023-06-27T02:52:52.285883Z",
     "start_time": "2023-06-27T02:52:52.267773Z"
    }
   }
  },
  {
   "cell_type": "code",
   "execution_count": 9,
   "outputs": [],
   "source": [
    "races['date'] = pd.to_datetime(races.date)\n",
    "race_next = races.loc[races.date > datetime.now()].sort_values(by='date')\n",
    "race_next = pd.merge(race_next, circuits, on='circuitId')\n",
    "\n",
    "# get drivers from last result\n",
    "last_race = race_next[:1].raceId[0] - 1\n",
    "drivers = results.loc[results.raceId == last_race]['driverId'].unique()"
   ],
   "metadata": {
    "collapsed": false,
    "ExecuteTime": {
     "end_time": "2023-06-27T02:52:52.699377Z",
     "start_time": "2023-06-27T02:52:52.696026Z"
    }
   }
  },
  {
   "cell_type": "code",
   "execution_count": 10,
   "outputs": [],
   "source": [
    "# circuitId, country_circuit, height, nationality_constructors, points_season, position_season, wins_season, age, weather_condition, humidity, temperature, AvgGrid, AvgFn, wins_acc"
   ],
   "metadata": {
    "collapsed": false,
    "ExecuteTime": {
     "end_time": "2023-06-27T06:37:39.701323Z",
     "start_time": "2023-06-27T06:37:39.697056Z"
    }
   }
  },
  {
   "cell_type": "code",
   "execution_count": null,
   "outputs": [],
   "source": [
    "from datetime import datetime\n",
    "\n",
    "races['date'] = pd.to_datetime(races.date)\n",
    "race_next = races.loc[races.date > datetime.now()].sort_values(by='date')\n",
    "race_next = pd.merge(race_next, circuits, on='circuitId')\n",
    "\n",
    "# get last row\n",
    "race_next = race_next.iloc[0]\n",
    "drivers_next = [842, 815, 4, 844, 840, 858, 825, 852, 848, 855, 807, 839, 830, 846, 1, 856, 832, 847, 822, 857]\n",
    "\n",
    "# get the drivers\n",
    "info_new = df_clean.loc[df_clean['driverId'].isin(drivers_next)].sort_values(by='date')\n",
    "\n",
    "info_new\n",
    "import numpy as np\n",
    "\n",
    "rank = {}\n",
    "for i in drivers_next:\n",
    "    try:\n",
    "        temp = info_new.loc[info_new['driverId'] == i].iloc[0]\n",
    "        temp.circuitId = race_next.circuitId\n",
    "        temp.country_circuit = country_encoder.index(race_next.country)\n",
    "        temp.height = race_next.alt\n",
    "        # rain 67.66666666666667 23.066666666666666\n",
    "        temp.weather_condition = le.transform(['rain'])[0]\n",
    "        temp.humidity = 67.67\n",
    "        temp.temperature = 23.07\n",
    "        stay = set(temp.index) - {'driverId', 'faster_lap_circuit_ever', 'date', 'position'}\n",
    "        temp.round = race_next.round\n",
    "        temp = temp[list(stay)]\n",
    "        if np.isnan(temp.AvgFn):\n",
    "            temp.AvgFn = 10.0\n",
    "\n",
    "        if i == 830:\n",
    "            temp.wins_acc = 34\n",
    "            temp.wins_season = 14\n",
    "            temp.AvgFn = 1.0\n",
    "            temp.points_season = 100\n",
    "            print(temp)\n",
    "\n",
    "        if i == 825:\n",
    "            print(temp)\n",
    "\n",
    "        df_temp = pd.DataFrame([temp], columns=temp.index)\n",
    "        # order columns to['constructorId', 'laps', 'nationality', 'round', 'circuitId', 'country_circuit', 'height', 'nationality_constructors', 'points_season', 'position_season', 'wins_season', 'age', 'weather_condition', 'humidity', 'temperature', 'AvgGrid', 'AvgFn', 'wins_acc']\n",
    "\n",
    "        df_temp = df_temp[['constructorId', 'laps', 'nationality', 'round', 'circuitId', 'country_circuit', 'height',\n",
    "                           'nationality_constructors', 'points_season', 'position_season', 'wins_season', 'age',\n",
    "                           'weather_condition', 'humidity', 'temperature', 'AvgGrid', 'AvgFn', 'wins_acc']]\n",
    "\n",
    "        rank[i] = float(model_eval.predict(df_temp)[0])\n",
    "    except:\n",
    "        print(\"Failed to predict driver: \", i)\n",
    "        continue\n",
    "\n",
    "# sort the rank by value\n",
    "rank = dict(sorted(rank.items(), key=lambda item: item[1]))\n",
    "\n",
    "for i in rank:\n",
    "    print(drivers.loc[drivers.driverId == i].iloc[0].forename, drivers.loc[drivers.driverId == i].iloc[0].surname,\n",
    "          rank[i])\n",
    "    rank[i] = {\n",
    "        \"name\": drivers.loc[drivers.driverId == i].iloc[0].forename + \" \" + drivers.loc[drivers.driverId == i].iloc[\n",
    "            0].surname,\n",
    "        \"rank\": rank[i]\n",
    "    }\n",
    "\n",
    "# save the rank\n",
    "import json\n",
    "\n",
    "with open('../result/rank.json', 'w') as fp:\n",
    "    json.dump(rank, fp)\n",
    "import requests\n",
    "\n",
    "# forecast\n",
    "url = \"https://api.open-meteo.com/v1/forecast\"\n",
    "params = {\n",
    "    \"latitude\": race_next[\"lat\"],\n",
    "    \"longitude\": race_next[\"lng\"],\n",
    "    \"start_date\": race_next[\"date\"].strftime(\"%Y-%m-%d\"),\n",
    "    \"end_date\": race_next[\"date\"].strftime(\"%Y-%m-%d\"),\n",
    "    \"hourly\": \"relativehumidity_2m,weathercode,temperature_2m\"\n",
    "}\n",
    "\n",
    "response = requests.get(url, params=params)\n",
    "print(response.url)\n",
    "data = response.json()\n",
    "\n",
    "race_next['time']\n",
    "df.sort_values(by='date', ascending=False)"
   ],
   "metadata": {
    "collapsed": false
   }
  }
 ],
 "metadata": {
  "kernelspec": {
   "display_name": "Python 3",
   "language": "python",
   "name": "python3"
  },
  "language_info": {
   "codemirror_mode": {
    "name": "ipython",
    "version": 2
   },
   "file_extension": ".py",
   "mimetype": "text/x-python",
   "name": "python",
   "nbconvert_exporter": "python",
   "pygments_lexer": "ipython2",
   "version": "2.7.6"
  }
 },
 "nbformat": 4,
 "nbformat_minor": 0
}
