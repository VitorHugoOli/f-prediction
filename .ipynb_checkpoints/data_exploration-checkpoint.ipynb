{
 "cells": [
  {
   "cell_type": "markdown",
   "metadata": {},
   "source": [
    "# 1. Ideia inicial\n",
    "\n",
    "Será feita um regressão de probabilidade de vitoria do piloto. Assim, vamos dar uma probabilidade de vitoria para os 10 primeiros colocados de 100% a 0%, para o primeiro ao ultimo colocado, respectivamente.\n",
    "- Os dados serão agregados por driver_standings.\n",
    "- Serão criados 3 modelos um para antes da corrida, outro apos as qualificações e outro durante a corrida.\n",
    "    - Antes: só vai levar em considerações os dados da pista e do piloto.\n",
    "    - Qualificação: vai levar em consideração os dados da pista, do piloto e da qualificação(tempos de volta).\n",
    "    - Corrida: vai levar em consideração os dados da pista, do piloto, da qualificação e da corrida(melhor volta, voltas lideradas, pit stops, etc)."
   ]
  },
  {
   "cell_type": "code",
   "execution_count": 1,
   "metadata": {
    "ExecuteTime": {
     "end_time": "2023-06-21T00:33:31.791490Z",
     "start_time": "2023-06-21T00:33:31.321773Z"
    },
    "collapsed": true
   },
   "outputs": [],
   "source": [
    "import pandas as pd\n",
    "import numpy\n",
    "\n",
    "pd.set_option('display.max_columns', None)\n",
    "\n",
    "path = 'data/ergast/'\n",
    "circuits = pd.read_csv(path + 'circuits.csv')\n",
    "constructor_results = pd.read_csv(path + 'constructor_results.csv')\n",
    "constructor_standings = pd.read_csv(path + 'constructor_standings.csv')\n",
    "constructors = pd.read_csv(path + 'constructors.csv')\n",
    "driver_standings = pd.read_csv(path + 'driver_standings.csv')\n",
    "drivers = pd.read_csv(path + 'drivers.csv')\n",
    "lap_times = pd.read_csv(path + 'lap_times.csv')\n",
    "pit_stops = pd.read_csv(path + 'pit_stops.csv')\n",
    "qualifying = pd.read_csv(path + 'qualifying.csv')\n",
    "races = pd.read_csv(path + 'races.csv')\n",
    "results = pd.read_csv(path + 'results.csv')\n",
    "seasons = pd.read_csv(path + 'seasons.csv')\n",
    "sprint_results = pd.read_csv(path + 'sprint_results.csv')\n",
    "status = pd.read_csv(path + 'status.csv')"
   ]
  },
  {
   "cell_type": "code",
   "execution_count": 2,
   "metadata": {
    "ExecuteTime": {
     "end_time": "2023-06-21T00:33:31.870756Z",
     "start_time": "2023-06-21T00:33:31.793098Z"
    }
   },
   "outputs": [],
   "source": [
    "df = pd.merge(results, drivers, on='driverId', suffixes=(\"\", \"_drivers\"))\n",
    "df = pd.merge(df, races, on='raceId', suffixes=(\"\", \"_races\"))\n",
    "df = pd.merge(df, circuits, on='circuitId', suffixes=(\"\", \"_circuits\"))\n",
    "df = pd.merge(df, constructors, on='constructorId', suffixes=(\"\", \"_constructors\"))\n",
    "df = pd.merge(df, status, on='statusId')\n",
    "df = pd.merge(df, driver_standings, on=['raceId', 'driverId'], suffixes=(\"\", \"_acc\"))"
   ]
  },
  {
   "cell_type": "code",
   "execution_count": 3,
   "metadata": {
    "ExecuteTime": {
     "end_time": "2023-06-21T00:33:32.171251Z",
     "start_time": "2023-06-21T00:33:31.870997Z"
    }
   },
   "outputs": [],
   "source": [
    "df.to_csv('data/partial/all.csv', index=False)"
   ]
  },
  {
   "cell_type": "code",
   "execution_count": 4,
   "metadata": {
    "ExecuteTime": {
     "end_time": "2023-06-21T00:33:32.531520Z",
     "start_time": "2023-06-21T00:33:32.172585Z"
    }
   },
   "outputs": [],
   "source": [
    "df_laps = pd.merge(lap_times, races, on=\"raceId\", suffixes=(\"\", \"_race\"))\n",
    "df_laps = pd.merge(df_laps, circuits, on=\"circuitId\", suffixes=(\"\", \"_circuits\"))\n",
    "df_laps['date'] = pd.to_datetime(df_laps['date'])"
   ]
  },
  {
   "cell_type": "code",
   "execution_count": 5,
   "metadata": {
    "ExecuteTime": {
     "end_time": "2023-06-21T00:34:04.639779Z",
     "start_time": "2023-06-21T00:33:32.536930Z"
    }
   },
   "outputs": [
    {
     "ename": "KeyError",
     "evalue": "\"['resultId' 'position' 'positionText' 'points' 'fastestLap' 'time'\\n 'milliseconds' 'fastestLapSpeed' 'fastestLapTime' 'rank' 'raceId' 'year'\\n 'date' 'time_races' 'name' 'url_races' 'driverId' 'driverRef'\\n 'number_drivers' 'dob' 'code' 'url' 'forename' 'surname'\\n 'driverStandingsId' 'number' 'positionText_acc' 'fp1_time' 'fp1_date'\\n 'fp2_time' 'fp2_date' 'fp3_time' 'fp3_date' 'quali_time' 'quali_date'\\n 'sprint_date' 'sprint_time' 'constructorRef' 'name_constructors'\\n 'url_constructors' 'circuitRef' 'name_circuits' 'location' 'url_circuits'\\n 'lat' 'lng' 'wmo_code'] not found in axis\"",
     "output_type": "error",
     "traceback": [
      "\u001b[0;31m---------------------------------------------------------------------------\u001b[0m",
      "\u001b[0;31mKeyError\u001b[0m                                  Traceback (most recent call last)",
      "Cell \u001b[0;32mIn[5], line 127\u001b[0m\n\u001b[1;32m    118\u001b[0m \u001b[38;5;66;03m# drop columns\u001b[39;00m\n\u001b[1;32m    119\u001b[0m clean_important \u001b[38;5;241m=\u001b[39m [\n\u001b[1;32m    120\u001b[0m     \u001b[38;5;124m'\u001b[39m\u001b[38;5;124mgrid\u001b[39m\u001b[38;5;124m'\u001b[39m,\n\u001b[1;32m    121\u001b[0m     \u001b[38;5;124m'\u001b[39m\u001b[38;5;124mposition\u001b[39m\u001b[38;5;124m'\u001b[39m,  \u001b[38;5;66;03m# postion at te race\u001b[39;00m\n\u001b[0;32m   (...)\u001b[0m\n\u001b[1;32m    124\u001b[0m     \u001b[38;5;124m'\u001b[39m\u001b[38;5;124mstatus\u001b[39m\u001b[38;5;124m'\u001b[39m,\n\u001b[1;32m    125\u001b[0m ]\n\u001b[0;32m--> 127\u001b[0m \u001b[43mdf\u001b[49m\u001b[38;5;241;43m.\u001b[39;49m\u001b[43mdrop\u001b[49m\u001b[43m(\u001b[49m\u001b[43mcolumns\u001b[49m\u001b[38;5;241;43m=\u001b[39;49m\u001b[43mclean\u001b[49m\u001b[43m,\u001b[49m\u001b[43m \u001b[49m\u001b[43minplace\u001b[49m\u001b[38;5;241;43m=\u001b[39;49m\u001b[38;5;28;43;01mTrue\u001b[39;49;00m\u001b[43m)\u001b[49m\n",
      "File \u001b[0;32m~/Desktop/mestrado/eam_venv/lib/python3.9/site-packages/pandas/util/_decorators.py:331\u001b[0m, in \u001b[0;36mdeprecate_nonkeyword_arguments.<locals>.decorate.<locals>.wrapper\u001b[0;34m(*args, **kwargs)\u001b[0m\n\u001b[1;32m    325\u001b[0m \u001b[38;5;28;01mif\u001b[39;00m \u001b[38;5;28mlen\u001b[39m(args) \u001b[38;5;241m>\u001b[39m num_allow_args:\n\u001b[1;32m    326\u001b[0m     warnings\u001b[38;5;241m.\u001b[39mwarn(\n\u001b[1;32m    327\u001b[0m         msg\u001b[38;5;241m.\u001b[39mformat(arguments\u001b[38;5;241m=\u001b[39m_format_argument_list(allow_args)),\n\u001b[1;32m    328\u001b[0m         \u001b[38;5;167;01mFutureWarning\u001b[39;00m,\n\u001b[1;32m    329\u001b[0m         stacklevel\u001b[38;5;241m=\u001b[39mfind_stack_level(),\n\u001b[1;32m    330\u001b[0m     )\n\u001b[0;32m--> 331\u001b[0m \u001b[38;5;28;01mreturn\u001b[39;00m \u001b[43mfunc\u001b[49m\u001b[43m(\u001b[49m\u001b[38;5;241;43m*\u001b[39;49m\u001b[43margs\u001b[49m\u001b[43m,\u001b[49m\u001b[43m \u001b[49m\u001b[38;5;241;43m*\u001b[39;49m\u001b[38;5;241;43m*\u001b[39;49m\u001b[43mkwargs\u001b[49m\u001b[43m)\u001b[49m\n",
      "File \u001b[0;32m~/Desktop/mestrado/eam_venv/lib/python3.9/site-packages/pandas/core/frame.py:5399\u001b[0m, in \u001b[0;36mDataFrame.drop\u001b[0;34m(self, labels, axis, index, columns, level, inplace, errors)\u001b[0m\n\u001b[1;32m   5251\u001b[0m \u001b[38;5;129m@deprecate_nonkeyword_arguments\u001b[39m(version\u001b[38;5;241m=\u001b[39m\u001b[38;5;28;01mNone\u001b[39;00m, allowed_args\u001b[38;5;241m=\u001b[39m[\u001b[38;5;124m\"\u001b[39m\u001b[38;5;124mself\u001b[39m\u001b[38;5;124m\"\u001b[39m, \u001b[38;5;124m\"\u001b[39m\u001b[38;5;124mlabels\u001b[39m\u001b[38;5;124m\"\u001b[39m])\n\u001b[1;32m   5252\u001b[0m \u001b[38;5;28;01mdef\u001b[39;00m \u001b[38;5;21mdrop\u001b[39m(  \u001b[38;5;66;03m# type: ignore[override]\u001b[39;00m\n\u001b[1;32m   5253\u001b[0m     \u001b[38;5;28mself\u001b[39m,\n\u001b[0;32m   (...)\u001b[0m\n\u001b[1;32m   5260\u001b[0m     errors: IgnoreRaise \u001b[38;5;241m=\u001b[39m \u001b[38;5;124m\"\u001b[39m\u001b[38;5;124mraise\u001b[39m\u001b[38;5;124m\"\u001b[39m,\n\u001b[1;32m   5261\u001b[0m ) \u001b[38;5;241m-\u001b[39m\u001b[38;5;241m>\u001b[39m DataFrame \u001b[38;5;241m|\u001b[39m \u001b[38;5;28;01mNone\u001b[39;00m:\n\u001b[1;32m   5262\u001b[0m \u001b[38;5;250m    \u001b[39m\u001b[38;5;124;03m\"\"\"\u001b[39;00m\n\u001b[1;32m   5263\u001b[0m \u001b[38;5;124;03m    Drop specified labels from rows or columns.\u001b[39;00m\n\u001b[1;32m   5264\u001b[0m \n\u001b[0;32m   (...)\u001b[0m\n\u001b[1;32m   5397\u001b[0m \u001b[38;5;124;03m            weight  1.0     0.8\u001b[39;00m\n\u001b[1;32m   5398\u001b[0m \u001b[38;5;124;03m    \"\"\"\u001b[39;00m\n\u001b[0;32m-> 5399\u001b[0m     \u001b[38;5;28;01mreturn\u001b[39;00m \u001b[38;5;28;43msuper\u001b[39;49m\u001b[43m(\u001b[49m\u001b[43m)\u001b[49m\u001b[38;5;241;43m.\u001b[39;49m\u001b[43mdrop\u001b[49m\u001b[43m(\u001b[49m\n\u001b[1;32m   5400\u001b[0m \u001b[43m        \u001b[49m\u001b[43mlabels\u001b[49m\u001b[38;5;241;43m=\u001b[39;49m\u001b[43mlabels\u001b[49m\u001b[43m,\u001b[49m\n\u001b[1;32m   5401\u001b[0m \u001b[43m        \u001b[49m\u001b[43maxis\u001b[49m\u001b[38;5;241;43m=\u001b[39;49m\u001b[43maxis\u001b[49m\u001b[43m,\u001b[49m\n\u001b[1;32m   5402\u001b[0m \u001b[43m        \u001b[49m\u001b[43mindex\u001b[49m\u001b[38;5;241;43m=\u001b[39;49m\u001b[43mindex\u001b[49m\u001b[43m,\u001b[49m\n\u001b[1;32m   5403\u001b[0m \u001b[43m        \u001b[49m\u001b[43mcolumns\u001b[49m\u001b[38;5;241;43m=\u001b[39;49m\u001b[43mcolumns\u001b[49m\u001b[43m,\u001b[49m\n\u001b[1;32m   5404\u001b[0m \u001b[43m        \u001b[49m\u001b[43mlevel\u001b[49m\u001b[38;5;241;43m=\u001b[39;49m\u001b[43mlevel\u001b[49m\u001b[43m,\u001b[49m\n\u001b[1;32m   5405\u001b[0m \u001b[43m        \u001b[49m\u001b[43minplace\u001b[49m\u001b[38;5;241;43m=\u001b[39;49m\u001b[43minplace\u001b[49m\u001b[43m,\u001b[49m\n\u001b[1;32m   5406\u001b[0m \u001b[43m        \u001b[49m\u001b[43merrors\u001b[49m\u001b[38;5;241;43m=\u001b[39;49m\u001b[43merrors\u001b[49m\u001b[43m,\u001b[49m\n\u001b[1;32m   5407\u001b[0m \u001b[43m    \u001b[49m\u001b[43m)\u001b[49m\n",
      "File \u001b[0;32m~/Desktop/mestrado/eam_venv/lib/python3.9/site-packages/pandas/util/_decorators.py:331\u001b[0m, in \u001b[0;36mdeprecate_nonkeyword_arguments.<locals>.decorate.<locals>.wrapper\u001b[0;34m(*args, **kwargs)\u001b[0m\n\u001b[1;32m    325\u001b[0m \u001b[38;5;28;01mif\u001b[39;00m \u001b[38;5;28mlen\u001b[39m(args) \u001b[38;5;241m>\u001b[39m num_allow_args:\n\u001b[1;32m    326\u001b[0m     warnings\u001b[38;5;241m.\u001b[39mwarn(\n\u001b[1;32m    327\u001b[0m         msg\u001b[38;5;241m.\u001b[39mformat(arguments\u001b[38;5;241m=\u001b[39m_format_argument_list(allow_args)),\n\u001b[1;32m    328\u001b[0m         \u001b[38;5;167;01mFutureWarning\u001b[39;00m,\n\u001b[1;32m    329\u001b[0m         stacklevel\u001b[38;5;241m=\u001b[39mfind_stack_level(),\n\u001b[1;32m    330\u001b[0m     )\n\u001b[0;32m--> 331\u001b[0m \u001b[38;5;28;01mreturn\u001b[39;00m \u001b[43mfunc\u001b[49m\u001b[43m(\u001b[49m\u001b[38;5;241;43m*\u001b[39;49m\u001b[43margs\u001b[49m\u001b[43m,\u001b[49m\u001b[43m \u001b[49m\u001b[38;5;241;43m*\u001b[39;49m\u001b[38;5;241;43m*\u001b[39;49m\u001b[43mkwargs\u001b[49m\u001b[43m)\u001b[49m\n",
      "File \u001b[0;32m~/Desktop/mestrado/eam_venv/lib/python3.9/site-packages/pandas/core/generic.py:4505\u001b[0m, in \u001b[0;36mNDFrame.drop\u001b[0;34m(self, labels, axis, index, columns, level, inplace, errors)\u001b[0m\n\u001b[1;32m   4503\u001b[0m \u001b[38;5;28;01mfor\u001b[39;00m axis, labels \u001b[38;5;129;01min\u001b[39;00m axes\u001b[38;5;241m.\u001b[39mitems():\n\u001b[1;32m   4504\u001b[0m     \u001b[38;5;28;01mif\u001b[39;00m labels \u001b[38;5;129;01mis\u001b[39;00m \u001b[38;5;129;01mnot\u001b[39;00m \u001b[38;5;28;01mNone\u001b[39;00m:\n\u001b[0;32m-> 4505\u001b[0m         obj \u001b[38;5;241m=\u001b[39m \u001b[43mobj\u001b[49m\u001b[38;5;241;43m.\u001b[39;49m\u001b[43m_drop_axis\u001b[49m\u001b[43m(\u001b[49m\u001b[43mlabels\u001b[49m\u001b[43m,\u001b[49m\u001b[43m \u001b[49m\u001b[43maxis\u001b[49m\u001b[43m,\u001b[49m\u001b[43m \u001b[49m\u001b[43mlevel\u001b[49m\u001b[38;5;241;43m=\u001b[39;49m\u001b[43mlevel\u001b[49m\u001b[43m,\u001b[49m\u001b[43m \u001b[49m\u001b[43merrors\u001b[49m\u001b[38;5;241;43m=\u001b[39;49m\u001b[43merrors\u001b[49m\u001b[43m)\u001b[49m\n\u001b[1;32m   4507\u001b[0m \u001b[38;5;28;01mif\u001b[39;00m inplace:\n\u001b[1;32m   4508\u001b[0m     \u001b[38;5;28mself\u001b[39m\u001b[38;5;241m.\u001b[39m_update_inplace(obj)\n",
      "File \u001b[0;32m~/Desktop/mestrado/eam_venv/lib/python3.9/site-packages/pandas/core/generic.py:4575\u001b[0m, in \u001b[0;36mNDFrame._drop_axis\u001b[0;34m(self, labels, axis, level, errors, only_slice)\u001b[0m\n\u001b[1;32m   4573\u001b[0m     labels_missing \u001b[38;5;241m=\u001b[39m (axis\u001b[38;5;241m.\u001b[39mget_indexer_for(labels) \u001b[38;5;241m==\u001b[39m \u001b[38;5;241m-\u001b[39m\u001b[38;5;241m1\u001b[39m)\u001b[38;5;241m.\u001b[39many()\n\u001b[1;32m   4574\u001b[0m     \u001b[38;5;28;01mif\u001b[39;00m errors \u001b[38;5;241m==\u001b[39m \u001b[38;5;124m\"\u001b[39m\u001b[38;5;124mraise\u001b[39m\u001b[38;5;124m\"\u001b[39m \u001b[38;5;129;01mand\u001b[39;00m labels_missing:\n\u001b[0;32m-> 4575\u001b[0m         \u001b[38;5;28;01mraise\u001b[39;00m \u001b[38;5;167;01mKeyError\u001b[39;00m(\u001b[38;5;124mf\u001b[39m\u001b[38;5;124m\"\u001b[39m\u001b[38;5;132;01m{\u001b[39;00mlabels\u001b[38;5;132;01m}\u001b[39;00m\u001b[38;5;124m not found in axis\u001b[39m\u001b[38;5;124m\"\u001b[39m)\n\u001b[1;32m   4577\u001b[0m \u001b[38;5;28;01mif\u001b[39;00m is_extension_array_dtype(mask\u001b[38;5;241m.\u001b[39mdtype):\n\u001b[1;32m   4578\u001b[0m     \u001b[38;5;66;03m# GH#45860\u001b[39;00m\n\u001b[1;32m   4579\u001b[0m     mask \u001b[38;5;241m=\u001b[39m mask\u001b[38;5;241m.\u001b[39mto_numpy(dtype\u001b[38;5;241m=\u001b[39m\u001b[38;5;28mbool\u001b[39m)\n",
      "\u001b[0;31mKeyError\u001b[0m: \"['resultId' 'position' 'positionText' 'points' 'fastestLap' 'time'\\n 'milliseconds' 'fastestLapSpeed' 'fastestLapTime' 'rank' 'raceId' 'year'\\n 'date' 'time_races' 'name' 'url_races' 'driverId' 'driverRef'\\n 'number_drivers' 'dob' 'code' 'url' 'forename' 'surname'\\n 'driverStandingsId' 'number' 'positionText_acc' 'fp1_time' 'fp1_date'\\n 'fp2_time' 'fp2_date' 'fp3_time' 'fp3_date' 'quali_time' 'quali_date'\\n 'sprint_date' 'sprint_time' 'constructorRef' 'name_constructors'\\n 'url_constructors' 'circuitRef' 'name_circuits' 'location' 'url_circuits'\\n 'lat' 'lng' 'wmo_code'] not found in axis\""
     ]
    }
   ],
   "source": [
    "from concurrent.futures import ThreadPoolExecutor\n",
    "\n",
    "df['dob'] = pd.to_datetime(df['dob'])\n",
    "df['date'] = pd.to_datetime(df['date'])\n",
    "# Calculate age compare to date\n",
    "df['age'] = (df['date'] - df['dob']).dt.days / 365\n",
    "df['age'] = df['age'].astype(int)\n",
    "\n",
    "# set nulll where \\N\n",
    "df = df.replace('\\\\N', numpy.nan)\n",
    "\n",
    "# made fp\n",
    "# df['drive_make_fp'] = df['fp1_time'].notnull() | df['fp2_time'].notnull() | df['fp3_time'].notnull()\n",
    "\n",
    "weather = pd.read_csv('data/weather.csv')\n",
    "df = df.merge(weather, on=['raceId'])\n",
    "\n",
    "# round to 2 decimal humidity and temperature\n",
    "df['humidity'] = df['humidity'].round(2)\n",
    "df['temperature'] = df['temperature'].round(2)\n",
    "\n",
    "\n",
    "\n",
    "# based on table lap_times find the best milliseconds, that a reace made on a circuit, before a specificy race\n",
    "# def best_lap_time(raceId, circuitId, race_date):\n",
    "#     return df_laps[\n",
    "#         (df_laps['raceId'] < raceId) & (df_laps['circuitId'] == circuitId) & (df_laps['date'] < race_date)][\n",
    "#         'milliseconds'].min()\n",
    "#\n",
    "#\n",
    "# df['faster_circuito_all'] = df.apply(lambda x: best_lap_time(x['raceId'], x['circuitId'], x['date']), axis=1)\n",
    "\n",
    "# based on table lap_times find the best milliseconds, that a reace made on a circuit, before a specificy race\n",
    "def best_lap_time(raceId, circuitId, race_date):\n",
    "    return df_laps[\n",
    "        (df_laps['raceId'] < raceId) & (df_laps['circuitId'] == circuitId) & (df_laps['date'] < race_date)][\n",
    "        'milliseconds'].min()\n",
    "\n",
    "def get_best_lap_time(row):\n",
    "    return best_lap_time(row['raceId'], row['circuitId'], row['date'])\n",
    "\n",
    "with ThreadPoolExecutor() as executor:\n",
    "    df['faster_lap_circuit_ever'] = list(executor.map(get_best_lap_time, df.to_dict('records')))\n",
    "\n",
    "\n",
    "# AvGrid - Average grid position\n",
    "# AvFn - Average finishing position\n",
    "\n",
    "\n",
    "\n",
    "\n",
    "\n",
    "clean = [\n",
    "    'resultId',\n",
    "    'position',\n",
    "    'positionText',\n",
    "    'points',\n",
    "    'fastestLap',\n",
    "    'time', # time to finish the race\n",
    "    'milliseconds', # time in milisecond to finish the race\n",
    "    'fastestLapSpeed',\n",
    "    'fastestLapTime',\n",
    "    'rank', # rank of fast lap in a race\n",
    "\n",
    "    'raceId',\n",
    "    'year',\n",
    "    'date',\n",
    "    'time_races',\n",
    "    'name',  #Nome do grand pix\n",
    "    'url_races',\n",
    "\n",
    "    'driverId',\n",
    "    'driverRef',\n",
    "    'number_drivers',\n",
    "    'dob',\n",
    "    'code',\n",
    "    'url',\n",
    "    'forename',\n",
    "    'surname',\n",
    "\n",
    "    'driverStandingsId',\n",
    "    'number',  # car number\n",
    "    'positionText_acc',  # position acumulated unit a race\n",
    "\n",
    "    'fp1_time',\n",
    "    'fp1_date',\n",
    "    'fp2_time',\n",
    "    'fp2_date',\n",
    "    'fp3_time',\n",
    "    'fp3_date',\n",
    "\n",
    "    'quali_time',\n",
    "    'quali_date',\n",
    "    'sprint_date',\n",
    "    'sprint_time',\n",
    "\n",
    "    'constructorRef',\n",
    "    'name_constructors',\n",
    "    'url_constructors',\n",
    "\n",
    "    'circuitRef',\n",
    "    'name_circuits',\n",
    "    'location',\n",
    "    'url_circuits',\n",
    "\n",
    "    'lat',\n",
    "    'lng',\n",
    "\n",
    "    'wmo_code'\n",
    "]\n",
    "\n",
    "# rename positionText_acc: position_acc, positionText: position\n",
    "df = df.rename(\n",
    "    columns={'positionOrder': 'position', 'points_acc': 'points_season', 'position_acc': 'position_season',\n",
    "             'wins': 'wins_season', 'alt': 'height', 'milliseconds': 'finish_time'\n",
    "             })\n",
    "\n",
    "# drop columns\n",
    "clean_important = [\n",
    "    'grid',\n",
    "    'position',  # postion at te race\n",
    "    'points',  # points gain at the race\n",
    "    'statusId',\n",
    "    'status',\n",
    "]\n",
    "\n",
    "df.drop(columns=clean, inplace=True)"
   ]
  },
  {
   "cell_type": "code",
   "execution_count": 105,
   "metadata": {
    "ExecuteTime": {
     "end_time": "2023-06-21T00:24:36.778120Z",
     "start_time": "2023-06-21T00:24:36.677690Z"
    }
   },
   "outputs": [],
   "source": [
    "df.to_csv('data/partial/clean.csv', index=False)"
   ]
  },
  {
   "cell_type": "code",
   "execution_count": 106,
   "metadata": {
    "ExecuteTime": {
     "end_time": "2023-06-21T00:24:41.615821Z",
     "start_time": "2023-06-21T00:24:41.608364Z"
    }
   },
   "outputs": [
    {
     "data": {
      "text/plain": [
       "Index(['constructorId', 'grid', 'laps', 'finish_time', 'rank', 'statusId',\n",
       "       'nationality', 'round', 'circuitId', 'country', 'height',\n",
       "       'nationality_constructors', 'status', 'points_season',\n",
       "       'position_season', 'wins_season', 'age', 'weather_condition',\n",
       "       'humidity', 'temperature', 'faster_circuito_all'],\n",
       "      dtype='object')"
      ]
     },
     "execution_count": 106,
     "metadata": {},
     "output_type": "execute_result"
    }
   ],
   "source": [
    "df.columns"
   ]
  },
  {
   "cell_type": "code",
   "execution_count": 47,
   "metadata": {
    "ExecuteTime": {
     "end_time": "2023-06-20T23:43:40.621316Z",
     "start_time": "2023-06-20T23:35:08.710562Z"
    }
   },
   "outputs": [
    {
     "data": {
      "application/vnd.jupyter.widget-view+json": {
       "model_id": "f0c772377e864003ba00a18b87b79e2d",
       "version_major": 2,
       "version_minor": 0
      },
      "text/plain": [
       "Summarize dataset:   0%|          | 0/5 [00:00<?, ?it/s]"
      ]
     },
     "metadata": {},
     "output_type": "display_data"
    },
    {
     "name": "stderr",
     "output_type": "stream",
     "text": [
      "/Users/vitor/Desktop/mestrado/eam_venv/lib/python3.9/site-packages/scipy/stats/_stats_py.py:112: RuntimeWarning: The input array could not be properly checked for nan values. nan values will be ignored.\n",
      "  warnings.warn(\"The input array could not be properly \"\n",
      "/Users/vitor/Desktop/mestrado/eam_venv/lib/python3.9/site-packages/scipy/stats/_stats_py.py:112: RuntimeWarning: The input array could not be properly checked for nan values. nan values will be ignored.\n",
      "  warnings.warn(\"The input array could not be properly \"\n",
      "/Users/vitor/Desktop/mestrado/eam_venv/lib/python3.9/site-packages/scipy/stats/_stats_py.py:112: RuntimeWarning: The input array could not be properly checked for nan values. nan values will be ignored.\n",
      "  warnings.warn(\"The input array could not be properly \"\n",
      "/Users/vitor/Desktop/mestrado/eam_venv/lib/python3.9/site-packages/scipy/stats/_stats_py.py:112: RuntimeWarning: The input array could not be properly checked for nan values. nan values will be ignored.\n",
      "  warnings.warn(\"The input array could not be properly \"\n",
      "/Users/vitor/Desktop/mestrado/eam_venv/lib/python3.9/site-packages/scipy/stats/_stats_py.py:112: RuntimeWarning: The input array could not be properly checked for nan values. nan values will be ignored.\n",
      "  warnings.warn(\"The input array could not be properly \"\n",
      "/Users/vitor/Desktop/mestrado/eam_venv/lib/python3.9/site-packages/scipy/stats/_stats_py.py:112: RuntimeWarning: The input array could not be properly checked for nan values. nan values will be ignored.\n",
      "  warnings.warn(\"The input array could not be properly \"\n",
      "/Users/vitor/Desktop/mestrado/eam_venv/lib/python3.9/site-packages/scipy/stats/_stats_py.py:112: RuntimeWarning: The input array could not be properly checked for nan values. nan values will be ignored.\n",
      "  warnings.warn(\"The input array could not be properly \"\n",
      "/Users/vitor/Desktop/mestrado/eam_venv/lib/python3.9/site-packages/scipy/stats/_stats_py.py:112: RuntimeWarning: The input array could not be properly checked for nan values. nan values will be ignored.\n",
      "  warnings.warn(\"The input array could not be properly \"\n",
      "/Users/vitor/Desktop/mestrado/eam_venv/lib/python3.9/site-packages/scipy/stats/_stats_py.py:112: RuntimeWarning: The input array could not be properly checked for nan values. nan values will be ignored.\n",
      "  warnings.warn(\"The input array could not be properly \"\n"
     ]
    },
    {
     "data": {
      "application/vnd.jupyter.widget-view+json": {
       "model_id": "be13eab216314a6fb7e6c91ac862dd4b",
       "version_major": 2,
       "version_minor": 0
      },
      "text/plain": [
       "Generate report structure:   0%|          | 0/1 [00:00<?, ?it/s]"
      ]
     },
     "metadata": {},
     "output_type": "display_data"
    },
    {
     "data": {
      "application/vnd.jupyter.widget-view+json": {
       "model_id": "e8374d6613e14950b329de52506b74bf",
       "version_major": 2,
       "version_minor": 0
      },
      "text/plain": [
       "Render HTML:   0%|          | 0/1 [00:00<?, ?it/s]"
      ]
     },
     "metadata": {},
     "output_type": "display_data"
    },
    {
     "data": {
      "application/vnd.jupyter.widget-view+json": {
       "model_id": "e3877ab6d3674a468062cf952bfb6d28",
       "version_major": 2,
       "version_minor": 0
      },
      "text/plain": [
       "Export report to file:   0%|          | 0/1 [00:00<?, ?it/s]"
      ]
     },
     "metadata": {},
     "output_type": "display_data"
    }
   ],
   "source": [
    "from ydata_profiling import ProfileReport\n",
    "\n",
    "profile = ProfileReport(df, title='Pandas Profiling Report', )\n",
    "profile.to_file(\"profile/final.html\")"
   ]
  },
  {
   "cell_type": "markdown",
   "metadata": {},
   "source": [
    "Based on the date of each date calculate te cumulative, WIN,PODIUM,POLE,LAPS,LED,POINTS, RANK, AVST, AVFN, RAF, LLF, DNQ, WD.\n",
    "\n",
    "Pole - Poles won (won in qualifying only)\n",
    "Laps - Laps completed\n",
    "Led - Laps led\n",
    "Earnings - Total money won for the season (includes bonuses)\n",
    "Rank - Points rank at the end of the season\n",
    "AvSt - Average starting position\n",
    "AvFn - Average finishing position\n",
    "RAF - Number of times Running At Finish (DNFs = Races - RAF)\n",
    "Miles - Miles raced\n",
    "LLF - Lead lap finishes\n",
    "DNQ - Races for which the driver Did Not Qualify\n",
    "WD - Withdrew\n",
    "h"
   ]
  },
  {
   "cell_type": "code",
   "execution_count": null,
   "metadata": {},
   "outputs": [],
   "source": [
    "df.to_csv('data/partial/all.csv')\n",
    "\n",
    "# filter for forename Fernando and output it to csv\n",
    "df[df['forename'] == 'Fernando'].to_csv('data/partial/fernando.csv')"
   ]
  },
  {
   "cell_type": "code",
   "execution_count": null,
   "metadata": {},
   "outputs": [],
   "source": [
    "alonso = df[df['forename'] == 'Fernando']\n",
    "\n",
    "# filter by 2001\n",
    "alonso[alonso['year'] == 2003]\n"
   ]
  },
  {
   "cell_type": "code",
   "execution_count": null,
   "metadata": {},
   "outputs": [],
   "source": [
    "df['date'] = pd.to_datetime(df['date'])\n",
    "df['year'] = df['date'].dt.year\n",
    "df['month'] = df['date'].dt.month\n",
    "\n",
    "df['cumulative'] = df.groupby(['year', 'driverId'])['points'].cumsum()\n",
    "\n",
    "df['win'] = df['positionOrder'].apply(lambda x: 1 if x == 1 else 0)\n",
    "\n",
    "df['podium'] = df['positionOrder'].apply(lambda x: 1 if x <= 3 else 0)\n",
    "\n",
    "df['pole'] = df['grid'].apply(lambda x: 1 if x == 1 else 0)\n",
    "\n",
    "df['laps'] = df['laps']\n",
    "\n",
    "df['led'] = df['positionOrder'].apply(lambda x: 1 if x == 1 else 0)\n",
    "\n",
    "df['points'] = df['points']\n",
    "\n",
    "df['rank'] = df['position']\n",
    "\n",
    "df['avst'] = df.groupby(['year', 'driverId'])['grid'].transform('mean')\n",
    "\n",
    "df['avfn'] = df.groupby(['year', 'driverId'])['positionOrder'].transform('mean')\n",
    "\n",
    "df['raf'] = df['positionOrder'].apply(lambda x: 1 if x > 0 else 0)\n",
    "\n",
    "df['llf'] = df['positionOrder'].apply(lambda x: 1 if x <= 1 else 0)\n",
    "\n",
    "df['dnq'] = df['positionOrder'].apply(lambda x: 1 if x == 0 else 0)\n",
    "\n",
    "df['wd'] = df['positionOrder'].apply(lambda x: 1 if x == 0 else 0)"
   ]
  },
  {
   "cell_type": "code",
   "execution_count": null,
   "metadata": {},
   "outputs": [],
   "source": []
  }
 ],
 "metadata": {
  "kernelspec": {
   "display_name": "Python 3 (ipykernel)",
   "language": "python",
   "name": "python3"
  },
  "language_info": {
   "codemirror_mode": {
    "name": "ipython",
    "version": 3
   },
   "file_extension": ".py",
   "mimetype": "text/x-python",
   "name": "python",
   "nbconvert_exporter": "python",
   "pygments_lexer": "ipython3",
   "version": "3.9.6"
  }
 },
 "nbformat": 4,
 "nbformat_minor": 1
}
